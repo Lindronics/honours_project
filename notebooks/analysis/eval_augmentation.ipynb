{
  "nbformat": 4,
  "nbformat_minor": 0,
  "metadata": {
    "colab": {
      "name": "Animal_classifier_8_Augmentation.ipynb",
      "provenance": [],
      "collapsed_sections": [],
      "toc_visible": true,
      "machine_shape": "hm",
      "authorship_tag": "ABX9TyMF3pvoR+R+006+eOmws11A",
      "include_colab_link": true
    },
    "kernelspec": {
      "name": "python3",
      "display_name": "Python 3"
    },
    "accelerator": "GPU"
  },
  "cells": [
    {
      "cell_type": "markdown",
      "metadata": {
        "id": "view-in-github",
        "colab_type": "text"
      },
      "source": [
        "<a href=\"https://colab.research.google.com/github/Lindronics/honours_project/blob/master/notebooks/analysis/Animal_classifier_8_Augmentation.ipynb\" target=\"_parent\"><img src=\"https://colab.research.google.com/assets/colab-badge.svg\" alt=\"Open In Colab\"/></a>"
      ]
    },
    {
      "cell_type": "markdown",
      "metadata": {
        "id": "zKD9-Xjxozx5",
        "colab_type": "text"
      },
      "source": [
        "# Animal classifier"
      ]
    },
    {
      "cell_type": "markdown",
      "metadata": {
        "id": "NaVAfT8wo1ne",
        "colab_type": "text"
      },
      "source": [
        "## Setup and imports\n",
        "\n"
      ]
    },
    {
      "cell_type": "code",
      "metadata": {
        "id": "b-NO7a-T9eav",
        "colab_type": "code",
        "colab": {}
      },
      "source": [
        "%tensorflow_version 2.x"
      ],
      "execution_count": 0,
      "outputs": []
    },
    {
      "cell_type": "code",
      "metadata": {
        "id": "uwYBOVFf7HyN",
        "colab_type": "code",
        "outputId": "ca05b47e-de26-44cb-eaa8-d2b88f509a23",
        "colab": {
          "base_uri": "https://localhost:8080/",
          "height": 632
        }
      },
      "source": [
        "!rm -rf /content/*\n",
        "!wget --no-check-certificate -O animals_train_final.zip \"https://onedrive.live.com/download?cid=5691066189D062AB&resid=5691066189D062AB%21230244&authkey=ALJGkjjp2SmxjW4\"\n",
        "!wget --no-check-certificate -O animals_test_final.zip \"https://onedrive.live.com/download?cid=5691066189D062AB&resid=5691066189D062AB%21230243&authkey=ADV07tX3wXwmS7I\"\n",
        "print(\"=> Fetched data\")\n",
        "!unzip -q animals_train_final.zip\n",
        "print(\"=> Unzipped train data\")\n",
        "!unzip -q animals_test_final.zip\n",
        "print(\"=> Unzipped test data\")"
      ],
      "execution_count": 4,
      "outputs": [
        {
          "output_type": "stream",
          "text": [
            "--2020-03-31 08:37:53--  https://onedrive.live.com/download?cid=5691066189D062AB&resid=5691066189D062AB%21230244&authkey=ALJGkjjp2SmxjW4\n",
            "Resolving onedrive.live.com (onedrive.live.com)... 13.107.42.13\n",
            "Connecting to onedrive.live.com (onedrive.live.com)|13.107.42.13|:443... connected.\n",
            "HTTP request sent, awaiting response... 302 Found\n",
            "Location: https://qr7pug.am.files.1drv.com/y4mX92nEoGzZ6FWkKf0VRbIFloXMnMj5eCibHtNKD0r0Jh01amNahqpyqYGALUgG-o5znNXG0QWB0oIA8bNii4oBB29CcRQ4YqVrDK6vLJmemI0tOMevS89_dbhLMWJOIeQGoZPy0Vm92ZrBCs7p8q19FiFVkSIQPDyvmpbF3Qxq6ggsPFYiPyG47dsPY0qaoRZz83nifizSuCoUG9tpxcr8Q/animals_train_final.zip?download&psid=1 [following]\n",
            "--2020-03-31 08:37:53--  https://qr7pug.am.files.1drv.com/y4mX92nEoGzZ6FWkKf0VRbIFloXMnMj5eCibHtNKD0r0Jh01amNahqpyqYGALUgG-o5znNXG0QWB0oIA8bNii4oBB29CcRQ4YqVrDK6vLJmemI0tOMevS89_dbhLMWJOIeQGoZPy0Vm92ZrBCs7p8q19FiFVkSIQPDyvmpbF3Qxq6ggsPFYiPyG47dsPY0qaoRZz83nifizSuCoUG9tpxcr8Q/animals_train_final.zip?download&psid=1\n",
            "Resolving qr7pug.am.files.1drv.com (qr7pug.am.files.1drv.com)... 13.107.42.12\n",
            "Connecting to qr7pug.am.files.1drv.com (qr7pug.am.files.1drv.com)|13.107.42.12|:443... connected.\n",
            "HTTP request sent, awaiting response... 200 OK\n",
            "Length: 155895344 (149M) [application/zip]\n",
            "Saving to: ‘animals_train_final.zip’\n",
            "\n",
            "animals_train_final 100%[===================>] 148.67M  20.6MB/s    in 11s     \n",
            "\n",
            "2020-03-31 08:38:05 (13.4 MB/s) - ‘animals_train_final.zip’ saved [155895344/155895344]\n",
            "\n",
            "--2020-03-31 08:38:07--  https://onedrive.live.com/download?cid=5691066189D062AB&resid=5691066189D062AB%21230243&authkey=ADV07tX3wXwmS7I\n",
            "Resolving onedrive.live.com (onedrive.live.com)... 13.107.42.13\n",
            "Connecting to onedrive.live.com (onedrive.live.com)|13.107.42.13|:443... connected.\n",
            "HTTP request sent, awaiting response... 302 Found\n",
            "Location: https://exzgog.am.files.1drv.com/y4myG0SFMNdkEQtclp16yywYo4NCMVtglMTdqK7Mivv9DzDyJNlRKCj2q3PGLOYJ8xqARcdUZ1MHBnOiHDXcjKL39EC_8rm-V9eox2_7f88TaMyQcTr-mBSqWMmbNZDO2Pf0RUJi_MftAnAANe8JKND7Aa8u19V3NVFvHRkFRxuQ0L8iUlLTTUK9r0lvQ0tEjS0WacgehVNk1YT-wBAGKNCdA/animals_test_final.zip?download&psid=1 [following]\n",
            "--2020-03-31 08:38:07--  https://exzgog.am.files.1drv.com/y4myG0SFMNdkEQtclp16yywYo4NCMVtglMTdqK7Mivv9DzDyJNlRKCj2q3PGLOYJ8xqARcdUZ1MHBnOiHDXcjKL39EC_8rm-V9eox2_7f88TaMyQcTr-mBSqWMmbNZDO2Pf0RUJi_MftAnAANe8JKND7Aa8u19V3NVFvHRkFRxuQ0L8iUlLTTUK9r0lvQ0tEjS0WacgehVNk1YT-wBAGKNCdA/animals_test_final.zip?download&psid=1\n",
            "Resolving exzgog.am.files.1drv.com (exzgog.am.files.1drv.com)... 13.107.42.12\n",
            "Connecting to exzgog.am.files.1drv.com (exzgog.am.files.1drv.com)|13.107.42.12|:443... connected.\n",
            "HTTP request sent, awaiting response... 200 OK\n",
            "Length: 41832178 (40M) [application/zip]\n",
            "Saving to: ‘animals_test_final.zip’\n",
            "\n",
            "animals_test_final. 100%[===================>]  39.89M  11.8MB/s    in 3.4s    \n",
            "\n",
            "2020-03-31 08:38:11 (11.8 MB/s) - ‘animals_test_final.zip’ saved [41832178/41832178]\n",
            "\n",
            "=> Fetched data\n",
            "=> Unzipped train data\n",
            "=> Unzipped test data\n"
          ],
          "name": "stdout"
        }
      ]
    },
    {
      "cell_type": "code",
      "metadata": {
        "id": "vwT_rfCiTbrJ",
        "colab_type": "code",
        "outputId": "21df9c67-8be2-4817-cc88-1689d963bf33",
        "colab": {
          "base_uri": "https://localhost:8080/",
          "height": 136
        }
      },
      "source": [
        "!rm -rf honours_project\n",
        "!git clone https://github.com/Lindronics/honours_project\n",
        "!cp honours_project/models/classification/trans_cfg.py .\n",
        "!cp honours_project/preprocessing/generate_labels.py ."
      ],
      "execution_count": 3,
      "outputs": [
        {
          "output_type": "stream",
          "text": [
            "Cloning into 'honours_project'...\n",
            "remote: Enumerating objects: 297, done.\u001b[K\n",
            "remote: Counting objects: 100% (297/297), done.\u001b[K\n",
            "remote: Compressing objects: 100% (227/227), done.\u001b[K\n",
            "remote: Total 1721 (delta 160), reused 193 (delta 68), pack-reused 1424\u001b[K\n",
            "Receiving objects: 100% (1721/1721), 76.28 MiB | 28.49 MiB/s, done.\n",
            "Resolving deltas: 100% (930/930), done.\n"
          ],
          "name": "stdout"
        }
      ]
    },
    {
      "cell_type": "code",
      "metadata": {
        "id": "AiAumFqNEZ1X",
        "colab_type": "code",
        "colab": {}
      },
      "source": [
        "import cv2\n",
        "import numpy as np\n",
        "import matplotlib.pyplot as plt\n",
        "from sklearn.model_selection import train_test_split\n",
        "import tensorflow as tf\n",
        "import tensorflow.keras as K\n",
        "from tensorflow.keras.preprocessing.image import ImageDataGenerator\n",
        "from sklearn.metrics import classification_report, confusion_matrix\n",
        "import seaborn as sns; sns.set()\n",
        "import os\n",
        "from os import listdir\n",
        "from os.path import isdir, join\n",
        "import shutil\n",
        "from tqdm import tqdm\n",
        "from datetime import datetime\n",
        "import random\n",
        "\n",
        "from itertools import count\n",
        "from collections import defaultdict\n",
        "\n",
        "from honours_project.models.classification.models import AbstractModel, ResNet\n",
        "from honours_project.models.classification.dataset import Dataset"
      ],
      "execution_count": 0,
      "outputs": []
    },
    {
      "cell_type": "code",
      "metadata": {
        "id": "QnNZbAncEewp",
        "colab_type": "code",
        "outputId": "7e78334f-1908-4300-b658-119d9484420f",
        "colab": {
          "base_uri": "https://localhost:8080/",
          "height": 374
        }
      },
      "source": [
        "from honours_project.preprocessing.generate_labels import generate_labels, write_labels\n",
        "from honours_project.preprocessing.augment import augment_dataset\n",
        "\n",
        "filter_fn = lambda _: True\n",
        "\n",
        "write_labels(generate_labels(filter_fn, \"animals_test_final/images\", channel_prefix=False), \"animals_test_final/labels.txt\")\n",
        "\n",
        "train_labels = generate_labels(filter_fn, \"animals_train_final/images\", channel_prefix=False)\n",
        "write_labels(train_labels, \"animals_train_final/labels_1.txt\")\n",
        "\n",
        "write_labels(augment_dataset(train_labels, \"animals_train_final/images_2\", 2), \"animals_train_final/labels_2.txt\")\n",
        "write_labels(augment_dataset(train_labels, \"animals_train_final/images_5\", 5), \"animals_train_final/labels_5.txt\")"
      ],
      "execution_count": 3,
      "outputs": [
        {
          "output_type": "stream",
          "text": [
            "\r  0%|          | 0/2396 [00:00<?, ?it/s]"
          ],
          "name": "stderr"
        },
        {
          "output_type": "stream",
          "text": [
            "Dataset composition:\n",
            " - silkie-chicken: \t81\n",
            " - hamburg-chicken: \t60\n",
            " - goose: \t100\n",
            " - chicken: \t119\n",
            " - cat: \t63\n",
            " - pony: \t61\n",
            " - muscovy-duck: \t64\n",
            " - alpaca: \t87\n",
            "635 items total.\n",
            "Dataset composition:\n",
            " - silkie-chicken: \t224\n",
            " - hamburg-chicken: \t338\n",
            " - goose: \t290\n",
            " - chicken: \t277\n",
            " - cat: \t266\n",
            " - pony: \t415\n",
            " - muscovy-duck: \t209\n",
            " - alpaca: \t377\n",
            "2396 items total.\n"
          ],
          "name": "stdout"
        },
        {
          "output_type": "stream",
          "text": [
            "100%|██████████| 2396/2396 [03:31<00:00, 11.36it/s]\n"
          ],
          "name": "stderr"
        }
      ]
    },
    {
      "cell_type": "markdown",
      "metadata": {
        "id": "hG-RqAvxB_py",
        "colab_type": "text"
      },
      "source": [
        "## Dataset"
      ]
    },
    {
      "cell_type": "code",
      "metadata": {
        "id": "7xf2kRpD8buO",
        "colab_type": "code",
        "colab": {}
      },
      "source": [
        "def train(train_labels, test_labels, epochs=80, register=False, batch_size=16):\n",
        "    train_data = Dataset(train_labels, rgb_only=False, split=False, res=(120, 160), register=register, batch_size=batch_size)\n",
        "    test_data = Dataset(test_labels, rgb_only=False, split=False, res=(120, 160), register=register, batch_size=batch_size)\n",
        "\n",
        "    X, y = train_data.get_all()\n",
        "    X_test, y_test = test_data.get_all()\n",
        "\n",
        "    model = ResNet(\"fusion\", train_data.num_classes(), train_data.shape(), None).get_model()\n",
        "    optimizer = K.optimizers.Adam(learning_rate=0.000001, epsilon=0.005)\n",
        "    # optimizer = K.optimizers.SGD(decay=1e-6)\n",
        "    model.compile(optimizer=optimizer,\n",
        "                loss=\"categorical_crossentropy\",\n",
        "                metrics=[\"accuracy\"])\n",
        "\n",
        "    tf.random.set_seed(42)\n",
        "    np.random.seed(42)\n",
        "\n",
        "    hist = model.fit(X, y, epochs=epochs, validation_data=(X_test, y_test), batch_size=batch_size)\n",
        "    return model, hist.history"
      ],
      "execution_count": 0,
      "outputs": []
    },
    {
      "cell_type": "code",
      "metadata": {
        "id": "IJvpuiD_LILG",
        "colab_type": "code",
        "colab": {}
      },
      "source": [
        "train_sets = [\n",
        "    (\"1\", \"animals_train_final/labels_1.txt\"),\n",
        "    (\"2\", \"animals_train_final/labels_2.txt\"),\n",
        "    (\"5\", \"animals_train_final/labels_5.txt\"),\n",
        "]\n",
        "\n",
        "results = {}\n",
        "\n",
        "for i, labels in train_sets:\n",
        "    model, hist = train(labels, \"animals_test_final/labels.txt\", epochs=80, register=False, batch_size=32)\n",
        "    results[i] = {\"model\": model, \"hist\": hist}"
      ],
      "execution_count": 0,
      "outputs": []
    },
    {
      "cell_type": "code",
      "metadata": {
        "id": "O-6VSL1eflYG",
        "colab_type": "code",
        "colab": {}
      },
      "source": [
        "  for a in results:\n",
        "    hist = results[a][\"hist\"]\n",
        "\n",
        "    fig, (ax1, ax2) = plt.subplots(1, 2, figsize=(12, 6))\n",
        "\n",
        "    ax1.plot(hist[\"loss\"], label=\"train\")\n",
        "    ax1.plot(hist[\"val_loss\"], label=\"val\")\n",
        "    ax1.set_title(\"Loss\")\n",
        "\n",
        "    ax2.plot(hist[\"accuracy\"], label=\"train\")\n",
        "    ax2.plot(hist[\"val_accuracy\"], label=\"val\")\n",
        "    ax2.set_title(\"Accuracy\")\n",
        "    fig.suptitle(a)"
      ],
      "execution_count": 0,
      "outputs": []
    },
    {
      "cell_type": "code",
      "metadata": {
        "id": "YvfMp2vSRU_b",
        "colab_type": "code",
        "colab": {}
      },
      "source": [
        "def analyse(name):\n",
        "    test_data = Dataset(\"animals_test_final/labels.txt\", rgb_only=False, split=False, res=(120, 160), register=False, batch_size=32)\n",
        "    model = results[name][\"model\"]\n",
        "\n",
        "    y_pred = np.argmax(model.predict(test_data), axis=1)\n",
        "    y_test_ = test_data.get_labels()[:y_pred.shape[0]]\n",
        "    print(classification_report(y_test_, y_pred, target_names=test_data.class_labels))\n",
        "\n",
        "    # confusion\n",
        "    y_pred_named = [test_data.class_labels[x] for x in y_pred]\n",
        "    y_test_named = [test_data.class_labels[x] for x in y_test_]\n",
        "    confusion = confusion_matrix(y_test_named, y_pred_named, labels=test_data.class_labels)\n",
        "\n",
        "    f, ax = plt.subplots(figsize=(3, 3), dpi=150)\n",
        "    ax = sns.heatmap(confusion, annot=True, xticklabels=test_data.class_labels, yticklabels=test_data.class_labels, square=True, cbar=False, fmt=\"d\")\n",
        "    ax.set(xlabel='Predicted class', ylabel='Actual class')\n",
        "    f.savefig(f\"confusion_{name}.pdf\", bbox_inches=\"tight\")\n",
        "    plt.show()"
      ],
      "execution_count": 0,
      "outputs": []
    },
    {
      "cell_type": "code",
      "metadata": {
        "id": "tPgYl90Un0Lk",
        "colab_type": "code",
        "colab": {}
      },
      "source": [
        "for name in results:\n",
        "    analyse(name)"
      ],
      "execution_count": 0,
      "outputs": []
    },
    {
      "cell_type": "code",
      "metadata": {
        "id": "Mb2n5XDO9SSc",
        "colab_type": "code",
        "colab": {}
      },
      "source": [
        "import pickle\n",
        "for name in results:\n",
        "    with open(f\"{name}.pickle\", \"wb\") as f:\n",
        "        pickle.dump(results[name][\"hist\"], f)"
      ],
      "execution_count": 0,
      "outputs": []
    },
    {
      "cell_type": "code",
      "metadata": {
        "id": "kPVKdMER-hJZ",
        "colab_type": "code",
        "colab": {}
      },
      "source": [
        ""
      ],
      "execution_count": 0,
      "outputs": []
    }
  ]
}