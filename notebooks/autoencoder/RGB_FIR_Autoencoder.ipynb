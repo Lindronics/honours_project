{
  "nbformat": 4,
  "nbformat_minor": 0,
  "metadata": {
    "colab": {
      "name": "RGB_FIR_Autoencoder.ipynb",
      "provenance": [],
      "collapsed_sections": [],
      "authorship_tag": "ABX9TyNf/8pF4TdbkEJm0zqQl+Tw",
      "include_colab_link": true
    },
    "kernelspec": {
      "name": "python3",
      "display_name": "Python 3"
    },
    "accelerator": "GPU"
  },
  "cells": [
    {
      "cell_type": "markdown",
      "metadata": {
        "id": "view-in-github",
        "colab_type": "text"
      },
      "source": [
        "<a href=\"https://colab.research.google.com/github/Lindronics/honours_project/blob/master/notebooks/autoencoder/RGB_FIR_Autoencoder.ipynb\" target=\"_parent\"><img src=\"https://colab.research.google.com/assets/colab-badge.svg\" alt=\"Open In Colab\"/></a>"
      ]
    },
    {
      "cell_type": "code",
      "metadata": {
        "id": "bd1o7lbspIAX",
        "colab_type": "code",
        "colab": {}
      },
      "source": [
        "!pip install tensorflow-gpu==2.1\n",
        "!pip install grpcio==1.24.3"
      ],
      "execution_count": 0,
      "outputs": []
    },
    {
      "cell_type": "code",
      "metadata": {
        "id": "TqlZMQ32ooBl",
        "colab_type": "code",
        "colab": {}
      },
      "source": [
        "import tensorflow as tf\n",
        "from tensorflow import keras as K\n",
        "import numpy as np\n",
        "import matplotlib.pyplot as plt\n",
        "import pandas as pd\n",
        "import json\n",
        "import cv2\n",
        "from sklearn.model_selection import train_test_split\n",
        "from datetime import datetime\n",
        "import os"
      ],
      "execution_count": 0,
      "outputs": []
    },
    {
      "cell_type": "code",
      "metadata": {
        "id": "KDSTVIiiPN_5",
        "colab_type": "code",
        "colab": {}
      },
      "source": [
        "def hflip(img):\n",
        "    img = cv2.flip(img, 1)[..., None]\n",
        "    return img\n",
        "\n",
        "def crop(img, max_zoom=0.5):\n",
        "    shape = img.shape\n",
        "\n",
        "    zoom = np.random.uniform(0, max_zoom)\n",
        "    width = int((1-zoom) * shape[0])\n",
        "    height = int((1-zoom) * shape[1])\n",
        "\n",
        "    left = np.random.randint(0, shape[0] - width)\n",
        "    right = left + width\n",
        "\n",
        "    start = np.random.randint(0, shape[1] - height)\n",
        "    end = start + height\n",
        "\n",
        "    img = img[left:right, start:end]\n",
        "    img = cv2.resize(img, shape[:2][::-1]) / 255\n",
        "    return img[..., None]"
      ],
      "execution_count": 0,
      "outputs": []
    },
    {
      "cell_type": "code",
      "metadata": {
        "id": "zdFZQn401gBY",
        "colab_type": "code",
        "colab": {}
      },
      "source": [
        "from google.colab import drive\n",
        "drive.mount('/content/drive')"
      ],
      "execution_count": 0,
      "outputs": []
    },
    {
      "cell_type": "code",
      "metadata": {
        "id": "kVIREcxD1EmU",
        "colab_type": "code",
        "colab": {}
      },
      "source": [
        "!rm -rf person\n",
        "!rm -rf person2\n",
        "!cp -r drive/My\\ Drive/Datasets/person .\n",
        "!cp -r drive/My\\ Drive/Datasets/person_2 ."
      ],
      "execution_count": 0,
      "outputs": []
    },
    {
      "cell_type": "code",
      "metadata": {
        "id": "1wjHidfO2I2Y",
        "colab_type": "code",
        "colab": {}
      },
      "source": [
        "trans = np.array([\n",
        "    [1.202290, -0.026808, -50.528589],\n",
        "    [0.017762, 1.203090, -73.950204],\n",
        "])\n",
        "\n",
        "input_shape = (320, 240, 1)\n",
        "\n",
        "def load_data(path):\n",
        "    with open(os.path.join(path, \"metadata.json\"), \"r\") as f:\n",
        "        labels = json.load(f)[\"labels\"]\n",
        "\n",
        "    rgb_data = []\n",
        "    fir_data = []\n",
        "\n",
        "    for fname, label in labels.items():\n",
        "        \n",
        "        if label == 0:\n",
        "            continue\n",
        "\n",
        "        # print(fname, os.path.exists(\"person/rgb/rgb_\" + fname), os.path.exists(\"person/fir/fir_\" + fname))\n",
        "        \n",
        "        rgb = cv2.imread(os.path.join(path, \"rgb/rgb_\" + fname)) / 255\n",
        "        rgb = np.mean(rgb, axis=-1)\n",
        "        rgb = cv2.resize(rgb, (640, 480))\n",
        "        rgb = cv2.warpAffine(rgb, trans, (rgb.shape[1], rgb.shape[0]))\n",
        "        rgb = cv2.resize(rgb, (input_shape[1], input_shape[0]))[..., None]\n",
        "        rgb_data.append(rgb)\n",
        "\n",
        "        rgb_data.append(hflip(rgb))\n",
        "        # rgb_data.append(crop(rgb))\n",
        "\n",
        "        fir = cv2.imread(os.path.join(path, \"fir/fir_\" + fname)) / 255\n",
        "        fir = cv2.resize(fir, (input_shape[1], input_shape[0]))\n",
        "        fir = np.mean(fir, axis=-1)[..., None]\n",
        "        fir_data.append(fir)\n",
        "\n",
        "        fir_data.append(hflip(fir))\n",
        "        # fir_data.append(crop(fir))\n",
        "\n",
        "    return np.array(rgb_data), np.array(fir_data)\n",
        "\n",
        "X, y = load_data(\"person\")\n",
        "X2, y2 = load_data(\"person_2\")"
      ],
      "execution_count": 0,
      "outputs": []
    },
    {
      "cell_type": "code",
      "metadata": {
        "id": "7zpXuJkO4b5V",
        "colab_type": "code",
        "colab": {}
      },
      "source": [
        "# rgb_data, fir_data = load_data(\"person\")\n",
        "\n",
        "X = np.concatenate([X, X2])\n",
        "y = np.concatenate([y, y2])\n",
        "\n",
        "X_train, X_test, y_train, y_test = train_test_split(X, y, shuffle=True, train_size=0.8)\n",
        "# X_train, y_train = rgb_data, fir_data\n",
        "print(X_train.shape)\n",
        "\n",
        "i = 118\n",
        "fig, (ax1, ax2) = plt.subplots(1, 2)\n",
        "ax1.imshow(X_train[i, ..., 0], cmap=\"gray\")\n",
        "ax2.imshow(y_train[i, ..., 0], cmap=\"gray\")"
      ],
      "execution_count": 0,
      "outputs": []
    },
    {
      "cell_type": "code",
      "metadata": {
        "id": "TiAXIdmKpGg9",
        "colab_type": "code",
        "colab": {}
      },
      "source": [
        "model = K.Sequential()\n",
        "\n",
        "model.add(K.layers.Input(shape=input_shape))\n",
        "\n",
        "# Encoder\n",
        "model.add(K.layers.Conv2D(8, kernel_size=(5, 5), strides=(1, 1), padding=\"same\"))\n",
        "model.add(K.layers.LeakyReLU())\n",
        "model.add(K.layers.MaxPool2D(pool_size=(2, 2), strides=(2, 2), padding=\"valid\"))\n",
        "\n",
        "model.add(K.layers.Dropout(0.4))\n",
        "\n",
        "model.add(K.layers.Conv2D(16, kernel_size=(7, 7), strides=(1, 1), padding=\"same\"))\n",
        "model.add(K.layers.LeakyReLU())\n",
        "model.add(K.layers.MaxPool2D(pool_size=(2, 2), strides=(2, 2), padding=\"valid\"))\n",
        "\n",
        "model.add(K.layers.Dropout(0.4))\n",
        "\n",
        "model.add(K.layers.Conv2D(32, kernel_size=(7, 7), strides=(1, 1), padding=\"same\"))\n",
        "model.add(K.layers.LeakyReLU())\n",
        "model.add(K.layers.MaxPool2D(pool_size=(2, 2), strides=(2, 2), padding=\"valid\"))\n",
        "\n",
        "model.add(K.layers.Dropout(0.4))\n",
        "\n",
        "model.add(K.layers.Conv2D(64, kernel_size=(7, 7), strides=(1, 1), padding=\"same\"))\n",
        "model.add(K.layers.LeakyReLU())\n",
        "model.add(K.layers.MaxPool2D(pool_size=(2, 2), strides=(2, 2), padding=\"valid\"))\n",
        "\n",
        "model.add(K.layers.Dropout(0.4))\n",
        "\n",
        "# Decoder\n",
        "model.add(K.layers.Conv2DTranspose(32, kernel_size=(7, 7), strides=(2, 2), padding=\"same\"))\n",
        "model.add(K.layers.LeakyReLU())\n",
        "\n",
        "model.add(K.layers.Conv2DTranspose(16, kernel_size=(7, 7), strides=(2, 2), padding=\"same\"))\n",
        "model.add(K.layers.LeakyReLU())\n",
        "\n",
        "model.add(K.layers.Conv2DTranspose(8, kernel_size=(7, 7), strides=(2, 2), padding=\"same\"))\n",
        "model.add(K.layers.LeakyReLU())\n",
        "\n",
        "model.add(K.layers.Conv2DTranspose(1, kernel_size=(5, 5), strides=(2, 2), padding=\"same\"))\n",
        "model.add(K.layers.LeakyReLU())\n",
        "\n",
        "# model.add(K.layers.Lambda(lambda x: x[:, 2:-1, 2:-1, :]))\n",
        "\n",
        "model.compile(optimizer='adam',\n",
        "              loss='mean_squared_error',\n",
        "              metrics=['accuracy'])\n",
        "model.summary()"
      ],
      "execution_count": 0,
      "outputs": []
    },
    {
      "cell_type": "code",
      "metadata": {
        "id": "qDQzt5ZFx4ps",
        "colab_type": "code",
        "colab": {}
      },
      "source": [
        "# from tensorflow.python.client import device_lib\n",
        "# print(device_lib.list_local_devices())"
      ],
      "execution_count": 0,
      "outputs": []
    },
    {
      "cell_type": "code",
      "metadata": {
        "id": "DjpkJclJpzYz",
        "colab_type": "code",
        "colab": {}
      },
      "source": [
        "%%time\n",
        "# !rm -rf logs\n",
        "log_dir=\"logs/fit/\" + datetime.now().strftime(\"%Y%m%d-%H%M%S\")\n",
        "tensorboard_callback = tf.keras.callbacks.TensorBoard(log_dir=log_dir, histogram_freq=0, write_graph=True, write_images=True)\n",
        "\n",
        "model.fit(X_train, y_train, batch_size=4, epochs=300, callbacks=[tensorboard_callback], verbose=1, validation_data=(X_test, y_test))"
      ],
      "execution_count": 0,
      "outputs": []
    },
    {
      "cell_type": "code",
      "metadata": {
        "id": "UNXBG9O566ti",
        "colab_type": "code",
        "colab": {}
      },
      "source": [
        "# %reload_ext tensorboard\n",
        "# %tensorboard --logdir logs/fit"
      ],
      "execution_count": 0,
      "outputs": []
    },
    {
      "cell_type": "code",
      "metadata": {
        "id": "3rib6hucv-hh",
        "colab_type": "code",
        "colab": {}
      },
      "source": [
        "i = np.random.randint(0, X_test.shape[0] - 1)\n",
        "# i = np.random.randint(0, X_train.shape[0] - 1)\n",
        "# i = 35\n",
        "print(i)\n",
        "\n",
        "# test_image = X_train[i]\n",
        "# ref_image = y_train[i]\n",
        "test_image = X_test[i]\n",
        "ref_image = y_test[i]\n",
        "\n",
        "predicted_image = model.predict(test_image[None, ...])\n",
        "\n",
        "fig, (ax1, ax2, ax3) = plt.subplots(1, 3, figsize=(15, 10))\n",
        "ax1.imshow(test_image[..., 0], cmap=\"gray\")\n",
        "ax1.set_title(\"Visible light\")\n",
        "ax2.imshow(predicted_image[0, ..., 0], cmap=\"gray\")\n",
        "ax2.set_title(\"Predicted FIR\")\n",
        "ax3.imshow(ref_image[..., 0], cmap=\"gray\")\n",
        "ax3.set_title(\"Actual FIR\")\n",
        "pass"
      ],
      "execution_count": 0,
      "outputs": []
    },
    {
      "cell_type": "code",
      "metadata": {
        "id": "oaImJzOm0bIS",
        "colab_type": "code",
        "colab": {}
      },
      "source": [
        "# i = np.random.randint(0, X_test.shape[0] - 1)\n",
        "# i = np.random.randint(0, X_train.shape[0] - 1)\n",
        "i = 35\n",
        "print(i)\n",
        "\n",
        "# test_image = X_train[i]\n",
        "# ref_image = y_train[i]\n",
        "test_image = X_test[i]\n",
        "ref_image = y_test[i]\n",
        "\n",
        "predicted_image = model.predict(test_image[None, ...])\n",
        "\n",
        "fig, (ax1, ax2, ax3) = plt.subplots(1, 3, figsize=(15, 10))\n",
        "ax1.imshow(test_image[..., 0], cmap=\"gray\")\n",
        "ax1.set_title(\"Visible light\")\n",
        "ax2.imshow(predicted_image[0, ..., 0], cmap=\"gray\")\n",
        "ax2.set_title(\"Predicted FIR\")\n",
        "ax3.imshow(ref_image[..., 0], cmap=\"gray\")\n",
        "ax3.set_title(\"Actual FIR\")\n",
        "pass"
      ],
      "execution_count": 0,
      "outputs": []
    },
    {
      "cell_type": "code",
      "metadata": {
        "id": "DivF3LpsouOP",
        "colab_type": "code",
        "colab": {}
      },
      "source": [
        ""
      ],
      "execution_count": 0,
      "outputs": []
    }
  ]
}