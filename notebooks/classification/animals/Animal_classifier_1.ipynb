{
  "nbformat": 4,
  "nbformat_minor": 0,
  "metadata": {
    "colab": {
      "name": "Animal_classifier_1.ipynb",
      "provenance": [],
      "collapsed_sections": [],
      "machine_shape": "hm",
      "authorship_tag": "ABX9TyMVy9xGlhDPdoySctR9MDWy",
      "include_colab_link": true
    },
    "kernelspec": {
      "name": "python3",
      "display_name": "Python 3"
    },
    "accelerator": "GPU"
  },
  "cells": [
    {
      "cell_type": "markdown",
      "metadata": {
        "id": "view-in-github",
        "colab_type": "text"
      },
      "source": [
        "<a href=\"https://colab.research.google.com/github/Lindronics/honours_project/blob/master/notebooks/classification/animals/Animal_classifier_1.ipynb\" target=\"_parent\"><img src=\"https://colab.research.google.com/assets/colab-badge.svg\" alt=\"Open In Colab\"/></a>"
      ]
    },
    {
      "cell_type": "markdown",
      "metadata": {
        "id": "zKD9-Xjxozx5",
        "colab_type": "text"
      },
      "source": [
        "# Animal classifier"
      ]
    },
    {
      "cell_type": "markdown",
      "metadata": {
        "id": "NaVAfT8wo1ne",
        "colab_type": "text"
      },
      "source": [
        "## Setup and imports\n",
        "\n"
      ]
    },
    {
      "cell_type": "code",
      "metadata": {
        "id": "b-NO7a-T9eav",
        "colab_type": "code",
        "outputId": "3a5846e9-e8bd-412d-a6a4-91f2d1506eaf",
        "colab": {
          "base_uri": "https://localhost:8080/",
          "height": 34
        }
      },
      "source": [
        "%tensorflow_version 2.x"
      ],
      "execution_count": 0,
      "outputs": [
        {
          "output_type": "stream",
          "text": [
            "TensorFlow 2.x selected.\n"
          ],
          "name": "stdout"
        }
      ]
    },
    {
      "cell_type": "code",
      "metadata": {
        "id": "uwYBOVFf7HyN",
        "colab_type": "code",
        "outputId": "57a85b00-1fd2-4471-e39f-e96b035a789b",
        "colab": {
          "base_uri": "https://localhost:8080/",
          "height": 309
        }
      },
      "source": [
        "!rm -rf /content/*\n",
        "!wget --no-check-certificate -O dataset.zip \"https://onedrive.live.com/download?cid=5691066189D062AB&resid=5691066189D062AB%21228202&authkey=ADau7jkkCZLnQ8k\"\n",
        "!unzip -q dataset.zip"
      ],
      "execution_count": 0,
      "outputs": [
        {
          "output_type": "stream",
          "text": [
            "--2020-02-23 10:40:52--  https://onedrive.live.com/download?cid=5691066189D062AB&resid=5691066189D062AB%21228202&authkey=ADau7jkkCZLnQ8k\n",
            "Resolving onedrive.live.com (onedrive.live.com)... 13.107.42.13\n",
            "Connecting to onedrive.live.com (onedrive.live.com)|13.107.42.13|:443... connected.\n",
            "HTTP request sent, awaiting response... 302 Found\n",
            "Location: https://kusdwq.am.files.1drv.com/y4m79qw9M0JT5qQog2Uf9k9z8dG-vx0NEfLYSR4Jimz7tAmILJWSG-34n6MclKDt_uezskkRGg1YIxf-V6pxCiVqbdSEl3FNfkPQvonkDhPAKP7VqDxeuHwu597QJQa9g1-k9Y1WojKGeturadKiwvGnZezceQuhvLG9ZAjPyNKDFJOXtHCRLqsBum0CNQKg5ab1GI6EmcjAU3INjv-Q2BtqQ/images_160x120_downsampled.zip?download&psid=1 [following]\n",
            "--2020-02-23 10:40:53--  https://kusdwq.am.files.1drv.com/y4m79qw9M0JT5qQog2Uf9k9z8dG-vx0NEfLYSR4Jimz7tAmILJWSG-34n6MclKDt_uezskkRGg1YIxf-V6pxCiVqbdSEl3FNfkPQvonkDhPAKP7VqDxeuHwu597QJQa9g1-k9Y1WojKGeturadKiwvGnZezceQuhvLG9ZAjPyNKDFJOXtHCRLqsBum0CNQKg5ab1GI6EmcjAU3INjv-Q2BtqQ/images_160x120_downsampled.zip?download&psid=1\n",
            "Resolving kusdwq.am.files.1drv.com (kusdwq.am.files.1drv.com)... 13.107.42.12\n",
            "Connecting to kusdwq.am.files.1drv.com (kusdwq.am.files.1drv.com)|13.107.42.12|:443... connected.\n",
            "HTTP request sent, awaiting response... 200 OK\n",
            "Length: 74001989 (71M) [application/zip]\n",
            "Saving to: ‘dataset.zip’\n",
            "\n",
            "dataset.zip         100%[===================>]  70.57M  21.2MB/s    in 3.3s    \n",
            "\n",
            "2020-02-23 10:40:57 (21.2 MB/s) - ‘dataset.zip’ saved [74001989/74001989]\n",
            "\n"
          ],
          "name": "stdout"
        }
      ]
    },
    {
      "cell_type": "code",
      "metadata": {
        "id": "AiAumFqNEZ1X",
        "colab_type": "code",
        "colab": {}
      },
      "source": [
        "import cv2\n",
        "import numpy as np\n",
        "import matplotlib.pyplot as plt\n",
        "from sklearn.model_selection import train_test_split\n",
        "import tensorflow as tf\n",
        "import tensorflow.keras as K\n",
        "from tensorflow.keras.preprocessing.image import ImageDataGenerator\n",
        "from sklearn.metrics import classification_report, confusion_matrix\n",
        "import seaborn as sns; sns.set()\n",
        "import os\n",
        "from os import listdir\n",
        "from os.path import isdir, join\n",
        "from tqdm import tqdm\n",
        "from datetime import datetime\n",
        "\n",
        "from itertools import count\n",
        "from collections import defaultdict"
      ],
      "execution_count": 0,
      "outputs": []
    },
    {
      "cell_type": "code",
      "metadata": {
        "id": "Eh6WMiBbDAsZ",
        "colab_type": "code",
        "outputId": "32a5d92a-c65e-45bf-fc5f-1a617136d0dd",
        "colab": {
          "base_uri": "https://localhost:8080/",
          "height": 272
        }
      },
      "source": [
        "from os import listdir\n",
        "from os.path import isdir, join\n",
        "\n",
        "class_whitelist = [\n",
        "    \"pony\",\n",
        "    \"alpaca\",\n",
        "    \"peacock\",\n",
        "    \"chicken\",\n",
        "    \"cat\",\n",
        "    \"goose\",\n",
        "    \"sheep\",\n",
        "]\n",
        "\n",
        "configurations = {\n",
        "    \"medium\": lambda fname: fname.split(\"_\")[0] not in [\"human\", \"evil-chicken\", \"ferret\"],\n",
        "    \"cat\": lambda fname: fname.split(\"_\")[0] == \"cat\",\n",
        "    \"goose\": lambda fname: fname.split(\"_\")[0] == \"goose\",\n",
        "    \"pony\": lambda fname: fname.split(\"_\")[0] == \"pony\",\n",
        "    \"whitelist\": lambda fname: fname.split(\"_\")[0] in class_whitelist,\n",
        "    \"full\": lambda x: True,\n",
        "}\n",
        "\n",
        "def generate_metadata(config, root=\"images\"):\n",
        "    \"\"\" Generates labels to be read by model data loader \"\"\"\n",
        "\n",
        "    classes = [c for c in listdir(root) if isdir(join(root, c))]\n",
        "    samples = {c: 0 for c in classes}\n",
        "    \n",
        "    with open(f\"labels_{config}.txt\", \"w\") as f:\n",
        "        for c in classes:\n",
        "            batches = [b for b in listdir(join(root, c)) if isdir(join(root, c, b)) and configurations[config](b)]\n",
        "            \n",
        "            for b in batches:\n",
        "                lwir_images = [i for i in listdir(join(root, c, b, \"lwir\")) if i.endswith(\".png\")]\n",
        "                rgb_images = [i for i in lwir_images]\n",
        "\n",
        "                lwir_paths = [join(root, c, b, \"lwir\", i) for i in lwir_images]\n",
        "                rgb_paths = [join(root, c, b, \"rgb\", i) for i in rgb_images]\n",
        "\n",
        "                for lwir_path, rgb_path in zip(lwir_paths, rgb_paths):\n",
        "                    f.write(\" \".join([rgb_path, lwir_path, c]) + \"\\n\")\n",
        "                    samples[c] += 1\n",
        "\n",
        "    print(\"Dataset composition:\")\n",
        "    sum_ = 0\n",
        "    for c, s in samples.items():\n",
        "        sum_ += s\n",
        "        print(f\" - {c}: \\t{s}\")\n",
        "    print(f\"{sum_} items total.\")\n",
        "\n",
        "cfg = \"full\"\n",
        "# root = \"images_augmented\"\n",
        "root = \"images_160x120_augmented\"\n",
        "generate_metadata(cfg, root=root)"
      ],
      "execution_count": 0,
      "outputs": [
        {
          "output_type": "stream",
          "text": [
            "Dataset composition:\n",
            " - pony: \t615\n",
            " - ugly-duck: \t615\n",
            " - alpaca: \t615\n",
            " - chicken: \t615\n",
            " - peacock: \t615\n",
            " - evil-chicken: \t615\n",
            " - rabbit: \t615\n",
            " - pig: \t615\n",
            " - ferret: \t615\n",
            " - cat: \t615\n",
            " - goose: \t615\n",
            " - pretty-chicken: \t615\n",
            " - sheep: \t615\n",
            "7995 items total.\n"
          ],
          "name": "stdout"
        }
      ]
    },
    {
      "cell_type": "markdown",
      "metadata": {
        "id": "hG-RqAvxB_py",
        "colab_type": "text"
      },
      "source": [
        "## Dataset"
      ]
    },
    {
      "cell_type": "code",
      "metadata": {
        "id": "7xf2kRpD8buO",
        "colab_type": "code",
        "colab": {}
      },
      "source": [
        "transformation = np.array([\n",
        "    [1.202290, -0.026808, -50.528589],\n",
        "    [0.017762, 1.203090, -73.950204],\n",
        "])\n",
        "\n",
        "class Dataset(K.utils.Sequence):\n",
        "\n",
        "    def __init__(self, metadata, rgb_only=False, res=(480, 640), register=True, batch_size=16, train=True):\n",
        "\n",
        "        self.rgb_only = rgb_only\n",
        "        self.res = res\n",
        "        self.register = register\n",
        "        self.batch_size = batch_size\n",
        "\n",
        "        self.classes = defaultdict(count().__next__)\n",
        "        self.samples = []\n",
        "\n",
        "        samples = []\n",
        "        labels = []\n",
        "        with open(metadata, \"r\") as f:\n",
        "            for line in f:\n",
        "                line = line.split()\n",
        "                class_label = self.classes[line[-1]]\n",
        "                samples.append(tuple(line[:2] + [class_label]))\n",
        "                labels.append(class_label)\n",
        "\n",
        "        train_data, test_data = train_test_split(samples, stratify=labels, test_size=0.2, random_state=42)\n",
        "        self.samples = train_data if train else test_data\n",
        "\n",
        "        self.class_dict = {key: val for val, key in self.classes.items()}\n",
        "        self.class_labels = [val for key, val in sorted(self.class_dict.items())]\n",
        "\n",
        "    def __len__(self):\n",
        "        return len(self.samples) // self.batch_size\n",
        "    \n",
        "\n",
        "    def __iter__(self):\n",
        "        return self\n",
        "\n",
        "\n",
        "    def load(self, path, register=False):\n",
        "        img = cv2.imread(path) / 255\n",
        "        if register:\n",
        "            img = cv2.resize(img, (480, 640))\n",
        "            img = cv2.warpAffine(img, transformation, (480, 640))\n",
        "        img = cv2.resize(img, self.res)\n",
        "        return img\n",
        "\n",
        "\n",
        "    def __getitem__(self, idx):\n",
        "        if idx < self.__len__():\n",
        "            X = []\n",
        "            y = []\n",
        "            for i in range(self.batch_size):\n",
        "                rgb_path, lwir_path, label = self.samples[idx * self.batch_size + i]\n",
        "\n",
        "                one_hot = np.zeros(self.num_classes())\n",
        "                one_hot[label] = 1\n",
        "                y.append(one_hot)\n",
        "\n",
        "                rgb = self.load(rgb_path, register=self.register)\n",
        "\n",
        "                if self.rgb_only:\n",
        "                    X.append(rgb)\n",
        "                else:\n",
        "                    lwir = self.load(lwir_path, register=False)\n",
        "                    lwir = np.mean(lwir, -1)[..., None]\n",
        "                    stacked = np.dstack([rgb, lwir])\n",
        "                    X.append(stacked)\n",
        "\n",
        "            return np.array(X), np.array(y)\n",
        "        else:\n",
        "            raise StopIteration\n",
        "\n",
        "    def get_labels(self):\n",
        "        return np.array([sample[-1] for sample in self.samples])\n",
        "\n",
        "    def num_classes(self):\n",
        "        return len(self.classes)\n",
        "\n",
        "    def shape(self):\n",
        "        return self.res[::-1] + tuple([(3 if self.rgb_only else 4)])\n",
        "\n",
        "\n",
        "train_data = Dataset(f\"labels_{cfg}.txt\", rgb_only=False, train=True, res=(120, 160))\n",
        "test_data = Dataset(f\"labels_{cfg}.txt\", rgb_only=False, train=False, res=(120, 160))"
      ],
      "execution_count": 0,
      "outputs": []
    },
    {
      "cell_type": "code",
      "metadata": {
        "id": "nGNHoK1bEL8b",
        "colab_type": "code",
        "outputId": "c195de6b-ef2a-4208-f131-c024af4c85cc",
        "colab": {
          "base_uri": "https://localhost:8080/",
          "height": 34
        }
      },
      "source": [
        "X, y = train_data[0]\n",
        "\n",
        "# X_train, X_test, y_train, y_test = train_test_split(X, y, train_size=0.8, random_state=42)\n",
        "# print(X_train.shape)\n",
        "# X_train = X\n",
        "# y_train = y\n",
        "\n",
        "i = 2\n",
        "print(X.shape)\n",
        "# fig, (ax1, ax2) = plt.subplots(1, 2, figsize=(15, 10))\n",
        "# ax1.imshow(X[i, ..., 0], cmap=\"gray\")\n",
        "# ax2.imshow(y_train[i, ..., 0], cmap=\"gray\")"
      ],
      "execution_count": 0,
      "outputs": [
        {
          "output_type": "stream",
          "text": [
            "(16, 160, 120, 4)\n"
          ],
          "name": "stdout"
        }
      ]
    },
    {
      "cell_type": "code",
      "metadata": {
        "id": "jtV2EQtkPzGu",
        "colab_type": "code",
        "colab": {}
      },
      "source": [
        "# X_train, X_test, y_train, y_test = train_test_split(X, y, test_size=0.2, stratify=y, random_state=42)"
      ],
      "execution_count": 0,
      "outputs": []
    },
    {
      "cell_type": "markdown",
      "metadata": {
        "id": "Ttf3A6x1IbjC",
        "colab_type": "text"
      },
      "source": [
        "## Keras model"
      ]
    },
    {
      "cell_type": "code",
      "metadata": {
        "id": "a9UO4wSYfSjl",
        "colab_type": "code",
        "colab": {}
      },
      "source": [
        "class ResidualBlock(K.layers.Layer):\n",
        "    \n",
        "    def __init__(self, kernel_size=3, **kwargs):\n",
        "        self.kernel_size = kernel_size\n",
        "        super(ResidualBlock, self).__init__(**kwargs)\n",
        "\n",
        "    def build(self, input_shape):\n",
        "        self.conv1 = K.layers.Conv2D(filters=input_shape[-1], kernel_size=(1, 1), strides=1, padding=\"same\")\n",
        "        self.conv2 = K.layers.Conv2D(filters=input_shape[-1], kernel_size=self.kernel_size, strides=1, padding=\"same\")\n",
        "        self.batch_norm1 = K.layers.BatchNormalization()\n",
        "        self.batch_norm2 = K.layers.BatchNormalization()\n",
        "        self.activation = K.layers.ReLU()\n",
        "        self.add = K.layers.Add()\n",
        "        # self.dropout = K.layers.Dropout(0.4)\n",
        "\n",
        "        super(ResidualBlock, self).build(input_shape)  # Be sure to call this at the end\n",
        "\n",
        "    def call(self, x):\n",
        "        x_shortcut = x\n",
        "        x = self.conv1(x)\n",
        "        x = self.batch_norm1(x)\n",
        "        x = self.activation(x)\n",
        "        x = self.conv2(x)\n",
        "        x = self.batch_norm2(x)\n",
        "        x = self.activation(x)\n",
        "        x = self.add([x_shortcut, x])\n",
        "        return x\n",
        "\n",
        "    def compute_output_shape(self, input_shape):\n",
        "        # return (input_shape[0], input_shape[1], input_shape[2], self.output_dim)\n",
        "        return input_shape"
      ],
      "execution_count": 0,
      "outputs": []
    },
    {
      "cell_type": "markdown",
      "metadata": {
        "id": "k12CpPBhaXQ4",
        "colab_type": "text"
      },
      "source": [
        "## ResNet"
      ]
    },
    {
      "cell_type": "code",
      "metadata": {
        "id": "z7smgR7zggNV",
        "colab_type": "code",
        "outputId": "2ad66265-16de-4c24-f154-e61c13620729",
        "colab": {
          "base_uri": "https://localhost:8080/",
          "height": 630
        }
      },
      "source": [
        "model = K.Sequential()\n",
        "\n",
        "model.add(K.layers.Input(shape=train_data.shape()))\n",
        "\n",
        "model.add(K.layers.AvgPool2D(pool_size=2))\n",
        "\n",
        "model.add(K.layers.Conv2D(filters=64, kernel_size=7, strides=2, activation=\"relu\", padding=\"valid\"))\n",
        "model.add(K.layers.MaxPool2D(pool_size=2))\n",
        "\n",
        "model.add(ResidualBlock(kernel_size=3))\n",
        "model.add(ResidualBlock(kernel_size=3))\n",
        "model.add(ResidualBlock(kernel_size=3))\n",
        "\n",
        "model.add(K.layers.Conv2D(filters=128, kernel_size=7, strides=2, activation=\"relu\", padding=\"valid\"))\n",
        "model.add(K.layers.MaxPool2D(pool_size=2))\n",
        "\n",
        "model.add(ResidualBlock(kernel_size=3))\n",
        "model.add(ResidualBlock(kernel_size=3))\n",
        "model.add(ResidualBlock(kernel_size=3))\n",
        "\n",
        "model.add(K.layers.Conv2D(filters=256, kernel_size=7, strides=2, activation=\"relu\", padding=\"valid\"))\n",
        "model.add(K.layers.MaxPool2D(pool_size=2))\n",
        "\n",
        "# model.add(ResidualBlock(kernel_size=3))\n",
        "# model.add(ResidualBlock(kernel_size=3))\n",
        "# model.add(ResidualBlock(kernel_size=3))\n",
        "\n",
        "\n",
        "\n",
        "# model.add(K.layers.Conv2D(filters=8, kernel_size=5, strides=2, activation=\"relu\", padding=\"same\"))\n",
        "# model.add(K.layers.Dropout(0.4))\n",
        "\n",
        "# model.add(ResidualBlock())\n",
        "# model.add(ResidualBlock())\n",
        "# model.add(ResidualBlock())\n",
        "# model.add(ResidualBlock())\n",
        "\n",
        "# model.add(K.layers.Conv2D(filters=16, kernel_size=5, strides=2, activation=\"relu\", padding=\"same\"))\n",
        "# model.add(K.layers.MaxPool2D(pool_size=2))\n",
        "# model.add(K.layers.Dropout(0.4))\n",
        "\n",
        "# # model.add(ResidualBlock())\n",
        "# # model.add(ResidualBlock())\n",
        "# # model.add(ResidualBlock())\n",
        "# # model.add(ResidualBlock())\n",
        "\n",
        "# model.add(K.layers.Conv2D(filters=32, kernel_size=3, strides=2, activation=\"relu\", padding=\"same\"))\n",
        "# model.add(K.layers.MaxPool2D(pool_size=2))\n",
        "# model.add(K.layers.Dropout(0.4))\n",
        "\n",
        "# model.add(K.layers.Conv2D(filters=64, kernel_size=3, strides=2, activation=\"relu\", padding=\"same\"))\n",
        "# model.add(K.layers.MaxPool2D(pool_size=2))\n",
        "# model.add(K.layers.Dropout(0.4))\n",
        "\n",
        "model.add(K.layers.Flatten())\n",
        "model.add(K.layers.Dense(train_data.num_classes(), activation=\"softmax\"))\n",
        "\n",
        "model.compile(optimizer='adam',\n",
        "          loss='categorical_crossentropy',\n",
        "          metrics=['accuracy'])\n",
        "model.summary()"
      ],
      "execution_count": 0,
      "outputs": [
        {
          "output_type": "error",
          "ename": "ValueError",
          "evalue": "ignored",
          "traceback": [
            "\u001b[0;31m---------------------------------------------------------------------------\u001b[0m",
            "\u001b[0;31mValueError\u001b[0m                                Traceback (most recent call last)",
            "\u001b[0;32m<ipython-input-18-041ba974f3d5>\u001b[0m in \u001b[0;36m<module>\u001b[0;34m()\u001b[0m\n\u001b[1;32m      8\u001b[0m \u001b[0mmodel\u001b[0m\u001b[0;34m.\u001b[0m\u001b[0madd\u001b[0m\u001b[0;34m(\u001b[0m\u001b[0mK\u001b[0m\u001b[0;34m.\u001b[0m\u001b[0mlayers\u001b[0m\u001b[0;34m.\u001b[0m\u001b[0mMaxPool2D\u001b[0m\u001b[0;34m(\u001b[0m\u001b[0mpool_size\u001b[0m\u001b[0;34m=\u001b[0m\u001b[0;36m2\u001b[0m\u001b[0;34m)\u001b[0m\u001b[0;34m)\u001b[0m\u001b[0;34m\u001b[0m\u001b[0;34m\u001b[0m\u001b[0m\n\u001b[1;32m      9\u001b[0m \u001b[0;34m\u001b[0m\u001b[0m\n\u001b[0;32m---> 10\u001b[0;31m \u001b[0mmodel\u001b[0m\u001b[0;34m.\u001b[0m\u001b[0madd\u001b[0m\u001b[0;34m(\u001b[0m\u001b[0mResidualBlock\u001b[0m\u001b[0;34m(\u001b[0m\u001b[0mkernel_size\u001b[0m\u001b[0;34m=\u001b[0m\u001b[0;36m3\u001b[0m\u001b[0;34m)\u001b[0m\u001b[0;34m)\u001b[0m\u001b[0;34m\u001b[0m\u001b[0;34m\u001b[0m\u001b[0m\n\u001b[0m\u001b[1;32m     11\u001b[0m \u001b[0mmodel\u001b[0m\u001b[0;34m.\u001b[0m\u001b[0madd\u001b[0m\u001b[0;34m(\u001b[0m\u001b[0mResidualBlock\u001b[0m\u001b[0;34m(\u001b[0m\u001b[0mkernel_size\u001b[0m\u001b[0;34m=\u001b[0m\u001b[0;36m3\u001b[0m\u001b[0;34m)\u001b[0m\u001b[0;34m)\u001b[0m\u001b[0;34m\u001b[0m\u001b[0;34m\u001b[0m\u001b[0m\n\u001b[1;32m     12\u001b[0m \u001b[0mmodel\u001b[0m\u001b[0;34m.\u001b[0m\u001b[0madd\u001b[0m\u001b[0;34m(\u001b[0m\u001b[0mResidualBlock\u001b[0m\u001b[0;34m(\u001b[0m\u001b[0mkernel_size\u001b[0m\u001b[0;34m=\u001b[0m\u001b[0;36m3\u001b[0m\u001b[0;34m)\u001b[0m\u001b[0;34m)\u001b[0m\u001b[0;34m\u001b[0m\u001b[0;34m\u001b[0m\u001b[0m\n",
            "\u001b[0;32m/tensorflow-2.1.0/python3.6/tensorflow_core/python/training/tracking/base.py\u001b[0m in \u001b[0;36m_method_wrapper\u001b[0;34m(self, *args, **kwargs)\u001b[0m\n\u001b[1;32m    455\u001b[0m     \u001b[0mself\u001b[0m\u001b[0;34m.\u001b[0m\u001b[0m_self_setattr_tracking\u001b[0m \u001b[0;34m=\u001b[0m \u001b[0;32mFalse\u001b[0m  \u001b[0;31m# pylint: disable=protected-access\u001b[0m\u001b[0;34m\u001b[0m\u001b[0;34m\u001b[0m\u001b[0m\n\u001b[1;32m    456\u001b[0m     \u001b[0;32mtry\u001b[0m\u001b[0;34m:\u001b[0m\u001b[0;34m\u001b[0m\u001b[0;34m\u001b[0m\u001b[0m\n\u001b[0;32m--> 457\u001b[0;31m       \u001b[0mresult\u001b[0m \u001b[0;34m=\u001b[0m \u001b[0mmethod\u001b[0m\u001b[0;34m(\u001b[0m\u001b[0mself\u001b[0m\u001b[0;34m,\u001b[0m \u001b[0;34m*\u001b[0m\u001b[0margs\u001b[0m\u001b[0;34m,\u001b[0m \u001b[0;34m**\u001b[0m\u001b[0mkwargs\u001b[0m\u001b[0;34m)\u001b[0m\u001b[0;34m\u001b[0m\u001b[0;34m\u001b[0m\u001b[0m\n\u001b[0m\u001b[1;32m    458\u001b[0m     \u001b[0;32mfinally\u001b[0m\u001b[0;34m:\u001b[0m\u001b[0;34m\u001b[0m\u001b[0;34m\u001b[0m\u001b[0m\n\u001b[1;32m    459\u001b[0m       \u001b[0mself\u001b[0m\u001b[0;34m.\u001b[0m\u001b[0m_self_setattr_tracking\u001b[0m \u001b[0;34m=\u001b[0m \u001b[0mprevious_value\u001b[0m  \u001b[0;31m# pylint: disable=protected-access\u001b[0m\u001b[0;34m\u001b[0m\u001b[0;34m\u001b[0m\u001b[0m\n",
            "\u001b[0;32m/tensorflow-2.1.0/python3.6/tensorflow_core/python/keras/engine/sequential.py\u001b[0m in \u001b[0;36madd\u001b[0;34m(self, layer)\u001b[0m\n\u001b[1;32m    201\u001b[0m       \u001b[0;31m# If the model is being built continuously on top of an input layer:\u001b[0m\u001b[0;34m\u001b[0m\u001b[0;34m\u001b[0m\u001b[0;34m\u001b[0m\u001b[0m\n\u001b[1;32m    202\u001b[0m       \u001b[0;31m# refresh its output.\u001b[0m\u001b[0;34m\u001b[0m\u001b[0;34m\u001b[0m\u001b[0;34m\u001b[0m\u001b[0m\n\u001b[0;32m--> 203\u001b[0;31m       \u001b[0moutput_tensor\u001b[0m \u001b[0;34m=\u001b[0m \u001b[0mlayer\u001b[0m\u001b[0;34m(\u001b[0m\u001b[0mself\u001b[0m\u001b[0;34m.\u001b[0m\u001b[0moutputs\u001b[0m\u001b[0;34m[\u001b[0m\u001b[0;36m0\u001b[0m\u001b[0;34m]\u001b[0m\u001b[0;34m)\u001b[0m\u001b[0;34m\u001b[0m\u001b[0;34m\u001b[0m\u001b[0m\n\u001b[0m\u001b[1;32m    204\u001b[0m       \u001b[0;32mif\u001b[0m \u001b[0mlen\u001b[0m\u001b[0;34m(\u001b[0m\u001b[0mnest\u001b[0m\u001b[0;34m.\u001b[0m\u001b[0mflatten\u001b[0m\u001b[0;34m(\u001b[0m\u001b[0moutput_tensor\u001b[0m\u001b[0;34m)\u001b[0m\u001b[0;34m)\u001b[0m \u001b[0;34m!=\u001b[0m \u001b[0;36m1\u001b[0m\u001b[0;34m:\u001b[0m\u001b[0;34m\u001b[0m\u001b[0;34m\u001b[0m\u001b[0m\n\u001b[1;32m    205\u001b[0m         raise TypeError('All layers in a Sequential model '\n",
            "\u001b[0;32m/tensorflow-2.1.0/python3.6/tensorflow_core/python/keras/engine/base_layer.py\u001b[0m in \u001b[0;36m__call__\u001b[0;34m(self, inputs, *args, **kwargs)\u001b[0m\n\u001b[1;32m    771\u001b[0m                     not base_layer_utils.is_in_eager_or_tf_function()):\n\u001b[1;32m    772\u001b[0m                   \u001b[0;32mwith\u001b[0m \u001b[0mauto_control_deps\u001b[0m\u001b[0;34m.\u001b[0m\u001b[0mAutomaticControlDependencies\u001b[0m\u001b[0;34m(\u001b[0m\u001b[0;34m)\u001b[0m \u001b[0;32mas\u001b[0m \u001b[0macd\u001b[0m\u001b[0;34m:\u001b[0m\u001b[0;34m\u001b[0m\u001b[0;34m\u001b[0m\u001b[0m\n\u001b[0;32m--> 773\u001b[0;31m                     \u001b[0moutputs\u001b[0m \u001b[0;34m=\u001b[0m \u001b[0mcall_fn\u001b[0m\u001b[0;34m(\u001b[0m\u001b[0mcast_inputs\u001b[0m\u001b[0;34m,\u001b[0m \u001b[0;34m*\u001b[0m\u001b[0margs\u001b[0m\u001b[0;34m,\u001b[0m \u001b[0;34m**\u001b[0m\u001b[0mkwargs\u001b[0m\u001b[0;34m)\u001b[0m\u001b[0;34m\u001b[0m\u001b[0;34m\u001b[0m\u001b[0m\n\u001b[0m\u001b[1;32m    774\u001b[0m                     \u001b[0;31m# Wrap Tensors in `outputs` in `tf.identity` to avoid\u001b[0m\u001b[0;34m\u001b[0m\u001b[0;34m\u001b[0m\u001b[0;34m\u001b[0m\u001b[0m\n\u001b[1;32m    775\u001b[0m                     \u001b[0;31m# circular dependencies.\u001b[0m\u001b[0;34m\u001b[0m\u001b[0;34m\u001b[0m\u001b[0;34m\u001b[0m\u001b[0m\n",
            "\u001b[0;32m/tensorflow-2.1.0/python3.6/tensorflow_core/python/autograph/impl/api.py\u001b[0m in \u001b[0;36mwrapper\u001b[0;34m(*args, **kwargs)\u001b[0m\n\u001b[1;32m    235\u001b[0m       \u001b[0;32mexcept\u001b[0m \u001b[0mException\u001b[0m \u001b[0;32mas\u001b[0m \u001b[0me\u001b[0m\u001b[0;34m:\u001b[0m  \u001b[0;31m# pylint:disable=broad-except\u001b[0m\u001b[0;34m\u001b[0m\u001b[0;34m\u001b[0m\u001b[0m\n\u001b[1;32m    236\u001b[0m         \u001b[0;32mif\u001b[0m \u001b[0mhasattr\u001b[0m\u001b[0;34m(\u001b[0m\u001b[0me\u001b[0m\u001b[0;34m,\u001b[0m \u001b[0;34m'ag_error_metadata'\u001b[0m\u001b[0;34m)\u001b[0m\u001b[0;34m:\u001b[0m\u001b[0;34m\u001b[0m\u001b[0;34m\u001b[0m\u001b[0m\n\u001b[0;32m--> 237\u001b[0;31m           \u001b[0;32mraise\u001b[0m \u001b[0me\u001b[0m\u001b[0;34m.\u001b[0m\u001b[0mag_error_metadata\u001b[0m\u001b[0;34m.\u001b[0m\u001b[0mto_exception\u001b[0m\u001b[0;34m(\u001b[0m\u001b[0me\u001b[0m\u001b[0;34m)\u001b[0m\u001b[0;34m\u001b[0m\u001b[0;34m\u001b[0m\u001b[0m\n\u001b[0m\u001b[1;32m    238\u001b[0m         \u001b[0;32melse\u001b[0m\u001b[0;34m:\u001b[0m\u001b[0;34m\u001b[0m\u001b[0;34m\u001b[0m\u001b[0m\n\u001b[1;32m    239\u001b[0m           \u001b[0;32mraise\u001b[0m\u001b[0;34m\u001b[0m\u001b[0;34m\u001b[0m\u001b[0m\n",
            "\u001b[0;31mValueError\u001b[0m: in converted code:\n\n    <ipython-input-7-6826ff6c12a1>:26 call  *\n        x = self.add([x_shortcut, x])\n    /tensorflow-2.1.0/python3.6/tensorflow_core/python/keras/engine/base_layer.py:748 __call__\n        self._maybe_build(inputs)\n    /tensorflow-2.1.0/python3.6/tensorflow_core/python/keras/engine/base_layer.py:2116 _maybe_build\n        self.build(input_shapes)\n    /tensorflow-2.1.0/python3.6/tensorflow_core/python/keras/utils/tf_utils.py:306 wrapper\n        output_shape = fn(instance, input_shape)\n    /tensorflow-2.1.0/python3.6/tensorflow_core/python/keras/layers/merge.py:110 build\n        output_shape = self._compute_elemwise_op_output_shape(output_shape, shape)\n    /tensorflow-2.1.0/python3.6/tensorflow_core/python/keras/layers/merge.py:83 _compute_elemwise_op_output_shape\n        'together with shapes ' + str(shape1) + ' ' + str(shape2))\n\n    ValueError: Operands could not be broadcast together with shapes (78, 58, 64) (20, 15, 64)\n"
          ]
        }
      ]
    },
    {
      "cell_type": "markdown",
      "metadata": {
        "id": "T3MXKvXQaaxr",
        "colab_type": "text"
      },
      "source": [
        "## StuffNet"
      ]
    },
    {
      "cell_type": "code",
      "metadata": {
        "id": "UsZd6YdIH_QX",
        "colab_type": "code",
        "outputId": "04b3c15d-a242-4b38-85cb-54397f6dbb8b",
        "colab": {
          "base_uri": "https://localhost:8080/",
          "height": 629
        }
      },
      "source": [
        "model = K.Sequential()\n",
        "\n",
        "model.add(K.layers.Input(shape=train_data.shape()))\n",
        "\n",
        "model.add(K.layers.Conv2D(filters=16, kernel_size=3, strides=1, padding=\"same\"))\n",
        "model.add(K.layers.Conv2D(filters=16, kernel_size=11, strides=2, padding=\"valid\"))\n",
        "model.add(K.layers.LeakyReLU())\n",
        "model.add(K.layers.MaxPool2D(pool_size=11, strides=3))\n",
        "model.add(K.layers.Dropout(0.4))\n",
        "\n",
        "# Convolution 2\n",
        "model.add(K.layers.Conv2D(filters=32, kernel_size=3, strides=1, padding=\"same\"))\n",
        "model.add(K.layers.Conv2D(filters=32, kernel_size=7, strides=2, padding=\"valid\"))\n",
        "model.add(K.layers.LeakyReLU())\n",
        "model.add(K.layers.MaxPool2D(pool_size=5, strides=2))\n",
        "model.add(K.layers.Dropout(0.4))\n",
        "\n",
        "# Convolution 3\n",
        "# model.add(K.layers.Conv2D(filters=64, kernel_size=3, strides=1, padding=\"valid\"))\n",
        "# model.add(K.layers.LeakyReLU())\n",
        "# model.add(K.layers.MaxPool2D(pool_size=4, strides=2))\n",
        "# model.add(K.layers.Dropout(0.4))\n",
        "\n",
        "# Flatten for fully connected\n",
        "model.add(K.layers.Flatten())\n",
        "\n",
        "# Fully connected 4\n",
        "model.add(K.layers.Dense(64, activation=\"relu\"))\n",
        "model.add(K.layers.Dropout(0.4))\n",
        "\n",
        "# Output layer\n",
        "model.add(K.layers.Dense(train_data.num_classes(), activation=\"sigmoid\"))\n",
        "\n",
        "model.compile(optimizer='sgd',\n",
        "              loss='categorical_crossentropy',\n",
        "              metrics=['accuracy'])\n",
        "model.summary()"
      ],
      "execution_count": 0,
      "outputs": [
        {
          "output_type": "stream",
          "text": [
            "Model: \"sequential_9\"\n",
            "_________________________________________________________________\n",
            "Layer (type)                 Output Shape              Param #   \n",
            "=================================================================\n",
            "conv2d_25 (Conv2D)           (None, 160, 120, 16)      592       \n",
            "_________________________________________________________________\n",
            "conv2d_26 (Conv2D)           (None, 75, 55, 16)        30992     \n",
            "_________________________________________________________________\n",
            "leaky_re_lu_2 (LeakyReLU)    (None, 75, 55, 16)        0         \n",
            "_________________________________________________________________\n",
            "max_pooling2d_22 (MaxPooling (None, 22, 15, 16)        0         \n",
            "_________________________________________________________________\n",
            "dropout_2 (Dropout)          (None, 22, 15, 16)        0         \n",
            "_________________________________________________________________\n",
            "conv2d_27 (Conv2D)           (None, 22, 15, 32)        4640      \n",
            "_________________________________________________________________\n",
            "conv2d_28 (Conv2D)           (None, 8, 5, 32)          50208     \n",
            "_________________________________________________________________\n",
            "leaky_re_lu_3 (LeakyReLU)    (None, 8, 5, 32)          0         \n",
            "_________________________________________________________________\n",
            "max_pooling2d_23 (MaxPooling (None, 2, 1, 32)          0         \n",
            "_________________________________________________________________\n",
            "dropout_3 (Dropout)          (None, 2, 1, 32)          0         \n",
            "_________________________________________________________________\n",
            "flatten_6 (Flatten)          (None, 64)                0         \n",
            "_________________________________________________________________\n",
            "dense_6 (Dense)              (None, 64)                4160      \n",
            "_________________________________________________________________\n",
            "dropout_4 (Dropout)          (None, 64)                0         \n",
            "_________________________________________________________________\n",
            "dense_7 (Dense)              (None, 13)                845       \n",
            "=================================================================\n",
            "Total params: 91,437\n",
            "Trainable params: 91,437\n",
            "Non-trainable params: 0\n",
            "_________________________________________________________________\n"
          ],
          "name": "stdout"
        }
      ]
    },
    {
      "cell_type": "markdown",
      "metadata": {
        "id": "8Nz5vF02an3t",
        "colab_type": "text"
      },
      "source": [
        "## Train"
      ]
    },
    {
      "cell_type": "code",
      "metadata": {
        "id": "wzSZTl2uQyCF",
        "colab_type": "code",
        "colab": {}
      },
      "source": [
        "# %reload_ext tensorboard\n",
        "# %tensorboard --logdir logs/fit"
      ],
      "execution_count": 0,
      "outputs": []
    },
    {
      "cell_type": "code",
      "metadata": {
        "id": "IJvpuiD_LILG",
        "colab_type": "code",
        "outputId": "1878e9ed-12c2-467c-d577-95d8a9ee1031",
        "colab": {
          "base_uri": "https://localhost:8080/",
          "height": 697
        }
      },
      "source": [
        "# %%time\n",
        "# !rm -rf logs\n",
        "log_dir=\"logs/fit/\" + datetime.now().strftime(\"%Y%m%d-%H%M%S\")\n",
        "tensorboard_callback = tf.keras.callbacks.TensorBoard(log_dir=log_dir, histogram_freq=0, write_graph=True, write_images=True)\n",
        "\n",
        "# model.fit(train_data, epochs=10, callbacks=[tensorboard_callback], validation_data=test_data)\n",
        "\n",
        "model.fit(train_data, epochs=15, validation_data=test_data)"
      ],
      "execution_count": 0,
      "outputs": [
        {
          "output_type": "stream",
          "text": [
            "WARNING:tensorflow:sample_weight modes were coerced from\n",
            "  ...\n",
            "    to  \n",
            "  ['...']\n",
            "WARNING:tensorflow:sample_weight modes were coerced from\n",
            "  ...\n",
            "    to  \n",
            "  ['...']\n",
            "Train for 399 steps, validate for 99 steps\n",
            "Epoch 1/15\n",
            "399/399 [==============================] - 56s 140ms/step - loss: 2.4053 - accuracy: 0.1504 - val_loss: 2.0392 - val_accuracy: 0.4508\n",
            "Epoch 2/15\n",
            "399/399 [==============================] - 55s 137ms/step - loss: 1.9796 - accuracy: 0.2804 - val_loss: 1.6148 - val_accuracy: 0.5013\n",
            "Epoch 3/15\n",
            "399/399 [==============================] - 55s 137ms/step - loss: 1.7674 - accuracy: 0.3459 - val_loss: 1.5646 - val_accuracy: 0.4160\n",
            "Epoch 4/15\n",
            "399/399 [==============================] - 55s 138ms/step - loss: 1.5684 - accuracy: 0.4325 - val_loss: 1.2082 - val_accuracy: 0.6749\n",
            "Epoch 5/15\n",
            "399/399 [==============================] - 56s 141ms/step - loss: 1.3071 - accuracy: 0.5412 - val_loss: 0.7860 - val_accuracy: 0.7891\n",
            "Epoch 6/15\n",
            "399/399 [==============================] - 56s 141ms/step - loss: 1.0356 - accuracy: 0.6474 - val_loss: 0.5470 - val_accuracy: 0.8018\n",
            "Epoch 7/15\n",
            "399/399 [==============================] - 56s 141ms/step - loss: 0.8458 - accuracy: 0.7046 - val_loss: 0.4820 - val_accuracy: 0.8681\n",
            "Epoch 8/15\n",
            "399/399 [==============================] - 56s 141ms/step - loss: 0.7292 - accuracy: 0.7442 - val_loss: 0.5194 - val_accuracy: 0.8093\n",
            "Epoch 9/15\n",
            "399/399 [==============================] - 56s 141ms/step - loss: 0.6639 - accuracy: 0.7747 - val_loss: 0.3129 - val_accuracy: 0.9040\n",
            "Epoch 10/15\n",
            "399/399 [==============================] - 56s 142ms/step - loss: 0.5471 - accuracy: 0.8122 - val_loss: 0.2492 - val_accuracy: 0.9457\n",
            "Epoch 11/15\n",
            "399/399 [==============================] - 57s 142ms/step - loss: 0.5009 - accuracy: 0.8213 - val_loss: 0.2484 - val_accuracy: 0.9085\n",
            "Epoch 12/15\n",
            "399/399 [==============================] - 56s 141ms/step - loss: 0.4641 - accuracy: 0.8362 - val_loss: 0.1969 - val_accuracy: 0.9242\n",
            "Epoch 13/15\n",
            "399/399 [==============================] - 56s 140ms/step - loss: 0.4398 - accuracy: 0.8471 - val_loss: 0.1978 - val_accuracy: 0.9318\n",
            "Epoch 14/15\n",
            "399/399 [==============================] - 54s 136ms/step - loss: 0.4534 - accuracy: 0.8506 - val_loss: 0.1665 - val_accuracy: 0.9520\n",
            "Epoch 15/15\n",
            "399/399 [==============================] - 54s 136ms/step - loss: 0.3662 - accuracy: 0.8722 - val_loss: 0.1202 - val_accuracy: 0.9678\n"
          ],
          "name": "stdout"
        },
        {
          "output_type": "execute_result",
          "data": {
            "text/plain": [
              "<tensorflow.python.keras.callbacks.History at 0x7ff67ce1a2e8>"
            ]
          },
          "metadata": {
            "tags": []
          },
          "execution_count": 31
        }
      ]
    },
    {
      "cell_type": "code",
      "metadata": {
        "id": "XDHCenJwFkBq",
        "colab_type": "code",
        "colab": {}
      },
      "source": [
        "model.save_weights('weights.h5')"
      ],
      "execution_count": 0,
      "outputs": []
    },
    {
      "cell_type": "code",
      "metadata": {
        "id": "1sGTVhOCUTK9",
        "colab_type": "code",
        "colab": {}
      },
      "source": [
        "model.load_weights(\"weights.h5\")"
      ],
      "execution_count": 0,
      "outputs": []
    },
    {
      "cell_type": "code",
      "metadata": {
        "id": "YvfMp2vSRU_b",
        "colab_type": "code",
        "outputId": "53652c9a-77f6-4bd0-e771-6a5fb41e5a3f",
        "colab": {
          "base_uri": "https://localhost:8080/",
          "height": 357
        }
      },
      "source": [
        "y_pred = np.argmax(model.predict(test_data), axis=1)\n",
        "y_test = test_data.get_labels()[:y_pred.shape[0]]\n",
        "print(classification_report(y_test, y_pred, target_names=test_data.class_labels))"
      ],
      "execution_count": 0,
      "outputs": [
        {
          "output_type": "stream",
          "text": [
            "                precision    recall  f1-score   support\n",
            "\n",
            "          pony       1.00      0.95      0.97       123\n",
            "     ugly-duck       0.98      1.00      0.99       119\n",
            "        alpaca       0.92      0.99      0.95       123\n",
            "       chicken       0.86      0.92      0.89       123\n",
            "       peacock       0.98      0.74      0.84       122\n",
            "  evil-chicken       0.98      1.00      0.99       123\n",
            "        rabbit       0.98      1.00      0.99       121\n",
            "           pig       1.00      1.00      1.00       123\n",
            "        ferret       0.99      1.00      1.00       120\n",
            "           cat       1.00      1.00      1.00       121\n",
            "         goose       0.92      0.98      0.95       122\n",
            "pretty-chicken       1.00      1.00      1.00       122\n",
            "         sheep       1.00      1.00      1.00       122\n",
            "\n",
            "      accuracy                           0.97      1584\n",
            "     macro avg       0.97      0.97      0.97      1584\n",
            "  weighted avg       0.97      0.97      0.97      1584\n",
            "\n"
          ],
          "name": "stdout"
        }
      ]
    },
    {
      "cell_type": "code",
      "metadata": {
        "id": "X6qaDhVNoetA",
        "colab_type": "code",
        "outputId": "35a85423-0048-4b2f-fa9c-1f19ff2cefca",
        "colab": {
          "base_uri": "https://localhost:8080/",
          "height": 34
        }
      },
      "source": [
        "# test_data.get_labels().shape\n",
        "# np.argmax(y_pred, axis=1).shape"
      ],
      "execution_count": 0,
      "outputs": [
        {
          "output_type": "execute_result",
          "data": {
            "text/plain": [
              "(1124,)"
            ]
          },
          "metadata": {
            "tags": []
          },
          "execution_count": 24
        }
      ]
    },
    {
      "cell_type": "code",
      "metadata": {
        "id": "aGL7fddZkwK6",
        "colab_type": "code",
        "outputId": "dbca082a-0776-4f51-ef76-998552a4ca78",
        "colab": {
          "base_uri": "https://localhost:8080/",
          "height": 51
        }
      },
      "source": [
        "print(\"Pred:\", np.bincount(y_pred))\n",
        "print(\"True:\", np.bincount(y_test))"
      ],
      "execution_count": 0,
      "outputs": [
        {
          "output_type": "stream",
          "text": [
            "Pred: [ 99 105  80  81  67 169 167]\n",
            "True: [109 110 110 110 110 109 110]\n"
          ],
          "name": "stdout"
        }
      ]
    },
    {
      "cell_type": "code",
      "metadata": {
        "id": "8UJldAYBTG7Z",
        "colab_type": "code",
        "outputId": "e822dc1f-ccf5-4c9e-9d8f-c638697d357a",
        "colab": {
          "base_uri": "https://localhost:8080/",
          "height": 562
        }
      },
      "source": [
        "# y_pred = model.predict_classes(X_test)\n",
        "\n",
        "y_pred_named = [test_data.class_labels[x] for x in y_pred]\n",
        "y_test_named = [test_data.class_labels[x] for x in y_test]\n",
        "confusion = confusion_matrix(y_test_named, y_pred_named, labels=test_data.class_labels)\n",
        "\n",
        "f, ax = plt.subplots(figsize=(5, 5), dpi=100)\n",
        "ax = sns.heatmap(confusion, annot=True, xticklabels=test_data.class_labels, yticklabels=test_data.class_labels, square=True, cbar=False, fmt=\"d\")\n",
        "ax.set(xlabel='Predicted class', ylabel='Actual class')\n",
        "plt.show()"
      ],
      "execution_count": 0,
      "outputs": [
        {
          "output_type": "display_data",
          "data": {
            "image/png": "[encoded data removed]",
            "text/plain": [
              "<Figure size 500x500 with 1 Axes>"
            ]
          },
          "metadata": {
            "tags": []
          }
        }
      ]
    },
    {
      "cell_type": "code",
      "metadata": {
        "id": "iWsQxrrpLVbM",
        "colab_type": "code",
        "outputId": "3cfa7c5e-6288-482c-a19e-7efdc090499e",
        "colab": {
          "base_uri": "https://localhost:8080/",
          "height": 351
        }
      },
      "source": [
        "n = 5\n",
        "\n",
        "ids = np.random.randint(0, len(test_data)-1, size=n)\n",
        "preds = model.predict_classes(test_data[ids])\n",
        "\n",
        "fig, axes = plt.subplots(1, n, figsize=(15, 10))\n",
        "\n",
        "for id_, ax, pred in zip(ids, axes, preds):\n",
        "    ax.imshow(X_test[id_][..., 1:])\n",
        "    ax.axis('off')\n",
        "    ax.set_title(data.class_labels[pred])\n",
        "\n",
        "plt.tight_layout()"
      ],
      "execution_count": 0,
      "outputs": [
        {
          "output_type": "error",
          "ename": "ValueError",
          "evalue": "ignored",
          "traceback": [
            "\u001b[0;31m---------------------------------------------------------------------------\u001b[0m",
            "\u001b[0;31mValueError\u001b[0m                                Traceback (most recent call last)",
            "\u001b[0;32m<ipython-input-33-e60d0112dc18>\u001b[0m in \u001b[0;36m<module>\u001b[0;34m()\u001b[0m\n\u001b[1;32m      2\u001b[0m \u001b[0;34m\u001b[0m\u001b[0m\n\u001b[1;32m      3\u001b[0m \u001b[0mids\u001b[0m \u001b[0;34m=\u001b[0m \u001b[0mnp\u001b[0m\u001b[0;34m.\u001b[0m\u001b[0mrandom\u001b[0m\u001b[0;34m.\u001b[0m\u001b[0mrandint\u001b[0m\u001b[0;34m(\u001b[0m\u001b[0;36m0\u001b[0m\u001b[0;34m,\u001b[0m \u001b[0mlen\u001b[0m\u001b[0;34m(\u001b[0m\u001b[0mtest_data\u001b[0m\u001b[0;34m)\u001b[0m\u001b[0;34m-\u001b[0m\u001b[0;36m1\u001b[0m\u001b[0;34m,\u001b[0m \u001b[0msize\u001b[0m\u001b[0;34m=\u001b[0m\u001b[0mn\u001b[0m\u001b[0;34m)\u001b[0m\u001b[0;34m\u001b[0m\u001b[0;34m\u001b[0m\u001b[0m\n\u001b[0;32m----> 4\u001b[0;31m \u001b[0mpreds\u001b[0m \u001b[0;34m=\u001b[0m \u001b[0mmodel\u001b[0m\u001b[0;34m.\u001b[0m\u001b[0mpredict_classes\u001b[0m\u001b[0;34m(\u001b[0m\u001b[0mtest_data\u001b[0m\u001b[0;34m[\u001b[0m\u001b[0mids\u001b[0m\u001b[0;34m]\u001b[0m\u001b[0;34m)\u001b[0m\u001b[0;34m\u001b[0m\u001b[0;34m\u001b[0m\u001b[0m\n\u001b[0m\u001b[1;32m      5\u001b[0m \u001b[0;34m\u001b[0m\u001b[0m\n\u001b[1;32m      6\u001b[0m \u001b[0mfig\u001b[0m\u001b[0;34m,\u001b[0m \u001b[0maxes\u001b[0m \u001b[0;34m=\u001b[0m \u001b[0mplt\u001b[0m\u001b[0;34m.\u001b[0m\u001b[0msubplots\u001b[0m\u001b[0;34m(\u001b[0m\u001b[0;36m1\u001b[0m\u001b[0;34m,\u001b[0m \u001b[0mn\u001b[0m\u001b[0;34m,\u001b[0m \u001b[0mfigsize\u001b[0m\u001b[0;34m=\u001b[0m\u001b[0;34m(\u001b[0m\u001b[0;36m15\u001b[0m\u001b[0;34m,\u001b[0m \u001b[0;36m10\u001b[0m\u001b[0;34m)\u001b[0m\u001b[0;34m)\u001b[0m\u001b[0;34m\u001b[0m\u001b[0;34m\u001b[0m\u001b[0m\n",
            "\u001b[0;32m<ipython-input-14-f064a2de39ba>\u001b[0m in \u001b[0;36m__getitem__\u001b[0;34m(self, idx)\u001b[0m\n\u001b[1;32m     49\u001b[0m \u001b[0;34m\u001b[0m\u001b[0m\n\u001b[1;32m     50\u001b[0m     \u001b[0;32mdef\u001b[0m \u001b[0m__getitem__\u001b[0m\u001b[0;34m(\u001b[0m\u001b[0mself\u001b[0m\u001b[0;34m,\u001b[0m \u001b[0midx\u001b[0m\u001b[0;34m)\u001b[0m\u001b[0;34m:\u001b[0m\u001b[0;34m\u001b[0m\u001b[0;34m\u001b[0m\u001b[0m\n\u001b[0;32m---> 51\u001b[0;31m         \u001b[0;32mif\u001b[0m \u001b[0midx\u001b[0m \u001b[0;34m<\u001b[0m \u001b[0mself\u001b[0m\u001b[0;34m.\u001b[0m\u001b[0m__len__\u001b[0m\u001b[0;34m(\u001b[0m\u001b[0;34m)\u001b[0m\u001b[0;34m:\u001b[0m\u001b[0;34m\u001b[0m\u001b[0;34m\u001b[0m\u001b[0m\n\u001b[0m\u001b[1;32m     52\u001b[0m             \u001b[0mX\u001b[0m \u001b[0;34m=\u001b[0m \u001b[0;34m[\u001b[0m\u001b[0;34m]\u001b[0m\u001b[0;34m\u001b[0m\u001b[0;34m\u001b[0m\u001b[0m\n\u001b[1;32m     53\u001b[0m             \u001b[0my\u001b[0m \u001b[0;34m=\u001b[0m \u001b[0;34m[\u001b[0m\u001b[0;34m]\u001b[0m\u001b[0;34m\u001b[0m\u001b[0;34m\u001b[0m\u001b[0m\n",
            "\u001b[0;31mValueError\u001b[0m: The truth value of an array with more than one element is ambiguous. Use a.any() or a.all()"
          ]
        }
      ]
    },
    {
      "cell_type": "code",
      "metadata": {
        "id": "B2nTLaXkQbgB",
        "colab_type": "code",
        "outputId": "804a3eca-fcc4-4679-e85e-840629eb366d",
        "colab": {
          "base_uri": "https://localhost:8080/",
          "height": 51
        }
      },
      "source": [
        ""
      ],
      "execution_count": 0,
      "outputs": [
        {
          "output_type": "execute_result",
          "data": {
            "text/plain": [
              "defaultdict(<method-wrapper '__next__' of itertools.count object at 0x7f3ea2c8f6c8>,\n",
              "            {'alpaca': 2, 'chicken': 4, 'peacock': 3, 'pig': 0, 'pony': 1})"
            ]
          },
          "metadata": {
            "tags": []
          },
          "execution_count": 46
        }
      ]
    },
    {
      "cell_type": "code",
      "metadata": {
        "id": "0apBEsi0Su1a",
        "colab_type": "code",
        "colab": {}
      },
      "source": [
        ""
      ],
      "execution_count": 0,
      "outputs": []
    }
  ]
}