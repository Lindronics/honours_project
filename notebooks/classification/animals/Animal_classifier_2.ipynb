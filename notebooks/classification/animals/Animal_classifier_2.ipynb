{
  "nbformat": 4,
  "nbformat_minor": 0,
  "metadata": {
    "colab": {
      "name": "Animal_classifier_2.ipynb",
      "provenance": [],
      "collapsed_sections": [
        "k12CpPBhaXQ4"
      ],
      "machine_shape": "hm",
      "authorship_tag": "ABX9TyN8gxycsh7Z7kZk6KwzVhTu",
      "include_colab_link": true
    },
    "kernelspec": {
      "name": "python3",
      "display_name": "Python 3"
    },
    "accelerator": "GPU"
  },
  "cells": [
    {
      "cell_type": "markdown",
      "metadata": {
        "id": "view-in-github",
        "colab_type": "text"
      },
      "source": [
        "<a href=\"https://colab.research.google.com/github/Lindronics/honours_project/blob/master/notebooks/classification/animals/Animal_classifier_2.ipynb\" target=\"_parent\"><img src=\"https://colab.research.google.com/assets/colab-badge.svg\" alt=\"Open In Colab\"/></a>"
      ]
    },
    {
      "cell_type": "markdown",
      "metadata": {
        "id": "zKD9-Xjxozx5",
        "colab_type": "text"
      },
      "source": [
        "# Animal classifier"
      ]
    },
    {
      "cell_type": "markdown",
      "metadata": {
        "id": "NaVAfT8wo1ne",
        "colab_type": "text"
      },
      "source": [
        "## Setup and imports\n",
        "\n"
      ]
    },
    {
      "cell_type": "code",
      "metadata": {
        "id": "b-NO7a-T9eav",
        "colab_type": "code",
        "outputId": "7843ea03-ba24-40f8-b08f-b098f741bbed",
        "colab": {
          "base_uri": "https://localhost:8080/",
          "height": 34
        }
      },
      "source": [
        "%tensorflow_version 2.x"
      ],
      "execution_count": 0,
      "outputs": [
        {
          "output_type": "stream",
          "text": [
            "TensorFlow 2.x selected.\n"
          ],
          "name": "stdout"
        }
      ]
    },
    {
      "cell_type": "code",
      "metadata": {
        "id": "uwYBOVFf7HyN",
        "colab_type": "code",
        "outputId": "5ca5c404-1c2d-47f0-974d-4e526487a092",
        "colab": {
          "base_uri": "https://localhost:8080/",
          "height": 309
        }
      },
      "source": [
        "!rm -rf /content/*\n",
        "!wget --no-check-certificate -O dataset.zip \"https://onedrive.live.com/download?cid=5691066189D062AB&resid=5691066189D062AB%21228202&authkey=ADau7jkkCZLnQ8k\"\n",
        "!unzip -q dataset.zip"
      ],
      "execution_count": 0,
      "outputs": [
        {
          "output_type": "stream",
          "text": [
            "--2020-02-23 12:09:52--  https://onedrive.live.com/download?cid=5691066189D062AB&resid=5691066189D062AB%21228202&authkey=ADau7jkkCZLnQ8k\n",
            "Resolving onedrive.live.com (onedrive.live.com)... 13.107.42.13\n",
            "Connecting to onedrive.live.com (onedrive.live.com)|13.107.42.13|:443... connected.\n",
            "HTTP request sent, awaiting response... 302 Found\n",
            "Location: https://kusdwq.am.files.1drv.com/y4mzw_fgVcyw7M7GfEa2Jv0jtomW9FWM19N6wEnzdudyARCJk27OmbrFdHnzQ6KTOX5cVj8PujK7XcdVuEXbZBqHYp-wSte_zubIKg7cC1JFnY1Rzt3RzIW9Hju1lp5875HTGWWlFf0rq6UgfL7CB5Pc9Pmr2CqtZeYBaQBATEpKdxUNAqCGF_fJltuQaK6uMJ4UUPRZAlXmr5y3B_1Htl8aQ/images_160x120_downsampled.zip?download&psid=1 [following]\n",
            "--2020-02-23 12:09:53--  https://kusdwq.am.files.1drv.com/y4mzw_fgVcyw7M7GfEa2Jv0jtomW9FWM19N6wEnzdudyARCJk27OmbrFdHnzQ6KTOX5cVj8PujK7XcdVuEXbZBqHYp-wSte_zubIKg7cC1JFnY1Rzt3RzIW9Hju1lp5875HTGWWlFf0rq6UgfL7CB5Pc9Pmr2CqtZeYBaQBATEpKdxUNAqCGF_fJltuQaK6uMJ4UUPRZAlXmr5y3B_1Htl8aQ/images_160x120_downsampled.zip?download&psid=1\n",
            "Resolving kusdwq.am.files.1drv.com (kusdwq.am.files.1drv.com)... 13.107.42.12\n",
            "Connecting to kusdwq.am.files.1drv.com (kusdwq.am.files.1drv.com)|13.107.42.12|:443... connected.\n",
            "HTTP request sent, awaiting response... 200 OK\n",
            "Length: 74001989 (71M) [application/zip]\n",
            "Saving to: ‘dataset.zip’\n",
            "\n",
            "dataset.zip         100%[===================>]  70.57M  17.2MB/s    in 5.2s    \n",
            "\n",
            "2020-02-23 12:09:59 (13.5 MB/s) - ‘dataset.zip’ saved [74001989/74001989]\n",
            "\n"
          ],
          "name": "stdout"
        }
      ]
    },
    {
      "cell_type": "code",
      "metadata": {
        "id": "AiAumFqNEZ1X",
        "colab_type": "code",
        "colab": {}
      },
      "source": [
        "import cv2\n",
        "import numpy as np\n",
        "import matplotlib.pyplot as plt\n",
        "from sklearn.model_selection import train_test_split\n",
        "import tensorflow as tf\n",
        "import tensorflow.keras as K\n",
        "from tensorflow.keras.preprocessing.image import ImageDataGenerator\n",
        "from sklearn.metrics import classification_report, confusion_matrix\n",
        "import seaborn as sns; sns.set()\n",
        "import os\n",
        "from os import listdir\n",
        "from os.path import isdir, join\n",
        "import shutil\n",
        "from tqdm import tqdm\n",
        "from datetime import datetime\n",
        "\n",
        "from itertools import count\n",
        "from collections import defaultdict"
      ],
      "execution_count": 0,
      "outputs": []
    },
    {
      "cell_type": "markdown",
      "metadata": {
        "id": "uv2qfw39oyfR",
        "colab_type": "text"
      },
      "source": [
        "## Pre-process dataset"
      ]
    },
    {
      "cell_type": "code",
      "metadata": {
        "id": "-wSYqKE1owvD",
        "colab_type": "code",
        "colab": {}
      },
      "source": [
        "whitelist = [\n",
        "    \"pony\",\n",
        "    \"alpaca\",\n",
        "    \"chicken\",\n",
        "    \"peacock\",\n",
        "    # \"rabbit\",\n",
        "    \"cat\",\n",
        "    # \"pretty-chicken\",\n",
        "]\n",
        "\n",
        "configurations = {\n",
        "    \"train\": lambda fname: fname.split(\"_\")[1] == \"single\" and fname.split(\"_\")[0] in whitelist,\n",
        "    \"test\": lambda fname: fname.split(\"_\")[1] != \"single\" and fname.split(\"_\")[0] in whitelist,\n",
        "    \"train_augmented\": lambda fname: fname.split(\"_\")[0] != \"human\",\n",
        "    \"test_augmented\": lambda fname: fname.split(\"_\")[1] != \"human\",\n",
        "}\n",
        "\n",
        "\n",
        "def generate_metadata(config, root=\"images\", channel_prefix=True):\n",
        "    \"\"\" Generates labels to be read by model data loader \"\"\"\n",
        "\n",
        "    classes = [c for c in listdir(root) if isdir(join(root, c))]\n",
        "    samples = {c: 0 for c in classes}\n",
        "    \n",
        "    with open(f\"labels_{config}.txt\", \"w\") as f:\n",
        "        for c in classes:\n",
        "            batches = [b for b in listdir(join(root, c)) if isdir(join(root, c, b)) and configurations[config](b)]\n",
        "            \n",
        "            for b in batches:\n",
        "                lwir_images = [i for i in listdir(join(root, c, b, \"lwir\")) if i.endswith(\".png\")]\n",
        "                rgb_images = [\"rgb_\" + i[4:] for i in lwir_images] if channel_prefix else [i for i in lwir_images]\n",
        "\n",
        "                lwir_paths = [join(root, c, b, \"lwir\", i) for i in lwir_images]\n",
        "                rgb_paths = [join(root, c, b, \"rgb\", i) for i in rgb_images]\n",
        "\n",
        "                for lwir_path, rgb_path in zip(lwir_paths, rgb_paths):\n",
        "                    f.write(\" \".join([rgb_path, lwir_path, c]) + \"\\n\")\n",
        "                    samples[c] += 1\n",
        "\n",
        "    print(\"Dataset composition:\")\n",
        "    sum_ = 0\n",
        "    for c, s in samples.items():\n",
        "        sum_ += s\n",
        "        print(f\" - {c}: \\t{s}\")\n",
        "    print(f\"{sum_} items total.\")\n"
      ],
      "execution_count": 0,
      "outputs": []
    },
    {
      "cell_type": "code",
      "metadata": {
        "id": "wXSNZRbFpH33",
        "colab_type": "code",
        "colab": {}
      },
      "source": [
        "def save(path, name, rgb, lwir, label, extension=\"\"):\n",
        "    rgb_path = os.path.join(path, \"rgb\", name + f\"_{extension}.png\")\n",
        "    lwir_path = os.path.join(path, \"lwir\", name + f\"_{extension}.png\")\n",
        "\n",
        "    cv2.imwrite(rgb_path, rgb)\n",
        "    cv2.imwrite(lwir_path, lwir)\n",
        "    return \" \".join([rgb_path, lwir_path, label])\n",
        "\n",
        "\n",
        "def augment_dataset(metadata, augmented_dir, multiplier=2):\n",
        "\n",
        "    if os.path.exists(augmented_dir):\n",
        "        shutil.rmtree(augmented_dir)\n",
        "\n",
        "    datagen = ImageDataGenerator(\n",
        "        horizontal_flip=True,\n",
        "        rotation_range=30,\n",
        "        zoom_range=[0.5, 1],\n",
        "    )\n",
        "\n",
        "    classes = dict()\n",
        "    samples = list()\n",
        "\n",
        "    # Load labels\n",
        "    with open(metadata, \"r\") as f:\n",
        "        for line in f:\n",
        "            line = line.split()\n",
        "            samples.append(line)\n",
        "\n",
        "            classes[line[-1]] = classes.get(line[-1], 0) + 1\n",
        "\n",
        "    # Get maximum class samples\n",
        "    max_class = max(classes.items(), key=lambda x: x[1])\n",
        "    class_multipliers = {x: max_class[1] * multiplier // y for x, y in classes.items()}\n",
        "    class_remainders = {x: (max_class[1] * multiplier) % y for x, y in classes.items()}\n",
        "\n",
        "    # Generate output directory structure\n",
        "    for label in classes:\n",
        "        os.makedirs(os.path.join(augmented_dir, label, f\"{label}_single_1\", \"lwir\"))\n",
        "        os.makedirs(os.path.join(augmented_dir, label, f\"{label}_single_1\", \"rgb\"))\n",
        "\n",
        "    # Augment and copy\n",
        "    augmented_samples = []\n",
        "    for rgb_path, lwir_path, label in tqdm(samples, position=0):\n",
        "        rgb = cv2.imread(rgb_path)\n",
        "        lwir = cv2.imread(lwir_path)\n",
        "\n",
        "        name = (rgb_path.split(\"/\")[-1]).split(\".\")[0][4:]\n",
        "        out_path = os.path.join(augmented_dir, label, f\"{label}_single_1\")\n",
        "\n",
        "        # Copy original\n",
        "        augmented_samples.append(save(out_path, name, rgb, lwir, label, extension=\"\"))\n",
        "\n",
        "        # Flipped\n",
        "        rgb_t = datagen.apply_transform(rgb, {\"flip_horizontal\": True})\n",
        "        lwir_t = datagen.apply_transform(lwir, {\"flip_horizontal\": True})\n",
        "\n",
        "        augmented_samples.append(save(out_path, name, rgb_t, lwir_t, label, extension=0))\n",
        "\n",
        "        # Random transformations\n",
        "        remainder = 1 if class_remainders[label] > 0 else 0\n",
        "        class_remainders[label] -= 1\n",
        "        for i in range(2, class_multipliers[label] + remainder):\n",
        "            trans = datagen.get_random_transform(rgb.shape)\n",
        "            rgb_t = datagen.apply_transform(rgb, trans)\n",
        "            lwir_t = datagen.apply_transform(lwir, trans)\n",
        "\n",
        "            augmented_samples.append(save(out_path, name, rgb_t, lwir_t, label, extension=i))\n",
        "\n",
        "\n",
        "    with open(\"augmented.txt\", \"w\") as f:\n",
        "        for line in augmented_samples:\n",
        "            f.write(line + \"\\n\")"
      ],
      "execution_count": 0,
      "outputs": []
    },
    {
      "cell_type": "code",
      "metadata": {
        "id": "4-RtmJKMp79s",
        "colab_type": "code",
        "outputId": "68587534-7c00-4b18-f07f-27ba08022c2b",
        "colab": {
          "base_uri": "https://localhost:8080/",
          "height": 561
        }
      },
      "source": [
        "generate_metadata(\"train\", root=\"images_160x120_downsampled\")\n",
        "generate_metadata(\"test\", root=\"images_160x120_downsampled\")"
      ],
      "execution_count": 0,
      "outputs": [
        {
          "output_type": "stream",
          "text": [
            "Dataset composition:\n",
            " - pony: \t96\n",
            " - ugly-duck: \t0\n",
            " - alpaca: \t45\n",
            " - chicken: \t86\n",
            " - peacock: \t91\n",
            " - evil-chicken: \t0\n",
            " - rabbit: \t0\n",
            " - pig: \t0\n",
            " - ferret: \t0\n",
            " - human: \t0\n",
            " - cat: \t149\n",
            " - goose: \t0\n",
            " - pretty-chicken: \t0\n",
            " - sheep: \t0\n",
            "467 items total.\n",
            "Dataset composition:\n",
            " - pony: \t16\n",
            " - ugly-duck: \t0\n",
            " - alpaca: \t40\n",
            " - chicken: \t52\n",
            " - peacock: \t66\n",
            " - evil-chicken: \t0\n",
            " - rabbit: \t0\n",
            " - pig: \t0\n",
            " - ferret: \t0\n",
            " - human: \t0\n",
            " - cat: \t56\n",
            " - goose: \t0\n",
            " - pretty-chicken: \t0\n",
            " - sheep: \t0\n",
            "230 items total.\n"
          ],
          "name": "stdout"
        }
      ]
    },
    {
      "cell_type": "code",
      "metadata": {
        "id": "WfuGnmfoqC7i",
        "colab_type": "code",
        "outputId": "365edcdd-851f-4b79-e9d1-1bae6100e48d",
        "colab": {
          "base_uri": "https://localhost:8080/",
          "height": 187
        }
      },
      "source": [
        "augment_dataset(\"labels_train.txt\", \"train_images\", multiplier=6)\n",
        "print(\"\\nTraining dataset\")\n",
        "generate_metadata(\"train_augmented\", root=\"train_images\", channel_prefix=False)"
      ],
      "execution_count": 0,
      "outputs": [
        {
          "output_type": "stream",
          "text": [
            "100%|██████████| 467/467 [00:39<00:00, 11.69it/s]\n"
          ],
          "name": "stderr"
        },
        {
          "output_type": "stream",
          "text": [
            "\n",
            "Training dataset\n",
            "Dataset composition:\n",
            " - pony: \t894\n",
            " - alpaca: \t894\n",
            " - chicken: \t894\n",
            " - peacock: \t894\n",
            " - cat: \t894\n",
            "4470 items total.\n"
          ],
          "name": "stdout"
        }
      ]
    },
    {
      "cell_type": "code",
      "metadata": {
        "id": "_UIh3bWFqGqe",
        "colab_type": "code",
        "outputId": "bf7a8c23-7012-41a3-98f4-861ae6c7f373",
        "colab": {
          "base_uri": "https://localhost:8080/",
          "height": 187
        }
      },
      "source": [
        "augment_dataset(\"labels_test.txt\", \"test_images\", multiplier=2)\n",
        "print(\"\\nTesting dataset\")\n",
        "generate_metadata(\"test_augmented\", root=\"test_images\", channel_prefix=False)"
      ],
      "execution_count": 0,
      "outputs": [
        {
          "output_type": "stream",
          "text": [
            "100%|██████████| 230/230 [00:03<00:00, 68.11it/s] "
          ],
          "name": "stderr"
        },
        {
          "output_type": "stream",
          "text": [
            "\n",
            "Testing dataset\n",
            "Dataset composition:\n",
            " - pony: \t132\n",
            " - alpaca: \t132\n",
            " - chicken: \t132\n",
            " - peacock: \t132\n",
            " - cat: \t132\n",
            "660 items total.\n"
          ],
          "name": "stdout"
        },
        {
          "output_type": "stream",
          "text": [
            "\n"
          ],
          "name": "stderr"
        }
      ]
    },
    {
      "cell_type": "markdown",
      "metadata": {
        "id": "hG-RqAvxB_py",
        "colab_type": "text"
      },
      "source": [
        "## Dataset"
      ]
    },
    {
      "cell_type": "code",
      "metadata": {
        "id": "7xf2kRpD8buO",
        "colab_type": "code",
        "colab": {}
      },
      "source": [
        "transformation = np.array([\n",
        "    [1.202290, -0.026808, -50.528589],\n",
        "    [0.017762, 1.203090, -73.950204],\n",
        "])\n",
        "\n",
        "class Dataset(K.utils.Sequence):\n",
        "\n",
        "    def __init__(self, metadata, rgb_only=False, res=(480, 640), register=True, batch_size=16, split=False, train=True):\n",
        "\n",
        "        self.rgb_only = rgb_only\n",
        "        self.res = res\n",
        "        self.register = register\n",
        "        self.batch_size = batch_size\n",
        "\n",
        "        self.classes = defaultdict(count().__next__)\n",
        "        self.samples = []\n",
        "\n",
        "        samples = []\n",
        "        labels = []\n",
        "        with open(metadata, \"r\") as f:\n",
        "            for line in f:\n",
        "                line = line.split()\n",
        "                class_label = self.classes[line[-1]]\n",
        "                samples.append(tuple(line[:2] + [class_label]))\n",
        "                labels.append(class_label)\n",
        "\n",
        "        if split:\n",
        "            train_data, test_data = train_test_split(samples, stratify=labels, test_size=0.2, random_state=42)\n",
        "            self.samples = train_data if train else test_data\n",
        "        else:\n",
        "            self.samples = samples\n",
        "\n",
        "        self.class_dict = {key: val for val, key in self.classes.items()}\n",
        "        self.class_labels = [val for key, val in sorted(self.class_dict.items())]\n",
        "\n",
        "    def __len__(self):\n",
        "        return len(self.samples) // self.batch_size\n",
        "    \n",
        "\n",
        "    def __iter__(self):\n",
        "        return self\n",
        "\n",
        "\n",
        "    def load(self, path, register=False):\n",
        "        img = cv2.imread(path) / 255\n",
        "        if register:\n",
        "            img = cv2.resize(img, (480, 640))\n",
        "            img = cv2.warpAffine(img, transformation, (480, 640))\n",
        "        img = cv2.resize(img, self.res)\n",
        "        return img\n",
        "\n",
        "\n",
        "    def __getitem__(self, idx):\n",
        "        if idx < self.__len__():\n",
        "            X = []\n",
        "            y = []\n",
        "            for i in range(self.batch_size):\n",
        "                rgb_path, lwir_path, label = self.samples[idx * self.batch_size + i]\n",
        "\n",
        "                one_hot = np.zeros(self.num_classes())\n",
        "                one_hot[label] = 1\n",
        "                y.append(one_hot)\n",
        "\n",
        "                rgb = self.load(rgb_path, register=self.register)\n",
        "\n",
        "                if self.rgb_only:\n",
        "                    X.append(rgb)\n",
        "                else:\n",
        "                    lwir = self.load(lwir_path, register=False)\n",
        "                    lwir = np.mean(lwir, -1)[..., None]\n",
        "                    stacked = np.dstack([rgb, lwir])\n",
        "                    X.append(stacked)\n",
        "\n",
        "            return np.array(X), np.array(y), [None]\n",
        "        else:\n",
        "            raise StopIteration\n",
        "\n",
        "    def get_labels(self):\n",
        "        return np.array([sample[-1] for sample in self.samples])\n",
        "\n",
        "    def num_classes(self):\n",
        "        return len(self.classes)\n",
        "\n",
        "    def shape(self):\n",
        "        return self.res[::-1] + tuple([(3 if self.rgb_only else 4)])\n",
        "\n",
        "\n",
        "train_data = Dataset(f\"labels_train_augmented.txt\", rgb_only=False, split=False, res=(120, 160))\n",
        "test_data = Dataset(f\"labels_test_augmented.txt\", rgb_only=False, split=False, res=(120, 160))\n",
        "\n",
        "# train_data = Dataset(f\"labels_train_augmented.txt\", rgb_only=False, split=False, res=(120, 160))\n",
        "# test_data = Dataset(f\"labels_train_augmented.txt\", rgb_only=False, split=False, res=(120, 160))"
      ],
      "execution_count": 0,
      "outputs": []
    },
    {
      "cell_type": "code",
      "metadata": {
        "id": "nGNHoK1bEL8b",
        "colab_type": "code",
        "outputId": "144df5d5-4a84-48d8-a0d6-41ec4183643c",
        "colab": {
          "base_uri": "https://localhost:8080/",
          "height": 51
        }
      },
      "source": [
        "X, y, _ = train_data[0]\n",
        "print(X.shape)\n",
        "\n",
        "X, y, _ = test_data[0]\n",
        "print(X.shape)\n",
        "# fig, (ax1, ax2) = plt.subplots(1, 2, figsize=(15, 10))\n",
        "# ax1.imshow(X[i, ..., 0], cmap=\"gray\")\n",
        "# ax2.imshow(y_train[i, ..., 0], cmap=\"gray\")"
      ],
      "execution_count": 0,
      "outputs": [
        {
          "output_type": "stream",
          "text": [
            "(16, 160, 120, 4)\n",
            "(16, 160, 120, 4)\n"
          ],
          "name": "stdout"
        }
      ]
    },
    {
      "cell_type": "code",
      "metadata": {
        "id": "jtV2EQtkPzGu",
        "colab_type": "code",
        "colab": {}
      },
      "source": [
        "# X_train, X_test, y_train, y_test = train_test_split(X, y, test_size=0.2, stratify=y, random_state=42)"
      ],
      "execution_count": 0,
      "outputs": []
    },
    {
      "cell_type": "markdown",
      "metadata": {
        "id": "Ttf3A6x1IbjC",
        "colab_type": "text"
      },
      "source": [
        "## Keras model"
      ]
    },
    {
      "cell_type": "markdown",
      "metadata": {
        "id": "k12CpPBhaXQ4",
        "colab_type": "text"
      },
      "source": [
        "## ResNet"
      ]
    },
    {
      "cell_type": "code",
      "metadata": {
        "id": "a9UO4wSYfSjl",
        "colab_type": "code",
        "colab": {}
      },
      "source": [
        "class ResidualBlock(K.layers.Layer):\n",
        "    \n",
        "    def __init__(self, kernel_size=3, **kwargs):\n",
        "        self.kernel_size = kernel_size\n",
        "        super(ResidualBlock, self).__init__(**kwargs)\n",
        "\n",
        "    def build(self, input_shape):\n",
        "        self.conv1 = K.layers.Conv2D(filters=input_shape[-1], kernel_size=(1, 1), strides=1, padding=\"same\")\n",
        "        self.conv2 = K.layers.Conv2D(filters=input_shape[-1], kernel_size=self.kernel_size, strides=1, padding=\"same\")\n",
        "        self.batch_norm1 = K.layers.BatchNormalization()\n",
        "        self.batch_norm2 = K.layers.BatchNormalization()\n",
        "        self.activation = K.layers.ReLU()\n",
        "        self.add = K.layers.Add()\n",
        "        # self.dropout = K.layers.Dropout(0.4)\n",
        "\n",
        "        super(ResidualBlock, self).build(input_shape)  # Be sure to call this at the end\n",
        "\n",
        "    def call(self, x):\n",
        "        x_shortcut = x\n",
        "        x = self.conv1(x)\n",
        "        x = self.batch_norm1(x)\n",
        "        x = self.activation(x)\n",
        "        x = self.conv2(x)\n",
        "        x = self.batch_norm2(x)\n",
        "        x = self.activation(x)\n",
        "        x = self.add([x_shortcut, x])\n",
        "        return x\n",
        "\n",
        "    def compute_output_shape(self, input_shape):\n",
        "        # return (input_shape[0], input_shape[1], input_shape[2], self.output_dim)\n",
        "        return input_shape"
      ],
      "execution_count": 0,
      "outputs": []
    },
    {
      "cell_type": "code",
      "metadata": {
        "id": "z7smgR7zggNV",
        "colab_type": "code",
        "outputId": "20b92c13-cb11-4af9-ce9c-30d1a6cab15f",
        "colab": {
          "base_uri": "https://localhost:8080/",
          "height": 493
        }
      },
      "source": [
        "model = K.Sequential()\n",
        "\n",
        "model.add(K.layers.Input(shape=train_data.shape()))\n",
        "\n",
        "model.add(K.layers.AvgPool2D(pool_size=2))\n",
        "\n",
        "model.add(K.layers.Conv2D(filters=32, kernel_size=7, strides=2, activation=\"relu\", padding=\"valid\"))\n",
        "model.add(K.layers.MaxPool2D(pool_size=2))\n",
        "\n",
        "model.add(ResidualBlock(kernel_size=3))\n",
        "model.add(ResidualBlock(kernel_size=3))\n",
        "model.add(ResidualBlock(kernel_size=3))\n",
        "\n",
        "model.add(K.layers.Conv2D(filters=64, kernel_size=7, strides=2, activation=\"relu\", padding=\"valid\"))\n",
        "model.add(K.layers.MaxPool2D(pool_size=2))\n",
        "\n",
        "# model.add(ResidualBlock(kernel_size=3))\n",
        "# model.add(ResidualBlock(kernel_size=3))\n",
        "# model.add(ResidualBlock(kernel_size=3))\n",
        "\n",
        "# model.add(K.layers.Conv2D(filters=256, kernel_size=7, strides=2, activation=\"relu\", padding=\"valid\"))\n",
        "# model.add(K.layers.MaxPool2D(pool_size=2))\n",
        "\n",
        "# model.add(ResidualBlock(kernel_size=3))\n",
        "# model.add(ResidualBlock(kernel_size=3))\n",
        "# model.add(ResidualBlock(kernel_size=3))\n",
        "\n",
        "\n",
        "\n",
        "# model.add(K.layers.Conv2D(filters=8, kernel_size=5, strides=2, activation=\"relu\", padding=\"same\"))\n",
        "# model.add(K.layers.Dropout(0.4))\n",
        "\n",
        "# model.add(ResidualBlock())\n",
        "# model.add(ResidualBlock())\n",
        "# model.add(ResidualBlock())\n",
        "# model.add(ResidualBlock())\n",
        "\n",
        "# model.add(K.layers.Conv2D(filters=16, kernel_size=5, strides=2, activation=\"relu\", padding=\"same\"))\n",
        "# model.add(K.layers.MaxPool2D(pool_size=2))\n",
        "# model.add(K.layers.Dropout(0.4))\n",
        "\n",
        "# # model.add(ResidualBlock())\n",
        "# # model.add(ResidualBlock())\n",
        "# # model.add(ResidualBlock())\n",
        "# # model.add(ResidualBlock())\n",
        "\n",
        "# model.add(K.layers.Conv2D(filters=32, kernel_size=3, strides=2, activation=\"relu\", padding=\"same\"))\n",
        "# model.add(K.layers.MaxPool2D(pool_size=2))\n",
        "# model.add(K.layers.Dropout(0.4))\n",
        "\n",
        "# model.add(K.layers.Conv2D(filters=64, kernel_size=3, strides=2, activation=\"relu\", padding=\"same\"))\n",
        "# model.add(K.layers.MaxPool2D(pool_size=2))\n",
        "# model.add(K.layers.Dropout(0.4))\n",
        "\n",
        "model.add(K.layers.Flatten())\n",
        "model.add(K.layers.Dense(train_data.num_classes(), activation=\"softmax\"))\n",
        "\n",
        "model.compile(optimizer='adam',\n",
        "          loss='categorical_crossentropy',\n",
        "          metrics=['accuracy'])\n",
        "model.summary()"
      ],
      "execution_count": 0,
      "outputs": [
        {
          "output_type": "stream",
          "text": [
            "Model: \"sequential_7\"\n",
            "_________________________________________________________________\n",
            "Layer (type)                 Output Shape              Param #   \n",
            "=================================================================\n",
            "average_pooling2d_3 (Average (None, 80, 60, 4)         0         \n",
            "_________________________________________________________________\n",
            "conv2d_22 (Conv2D)           (None, 37, 27, 32)        6304      \n",
            "_________________________________________________________________\n",
            "max_pooling2d_13 (MaxPooling (None, 18, 13, 32)        0         \n",
            "_________________________________________________________________\n",
            "residual_block_9 (ResidualBl (None, 18, 13, 32)        10560     \n",
            "_________________________________________________________________\n",
            "residual_block_10 (ResidualB (None, 18, 13, 32)        10560     \n",
            "_________________________________________________________________\n",
            "residual_block_11 (ResidualB (None, 18, 13, 32)        10560     \n",
            "_________________________________________________________________\n",
            "conv2d_23 (Conv2D)           (None, 6, 4, 64)          100416    \n",
            "_________________________________________________________________\n",
            "max_pooling2d_14 (MaxPooling (None, 3, 2, 64)          0         \n",
            "_________________________________________________________________\n",
            "flatten_5 (Flatten)          (None, 384)               0         \n",
            "_________________________________________________________________\n",
            "dense_9 (Dense)              (None, 5)                 1925      \n",
            "=================================================================\n",
            "Total params: 140,325\n",
            "Trainable params: 139,941\n",
            "Non-trainable params: 384\n",
            "_________________________________________________________________\n"
          ],
          "name": "stdout"
        }
      ]
    },
    {
      "cell_type": "markdown",
      "metadata": {
        "id": "T3MXKvXQaaxr",
        "colab_type": "text"
      },
      "source": [
        "## StuffNet"
      ]
    },
    {
      "cell_type": "code",
      "metadata": {
        "id": "UsZd6YdIH_QX",
        "colab_type": "code",
        "outputId": "face4ca4-4c3f-4af7-a4b7-1edd6609fcd8",
        "colab": {
          "base_uri": "https://localhost:8080/",
          "height": 629
        }
      },
      "source": [
        "model = K.Sequential()\n",
        "\n",
        "model.add(K.layers.Input(shape=train_data.shape()))\n",
        "\n",
        "model.add(K.layers.Conv2D(filters=16, kernel_size=3, strides=1, padding=\"same\"))\n",
        "model.add(K.layers.Conv2D(filters=16, kernel_size=11, strides=2, padding=\"valid\"))\n",
        "model.add(K.layers.LeakyReLU())\n",
        "model.add(K.layers.MaxPool2D(pool_size=11, strides=3))\n",
        "model.add(K.layers.Dropout(0.4))\n",
        "\n",
        "# Convolution 2\n",
        "model.add(K.layers.Conv2D(filters=32, kernel_size=3, strides=1, padding=\"same\"))\n",
        "model.add(K.layers.Conv2D(filters=32, kernel_size=7, strides=2, padding=\"valid\"))\n",
        "model.add(K.layers.LeakyReLU())\n",
        "model.add(K.layers.MaxPool2D(pool_size=5, strides=2))\n",
        "model.add(K.layers.Dropout(0.4))\n",
        "\n",
        "# Convolution 3\n",
        "# model.add(K.layers.Conv2D(filters=64, kernel_size=3, strides=1, padding=\"valid\"))\n",
        "# model.add(K.layers.LeakyReLU())\n",
        "# model.add(K.layers.MaxPool2D(pool_size=4, strides=2))\n",
        "# model.add(K.layers.Dropout(0.4))\n",
        "\n",
        "# Flatten for fully connected\n",
        "model.add(K.layers.Flatten())\n",
        "\n",
        "# Fully connected 4\n",
        "model.add(K.layers.Dense(64, activation=\"relu\"))\n",
        "model.add(K.layers.Dropout(0.4))\n",
        "\n",
        "# Output layer\n",
        "model.add(K.layers.Dense(train_data.num_classes(), activation=\"sigmoid\"))\n",
        "\n",
        "model.compile(optimizer='sgd',\n",
        "              loss='categorical_crossentropy',\n",
        "              metrics=['accuracy'])\n",
        "model.summary()"
      ],
      "execution_count": 0,
      "outputs": [
        {
          "output_type": "stream",
          "text": [
            "Model: \"sequential_21\"\n",
            "_________________________________________________________________\n",
            "Layer (type)                 Output Shape              Param #   \n",
            "=================================================================\n",
            "conv2d_92 (Conv2D)           (None, 160, 120, 16)      592       \n",
            "_________________________________________________________________\n",
            "conv2d_93 (Conv2D)           (None, 75, 55, 16)        30992     \n",
            "_________________________________________________________________\n",
            "leaky_re_lu_40 (LeakyReLU)   (None, 75, 55, 16)        0         \n",
            "_________________________________________________________________\n",
            "max_pooling2d_49 (MaxPooling (None, 22, 15, 16)        0         \n",
            "_________________________________________________________________\n",
            "dropout_57 (Dropout)         (None, 22, 15, 16)        0         \n",
            "_________________________________________________________________\n",
            "conv2d_94 (Conv2D)           (None, 22, 15, 32)        4640      \n",
            "_________________________________________________________________\n",
            "conv2d_95 (Conv2D)           (None, 8, 5, 32)          50208     \n",
            "_________________________________________________________________\n",
            "leaky_re_lu_41 (LeakyReLU)   (None, 8, 5, 32)          0         \n",
            "_________________________________________________________________\n",
            "max_pooling2d_50 (MaxPooling (None, 2, 1, 32)          0         \n",
            "_________________________________________________________________\n",
            "dropout_58 (Dropout)         (None, 2, 1, 32)          0         \n",
            "_________________________________________________________________\n",
            "flatten_18 (Flatten)         (None, 64)                0         \n",
            "_________________________________________________________________\n",
            "dense_34 (Dense)             (None, 64)                4160      \n",
            "_________________________________________________________________\n",
            "dropout_59 (Dropout)         (None, 64)                0         \n",
            "_________________________________________________________________\n",
            "dense_35 (Dense)             (None, 5)                 325       \n",
            "=================================================================\n",
            "Total params: 90,917\n",
            "Trainable params: 90,917\n",
            "Non-trainable params: 0\n",
            "_________________________________________________________________\n"
          ],
          "name": "stdout"
        }
      ]
    },
    {
      "cell_type": "markdown",
      "metadata": {
        "id": "UagG6tRifKzl",
        "colab_type": "text"
      },
      "source": [
        ""
      ]
    },
    {
      "cell_type": "code",
      "metadata": {
        "id": "086I9HomfLaZ",
        "colab_type": "code",
        "outputId": "b1e7a4cf-1ef7-460f-ab20-7b38b7cb13c1",
        "colab": {
          "base_uri": "https://localhost:8080/",
          "height": 799
        }
      },
      "source": [
        "model = K.Sequential()\n",
        "\n",
        "model.add(K.layers.Input(shape=train_data.shape()))\n",
        "\n",
        "model.add(K.layers.Conv2D(filters=16, kernel_size=3, strides=1, padding=\"same\"))\n",
        "model.add(K.layers.Conv2D(filters=16, kernel_size=3, strides=2, padding=\"same\"))\n",
        "model.add(K.layers.LeakyReLU())\n",
        "model.add(K.layers.MaxPool2D(pool_size=5, strides=2))\n",
        "model.add(K.layers.Dropout(0.4))\n",
        "\n",
        "# Convolution 2\n",
        "model.add(K.layers.Conv2D(filters=32, kernel_size=3, strides=1, padding=\"same\"))\n",
        "model.add(K.layers.Conv2D(filters=32, kernel_size=3, strides=2, padding=\"same\"))\n",
        "model.add(K.layers.LeakyReLU())\n",
        "model.add(K.layers.MaxPool2D(pool_size=5, strides=1))\n",
        "model.add(K.layers.Dropout(0.4))\n",
        "\n",
        "# Convolution 3\n",
        "model.add(K.layers.Conv2D(filters=64, kernel_size=3, strides=1, padding=\"same\"))\n",
        "model.add(K.layers.Conv2D(filters=64, kernel_size=3, strides=1, padding=\"same\"))\n",
        "model.add(K.layers.LeakyReLU())\n",
        "model.add(K.layers.MaxPool2D(pool_size=5, strides=1))\n",
        "model.add(K.layers.Dropout(0.4))\n",
        "\n",
        "# Flatten for fully connected\n",
        "model.add(K.layers.Flatten())\n",
        "\n",
        "# Fully connected 4\n",
        "model.add(K.layers.Dense(64, activation=\"relu\"))\n",
        "model.add(K.layers.Dropout(0.4))\n",
        "\n",
        "# Output layer\n",
        "model.add(K.layers.Dense(train_data.num_classes(), activation=\"sigmoid\"))\n",
        "\n",
        "model.compile(optimizer='sgd',\n",
        "              loss='categorical_crossentropy',\n",
        "              metrics=['accuracy'])\n",
        "model.summary()"
      ],
      "execution_count": 0,
      "outputs": [
        {
          "output_type": "stream",
          "text": [
            "Model: \"sequential_19\"\n",
            "_________________________________________________________________\n",
            "Layer (type)                 Output Shape              Param #   \n",
            "=================================================================\n",
            "conv2d_82 (Conv2D)           (None, 160, 120, 16)      592       \n",
            "_________________________________________________________________\n",
            "conv2d_83 (Conv2D)           (None, 80, 60, 16)        2320      \n",
            "_________________________________________________________________\n",
            "leaky_re_lu_35 (LeakyReLU)   (None, 80, 60, 16)        0         \n",
            "_________________________________________________________________\n",
            "max_pooling2d_44 (MaxPooling (None, 38, 28, 16)        0         \n",
            "_________________________________________________________________\n",
            "dropout_50 (Dropout)         (None, 38, 28, 16)        0         \n",
            "_________________________________________________________________\n",
            "conv2d_84 (Conv2D)           (None, 38, 28, 32)        4640      \n",
            "_________________________________________________________________\n",
            "conv2d_85 (Conv2D)           (None, 19, 14, 32)        9248      \n",
            "_________________________________________________________________\n",
            "leaky_re_lu_36 (LeakyReLU)   (None, 19, 14, 32)        0         \n",
            "_________________________________________________________________\n",
            "max_pooling2d_45 (MaxPooling (None, 15, 10, 32)        0         \n",
            "_________________________________________________________________\n",
            "dropout_51 (Dropout)         (None, 15, 10, 32)        0         \n",
            "_________________________________________________________________\n",
            "conv2d_86 (Conv2D)           (None, 15, 10, 64)        18496     \n",
            "_________________________________________________________________\n",
            "conv2d_87 (Conv2D)           (None, 15, 10, 64)        36928     \n",
            "_________________________________________________________________\n",
            "leaky_re_lu_37 (LeakyReLU)   (None, 15, 10, 64)        0         \n",
            "_________________________________________________________________\n",
            "max_pooling2d_46 (MaxPooling (None, 11, 6, 64)         0         \n",
            "_________________________________________________________________\n",
            "dropout_52 (Dropout)         (None, 11, 6, 64)         0         \n",
            "_________________________________________________________________\n",
            "flatten_16 (Flatten)         (None, 4224)              0         \n",
            "_________________________________________________________________\n",
            "dense_30 (Dense)             (None, 64)                270400    \n",
            "_________________________________________________________________\n",
            "dropout_53 (Dropout)         (None, 64)                0         \n",
            "_________________________________________________________________\n",
            "dense_31 (Dense)             (None, 5)                 325       \n",
            "=================================================================\n",
            "Total params: 342,949\n",
            "Trainable params: 342,949\n",
            "Non-trainable params: 0\n",
            "_________________________________________________________________\n"
          ],
          "name": "stdout"
        }
      ]
    },
    {
      "cell_type": "markdown",
      "metadata": {
        "id": "8Nz5vF02an3t",
        "colab_type": "text"
      },
      "source": [
        "## Train"
      ]
    },
    {
      "cell_type": "code",
      "metadata": {
        "id": "wzSZTl2uQyCF",
        "colab_type": "code",
        "colab": {}
      },
      "source": [
        "# %reload_ext tensorboard\n",
        "# %tensorboard --logdir logs/fit"
      ],
      "execution_count": 0,
      "outputs": []
    },
    {
      "cell_type": "code",
      "metadata": {
        "id": "IJvpuiD_LILG",
        "colab_type": "code",
        "outputId": "dc306989-6fcf-433f-b631-3906ad9a035a",
        "colab": {
          "base_uri": "https://localhost:8080/",
          "height": 748
        }
      },
      "source": [
        "%%time\n",
        "log_dir=\"logs/fit/\" + datetime.now().strftime(\"%Y%m%d-%H%M%S\")\n",
        "tensorboard_callback = tf.keras.callbacks.TensorBoard(log_dir=log_dir, histogram_freq=0, write_graph=True, write_images=True)\n",
        "\n",
        "# model.fit(train_data, epochs=10, callbacks=[tensorboard_callback], validation_data=test_data)\n",
        "\n",
        "model.fit(train_data, epochs=20, validation_data=test_data)"
      ],
      "execution_count": 0,
      "outputs": [
        {
          "output_type": "stream",
          "text": [
            "Train for 279 steps, validate for 41 steps\n",
            "Epoch 1/20\n",
            "279/279 [==============================] - 35s 125ms/step - loss: 1.5312 - accuracy: 0.2724 - val_loss: 1.3221 - val_accuracy: 0.4787\n",
            "Epoch 2/20\n",
            "279/279 [==============================] - 33s 120ms/step - loss: 1.2228 - accuracy: 0.4485 - val_loss: 1.1291 - val_accuracy: 0.4527\n",
            "Epoch 3/20\n",
            "279/279 [==============================] - 33s 120ms/step - loss: 1.0604 - accuracy: 0.5002 - val_loss: 1.1794 - val_accuracy: 0.4070\n",
            "Epoch 4/20\n",
            "279/279 [==============================] - 33s 120ms/step - loss: 0.9609 - accuracy: 0.5645 - val_loss: 1.2249 - val_accuracy: 0.3963\n",
            "Epoch 5/20\n",
            "279/279 [==============================] - 33s 119ms/step - loss: 0.8549 - accuracy: 0.6478 - val_loss: 1.3120 - val_accuracy: 0.5335\n",
            "Epoch 6/20\n",
            "279/279 [==============================] - 34s 120ms/step - loss: 0.9257 - accuracy: 0.6599 - val_loss: 1.3836 - val_accuracy: 0.5579\n",
            "Epoch 7/20\n",
            "279/279 [==============================] - 34s 121ms/step - loss: 0.7509 - accuracy: 0.7000 - val_loss: 1.7127 - val_accuracy: 0.5229\n",
            "Epoch 8/20\n",
            "279/279 [==============================] - 34s 120ms/step - loss: 0.6362 - accuracy: 0.7482 - val_loss: 1.9743 - val_accuracy: 0.5366\n",
            "Epoch 9/20\n",
            "279/279 [==============================] - 34s 120ms/step - loss: 0.6230 - accuracy: 0.7583 - val_loss: 1.3919 - val_accuracy: 0.5747\n",
            "Epoch 10/20\n",
            "279/279 [==============================] - 34s 120ms/step - loss: 0.5429 - accuracy: 0.7914 - val_loss: 1.5032 - val_accuracy: 0.5930\n",
            "Epoch 11/20\n",
            "279/279 [==============================] - 34s 120ms/step - loss: 0.4991 - accuracy: 0.8087 - val_loss: 1.5263 - val_accuracy: 0.5991\n",
            "Epoch 12/20\n",
            "279/279 [==============================] - 33s 120ms/step - loss: 0.5674 - accuracy: 0.8062 - val_loss: 1.7879 - val_accuracy: 0.5991\n",
            "Epoch 13/20\n",
            "279/279 [==============================] - 33s 120ms/step - loss: 0.4583 - accuracy: 0.8389 - val_loss: 1.2916 - val_accuracy: 0.6021\n",
            "Epoch 14/20\n",
            "279/279 [==============================] - 33s 119ms/step - loss: 0.4124 - accuracy: 0.8528 - val_loss: 1.8060 - val_accuracy: 0.5564\n",
            "Epoch 15/20\n",
            "279/279 [==============================] - 33s 120ms/step - loss: 0.6148 - accuracy: 0.8091 - val_loss: 1.6581 - val_accuracy: 0.5655\n",
            "Epoch 16/20\n",
            "279/279 [==============================] - 34s 121ms/step - loss: 0.3715 - accuracy: 0.8651 - val_loss: 1.0584 - val_accuracy: 0.6479\n",
            "Epoch 17/20\n",
            "279/279 [==============================] - 33s 119ms/step - loss: 0.3787 - accuracy: 0.8712 - val_loss: 1.8026 - val_accuracy: 0.5442\n",
            "Epoch 18/20\n",
            "279/279 [==============================] - 33s 119ms/step - loss: 0.2880 - accuracy: 0.9028 - val_loss: 1.3631 - val_accuracy: 0.6479\n",
            "Epoch 19/20\n",
            "279/279 [==============================] - 33s 119ms/step - loss: 0.2829 - accuracy: 0.9068 - val_loss: 1.6934 - val_accuracy: 0.4863\n",
            "Epoch 20/20\n",
            "279/279 [==============================] - 33s 118ms/step - loss: 0.2312 - accuracy: 0.9256 - val_loss: 1.9183 - val_accuracy: 0.5732\n",
            "CPU times: user 22min 21s, sys: 44 s, total: 23min 5s\n",
            "Wall time: 11min 10s\n"
          ],
          "name": "stdout"
        }
      ]
    },
    {
      "cell_type": "code",
      "metadata": {
        "id": "XDHCenJwFkBq",
        "colab_type": "code",
        "colab": {}
      },
      "source": [
        "model.save_weights('weights.h5')"
      ],
      "execution_count": 0,
      "outputs": []
    },
    {
      "cell_type": "code",
      "metadata": {
        "id": "1sGTVhOCUTK9",
        "colab_type": "code",
        "colab": {}
      },
      "source": [
        "model.load_weights(\"weights.h5\")"
      ],
      "execution_count": 0,
      "outputs": []
    },
    {
      "cell_type": "code",
      "metadata": {
        "id": "YvfMp2vSRU_b",
        "colab_type": "code",
        "outputId": "cc8dac54-e2ba-4d16-b543-529c62d8d344",
        "colab": {
          "base_uri": "https://localhost:8080/",
          "height": 221
        }
      },
      "source": [
        "y_pred = np.argmax(model.predict(test_data), axis=1)\n",
        "y_test = test_data.get_labels()[:y_pred.shape[0]]\n",
        "print(classification_report(y_test, y_pred, target_names=test_data.class_labels))"
      ],
      "execution_count": 0,
      "outputs": [
        {
          "output_type": "stream",
          "text": [
            "              precision    recall  f1-score   support\n",
            "\n",
            "        pony       0.57      0.85      0.68       132\n",
            "      alpaca       0.40      0.11      0.17       132\n",
            "     chicken       0.25      0.03      0.05       132\n",
            "     peacock       0.41      0.75      0.53       132\n",
            "         cat       0.77      1.00      0.87       128\n",
            "\n",
            "    accuracy                           0.54       656\n",
            "   macro avg       0.48      0.55      0.46       656\n",
            "weighted avg       0.48      0.54      0.46       656\n",
            "\n"
          ],
          "name": "stdout"
        }
      ]
    },
    {
      "cell_type": "code",
      "metadata": {
        "id": "X6qaDhVNoetA",
        "colab_type": "code",
        "outputId": "35a85423-0048-4b2f-fa9c-1f19ff2cefca",
        "colab": {
          "base_uri": "https://localhost:8080/",
          "height": 34
        }
      },
      "source": [
        "# test_data.get_labels().shape\n",
        "# np.argmax(y_pred, axis=1).shape"
      ],
      "execution_count": 0,
      "outputs": [
        {
          "output_type": "execute_result",
          "data": {
            "text/plain": [
              "(1124,)"
            ]
          },
          "metadata": {
            "tags": []
          },
          "execution_count": 24
        }
      ]
    },
    {
      "cell_type": "code",
      "metadata": {
        "id": "aGL7fddZkwK6",
        "colab_type": "code",
        "outputId": "69427303-1146-42d2-922e-7ab14e66075a",
        "colab": {
          "base_uri": "https://localhost:8080/",
          "height": 51
        }
      },
      "source": [
        "print(\"Pred:\", np.bincount(y_pred))\n",
        "print(\"True:\", np.bincount(y_test))"
      ],
      "execution_count": 0,
      "outputs": [
        {
          "output_type": "stream",
          "text": [
            "Pred: [118  65  94 235 144]\n",
            "True: [132 132 132 132 128]\n"
          ],
          "name": "stdout"
        }
      ]
    },
    {
      "cell_type": "code",
      "metadata": {
        "id": "8UJldAYBTG7Z",
        "colab_type": "code",
        "outputId": "3267bc8a-4d60-4ef5-d227-cc05a2b6ffa2",
        "colab": {
          "base_uri": "https://localhost:8080/",
          "height": 466
        }
      },
      "source": [
        "# y_pred = model.predict_classes(X_test)\n",
        "\n",
        "y_pred_named = [test_data.class_labels[x] for x in y_pred]\n",
        "y_test_named = [test_data.class_labels[x] for x in y_test]\n",
        "confusion = confusion_matrix(y_test_named, y_pred_named, labels=test_data.class_labels)\n",
        "\n",
        "f, ax = plt.subplots(figsize=(5, 5), dpi=100)\n",
        "ax = sns.heatmap(confusion, annot=True, xticklabels=test_data.class_labels, yticklabels=test_data.class_labels, square=True, cbar=False, fmt=\"d\")\n",
        "ax.set(xlabel='Predicted class', ylabel='Actual class')\n",
        "plt.show()"
      ],
      "execution_count": 0,
      "outputs": [
        {
          "output_type": "display_data",
          "data": {
            "image/png": "[encoded data removed]",
            "text/plain": [
              "<Figure size 500x500 with 1 Axes>"
            ]
          },
          "metadata": {
            "tags": []
          }
        }
      ]
    },
    {
      "cell_type": "code",
      "metadata": {
        "id": "iWsQxrrpLVbM",
        "colab_type": "code",
        "outputId": "3cfa7c5e-6288-482c-a19e-7efdc090499e",
        "colab": {
          "base_uri": "https://localhost:8080/",
          "height": 351
        }
      },
      "source": [
        "n = 5\n",
        "\n",
        "ids = np.random.randint(0, len(test_data)-1, size=n)\n",
        "preds = model.predict_classes(test_data[ids])\n",
        "\n",
        "fig, axes = plt.subplots(1, n, figsize=(15, 10))\n",
        "\n",
        "for id_, ax, pred in zip(ids, axes, preds):\n",
        "    ax.imshow(X_test[id_][..., 1:])\n",
        "    ax.axis('off')\n",
        "    ax.set_title(data.class_labels[pred])\n",
        "\n",
        "plt.tight_layout()"
      ],
      "execution_count": 0,
      "outputs": [
        {
          "output_type": "error",
          "ename": "ValueError",
          "evalue": "ignored",
          "traceback": [
            "\u001b[0;31m---------------------------------------------------------------------------\u001b[0m",
            "\u001b[0;31mValueError\u001b[0m                                Traceback (most recent call last)",
            "\u001b[0;32m<ipython-input-33-e60d0112dc18>\u001b[0m in \u001b[0;36m<module>\u001b[0;34m()\u001b[0m\n\u001b[1;32m      2\u001b[0m \u001b[0;34m\u001b[0m\u001b[0m\n\u001b[1;32m      3\u001b[0m \u001b[0mids\u001b[0m \u001b[0;34m=\u001b[0m \u001b[0mnp\u001b[0m\u001b[0;34m.\u001b[0m\u001b[0mrandom\u001b[0m\u001b[0;34m.\u001b[0m\u001b[0mrandint\u001b[0m\u001b[0;34m(\u001b[0m\u001b[0;36m0\u001b[0m\u001b[0;34m,\u001b[0m \u001b[0mlen\u001b[0m\u001b[0;34m(\u001b[0m\u001b[0mtest_data\u001b[0m\u001b[0;34m)\u001b[0m\u001b[0;34m-\u001b[0m\u001b[0;36m1\u001b[0m\u001b[0;34m,\u001b[0m \u001b[0msize\u001b[0m\u001b[0;34m=\u001b[0m\u001b[0mn\u001b[0m\u001b[0;34m)\u001b[0m\u001b[0;34m\u001b[0m\u001b[0;34m\u001b[0m\u001b[0m\n\u001b[0;32m----> 4\u001b[0;31m \u001b[0mpreds\u001b[0m \u001b[0;34m=\u001b[0m \u001b[0mmodel\u001b[0m\u001b[0;34m.\u001b[0m\u001b[0mpredict_classes\u001b[0m\u001b[0;34m(\u001b[0m\u001b[0mtest_data\u001b[0m\u001b[0;34m[\u001b[0m\u001b[0mids\u001b[0m\u001b[0;34m]\u001b[0m\u001b[0;34m)\u001b[0m\u001b[0;34m\u001b[0m\u001b[0;34m\u001b[0m\u001b[0m\n\u001b[0m\u001b[1;32m      5\u001b[0m \u001b[0;34m\u001b[0m\u001b[0m\n\u001b[1;32m      6\u001b[0m \u001b[0mfig\u001b[0m\u001b[0;34m,\u001b[0m \u001b[0maxes\u001b[0m \u001b[0;34m=\u001b[0m \u001b[0mplt\u001b[0m\u001b[0;34m.\u001b[0m\u001b[0msubplots\u001b[0m\u001b[0;34m(\u001b[0m\u001b[0;36m1\u001b[0m\u001b[0;34m,\u001b[0m \u001b[0mn\u001b[0m\u001b[0;34m,\u001b[0m \u001b[0mfigsize\u001b[0m\u001b[0;34m=\u001b[0m\u001b[0;34m(\u001b[0m\u001b[0;36m15\u001b[0m\u001b[0;34m,\u001b[0m \u001b[0;36m10\u001b[0m\u001b[0;34m)\u001b[0m\u001b[0;34m)\u001b[0m\u001b[0;34m\u001b[0m\u001b[0;34m\u001b[0m\u001b[0m\n",
            "\u001b[0;32m<ipython-input-14-f064a2de39ba>\u001b[0m in \u001b[0;36m__getitem__\u001b[0;34m(self, idx)\u001b[0m\n\u001b[1;32m     49\u001b[0m \u001b[0;34m\u001b[0m\u001b[0m\n\u001b[1;32m     50\u001b[0m     \u001b[0;32mdef\u001b[0m \u001b[0m__getitem__\u001b[0m\u001b[0;34m(\u001b[0m\u001b[0mself\u001b[0m\u001b[0;34m,\u001b[0m \u001b[0midx\u001b[0m\u001b[0;34m)\u001b[0m\u001b[0;34m:\u001b[0m\u001b[0;34m\u001b[0m\u001b[0;34m\u001b[0m\u001b[0m\n\u001b[0;32m---> 51\u001b[0;31m         \u001b[0;32mif\u001b[0m \u001b[0midx\u001b[0m \u001b[0;34m<\u001b[0m \u001b[0mself\u001b[0m\u001b[0;34m.\u001b[0m\u001b[0m__len__\u001b[0m\u001b[0;34m(\u001b[0m\u001b[0;34m)\u001b[0m\u001b[0;34m:\u001b[0m\u001b[0;34m\u001b[0m\u001b[0;34m\u001b[0m\u001b[0m\n\u001b[0m\u001b[1;32m     52\u001b[0m             \u001b[0mX\u001b[0m \u001b[0;34m=\u001b[0m \u001b[0;34m[\u001b[0m\u001b[0;34m]\u001b[0m\u001b[0;34m\u001b[0m\u001b[0;34m\u001b[0m\u001b[0m\n\u001b[1;32m     53\u001b[0m             \u001b[0my\u001b[0m \u001b[0;34m=\u001b[0m \u001b[0;34m[\u001b[0m\u001b[0;34m]\u001b[0m\u001b[0;34m\u001b[0m\u001b[0;34m\u001b[0m\u001b[0m\n",
            "\u001b[0;31mValueError\u001b[0m: The truth value of an array with more than one element is ambiguous. Use a.any() or a.all()"
          ]
        }
      ]
    },
    {
      "cell_type": "code",
      "metadata": {
        "id": "B2nTLaXkQbgB",
        "colab_type": "code",
        "outputId": "804a3eca-fcc4-4679-e85e-840629eb366d",
        "colab": {
          "base_uri": "https://localhost:8080/",
          "height": 51
        }
      },
      "source": [
        ""
      ],
      "execution_count": 0,
      "outputs": [
        {
          "output_type": "execute_result",
          "data": {
            "text/plain": [
              "defaultdict(<method-wrapper '__next__' of itertools.count object at 0x7f3ea2c8f6c8>,\n",
              "            {'alpaca': 2, 'chicken': 4, 'peacock': 3, 'pig': 0, 'pony': 1})"
            ]
          },
          "metadata": {
            "tags": []
          },
          "execution_count": 46
        }
      ]
    },
    {
      "cell_type": "code",
      "metadata": {
        "id": "0apBEsi0Su1a",
        "colab_type": "code",
        "colab": {}
      },
      "source": [
        ""
      ],
      "execution_count": 0,
      "outputs": []
    }
  ]
}