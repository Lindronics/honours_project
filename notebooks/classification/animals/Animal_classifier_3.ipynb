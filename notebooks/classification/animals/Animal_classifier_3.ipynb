{
  "nbformat": 4,
  "nbformat_minor": 0,
  "metadata": {
    "colab": {
      "name": "Animal_classifier_3.ipynb",
      "provenance": [],
      "collapsed_sections": [
        "T3MXKvXQaaxr"
      ],
      "machine_shape": "hm",
      "authorship_tag": "ABX9TyPsamyAzHP2Ts0QL1Vac79l",
      "include_colab_link": true
    },
    "kernelspec": {
      "name": "python3",
      "display_name": "Python 3"
    },
    "accelerator": "GPU"
  },
  "cells": [
    {
      "cell_type": "markdown",
      "metadata": {
        "id": "view-in-github",
        "colab_type": "text"
      },
      "source": [
        "<a href=\"https://colab.research.google.com/github/Lindronics/honours_project/blob/master/notebooks/classification/animals/Animal_classifier_3.ipynb\" target=\"_parent\"><img src=\"https://colab.research.google.com/assets/colab-badge.svg\" alt=\"Open In Colab\"/></a>"
      ]
    },
    {
      "cell_type": "markdown",
      "metadata": {
        "id": "zKD9-Xjxozx5",
        "colab_type": "text"
      },
      "source": [
        "# Animal classifier"
      ]
    },
    {
      "cell_type": "markdown",
      "metadata": {
        "id": "NaVAfT8wo1ne",
        "colab_type": "text"
      },
      "source": [
        "## Setup and imports\n",
        "\n"
      ]
    },
    {
      "cell_type": "code",
      "metadata": {
        "id": "b-NO7a-T9eav",
        "colab_type": "code",
        "outputId": "a252b39e-0072-450c-d3c2-d301bcbfbaa0",
        "colab": {
          "base_uri": "https://localhost:8080/",
          "height": 34
        }
      },
      "source": [
        "%tensorflow_version 2.x"
      ],
      "execution_count": 0,
      "outputs": [
        {
          "output_type": "stream",
          "text": [
            "TensorFlow 2.x selected.\n"
          ],
          "name": "stdout"
        }
      ]
    },
    {
      "cell_type": "code",
      "metadata": {
        "id": "uwYBOVFf7HyN",
        "colab_type": "code",
        "outputId": "5d24153b-858b-4e9f-b7a8-b40339d7e29b",
        "colab": {
          "base_uri": "https://localhost:8080/",
          "height": 309
        }
      },
      "source": [
        "!rm -rf /content/*\n",
        "!wget --no-check-certificate -O dataset.zip \"https://onedrive.live.com/download?cid=5691066189D062AB&resid=5691066189D062AB%21228202&authkey=ADau7jkkCZLnQ8k\"\n",
        "!unzip -q dataset.zip"
      ],
      "execution_count": 0,
      "outputs": [
        {
          "output_type": "stream",
          "text": [
            "--2020-02-24 12:02:20--  https://onedrive.live.com/download?cid=5691066189D062AB&resid=5691066189D062AB%21228202&authkey=ADau7jkkCZLnQ8k\n",
            "Resolving onedrive.live.com (onedrive.live.com)... 13.107.42.13\n",
            "Connecting to onedrive.live.com (onedrive.live.com)|13.107.42.13|:443... connected.\n",
            "HTTP request sent, awaiting response... 302 Found\n",
            "Location: https://kusdwq.am.files.1drv.com/y4mVBtH2sbIA9F7sP82lhCkht3UByUY1BrIJJM6UNhJJdL7gLTPjrMZLAUwaKYL-12VqWu9Kfkq5fQLGGecdU73nATpcDnVieQ5_9TRFzGYIp_Ap2101iN3n7_iCIz-T5JbqjSGBIb4atduoaJLUDmA73gCANYmTowHCQFD9p0js5S9iHBo_xNuPqfR5fJKmgJ3cMV7v4CK45VM9doKfIipNg/images_160x120_downsampled.zip?download&psid=1 [following]\n",
            "--2020-02-24 12:02:22--  https://kusdwq.am.files.1drv.com/y4mVBtH2sbIA9F7sP82lhCkht3UByUY1BrIJJM6UNhJJdL7gLTPjrMZLAUwaKYL-12VqWu9Kfkq5fQLGGecdU73nATpcDnVieQ5_9TRFzGYIp_Ap2101iN3n7_iCIz-T5JbqjSGBIb4atduoaJLUDmA73gCANYmTowHCQFD9p0js5S9iHBo_xNuPqfR5fJKmgJ3cMV7v4CK45VM9doKfIipNg/images_160x120_downsampled.zip?download&psid=1\n",
            "Resolving kusdwq.am.files.1drv.com (kusdwq.am.files.1drv.com)... 13.107.42.12\n",
            "Connecting to kusdwq.am.files.1drv.com (kusdwq.am.files.1drv.com)|13.107.42.12|:443... connected.\n",
            "HTTP request sent, awaiting response... 200 OK\n",
            "Length: 74001989 (71M) [application/zip]\n",
            "Saving to: ‘dataset.zip’\n",
            "\n",
            "dataset.zip         100%[===================>]  70.57M  17.4MB/s    in 4.0s    \n",
            "\n",
            "2020-02-24 12:02:33 (17.4 MB/s) - ‘dataset.zip’ saved [74001989/74001989]\n",
            "\n"
          ],
          "name": "stdout"
        }
      ]
    },
    {
      "cell_type": "code",
      "metadata": {
        "id": "AiAumFqNEZ1X",
        "colab_type": "code",
        "colab": {}
      },
      "source": [
        "import cv2\n",
        "import numpy as np\n",
        "import matplotlib.pyplot as plt\n",
        "from sklearn.model_selection import train_test_split\n",
        "import tensorflow as tf\n",
        "import tensorflow.keras as K\n",
        "from tensorflow.keras.preprocessing.image import ImageDataGenerator\n",
        "from sklearn.metrics import classification_report, confusion_matrix\n",
        "import seaborn as sns; sns.set()\n",
        "import os\n",
        "from os import listdir\n",
        "from os.path import isdir, join\n",
        "import shutil\n",
        "from tqdm import tqdm\n",
        "from datetime import datetime\n",
        "\n",
        "from itertools import count\n",
        "from collections import defaultdict"
      ],
      "execution_count": 0,
      "outputs": []
    },
    {
      "cell_type": "markdown",
      "metadata": {
        "id": "uv2qfw39oyfR",
        "colab_type": "text"
      },
      "source": [
        "## Pre-process dataset"
      ]
    },
    {
      "cell_type": "code",
      "metadata": {
        "id": "-wSYqKE1owvD",
        "colab_type": "code",
        "colab": {}
      },
      "source": [
        "whitelist = [\n",
        "    \"pony\",\n",
        "    \"alpaca\",\n",
        "    \"chicken\",\n",
        "    \"peacock\",\n",
        "    # \"rabbit\",\n",
        "    \"cat\",\n",
        "    # \"pretty-chicken\",\n",
        "]\n",
        "\n",
        "configurations = {\n",
        "    \"train\": lambda fname: fname.split(\"_\")[1] == \"single\" and fname.split(\"_\")[0] in whitelist,\n",
        "    \"test\": lambda fname: fname.split(\"_\")[1] != \"single\" and fname.split(\"_\")[0] in whitelist,\n",
        "    \"train_augmented\": lambda fname: fname.split(\"_\")[0] != \"human\",\n",
        "    \"test_augmented\": lambda fname: fname.split(\"_\")[1] != \"human\",\n",
        "}\n",
        "\n",
        "\n",
        "def generate_metadata(config, root=\"images\", channel_prefix=True):\n",
        "    \"\"\" Generates labels to be read by model data loader \"\"\"\n",
        "\n",
        "    classes = [c for c in listdir(root) if isdir(join(root, c))]\n",
        "    samples = {c: 0 for c in classes}\n",
        "    \n",
        "    with open(f\"labels_{config}.txt\", \"w\") as f:\n",
        "        for c in classes:\n",
        "            batches = [b for b in listdir(join(root, c)) if isdir(join(root, c, b)) and configurations[config](b)]\n",
        "            \n",
        "            for b in batches:\n",
        "                lwir_images = [i for i in listdir(join(root, c, b, \"lwir\")) if i.endswith(\".png\")]\n",
        "                rgb_images = [\"rgb_\" + i[4:] for i in lwir_images] if channel_prefix else [i for i in lwir_images]\n",
        "\n",
        "                lwir_paths = [join(root, c, b, \"lwir\", i) for i in lwir_images]\n",
        "                rgb_paths = [join(root, c, b, \"rgb\", i) for i in rgb_images]\n",
        "\n",
        "                for lwir_path, rgb_path in zip(lwir_paths, rgb_paths):\n",
        "                    f.write(\" \".join([rgb_path, lwir_path, c]) + \"\\n\")\n",
        "                    samples[c] += 1\n",
        "\n",
        "    print(\"Dataset composition:\")\n",
        "    sum_ = 0\n",
        "    for c, s in samples.items():\n",
        "        sum_ += s\n",
        "        print(f\" - {c}: \\t{s}\")\n",
        "    print(f\"{sum_} items total.\")\n"
      ],
      "execution_count": 0,
      "outputs": []
    },
    {
      "cell_type": "code",
      "metadata": {
        "id": "wXSNZRbFpH33",
        "colab_type": "code",
        "colab": {}
      },
      "source": [
        "def save(path, name, rgb, lwir, label, extension=\"\"):\n",
        "    rgb_path = os.path.join(path, \"rgb\", name + f\"_{extension}.png\")\n",
        "    lwir_path = os.path.join(path, \"lwir\", name + f\"_{extension}.png\")\n",
        "\n",
        "    cv2.imwrite(rgb_path, rgb)\n",
        "    cv2.imwrite(lwir_path, lwir)\n",
        "    return \" \".join([rgb_path, lwir_path, label])\n",
        "\n",
        "\n",
        "def augment_dataset(metadata, augmented_dir, multiplier=2):\n",
        "\n",
        "    if os.path.exists(augmented_dir):\n",
        "        shutil.rmtree(augmented_dir)\n",
        "\n",
        "    datagen = ImageDataGenerator(\n",
        "        horizontal_flip=True,\n",
        "        rotation_range=30,\n",
        "        zoom_range=[0.5, 1],\n",
        "    )\n",
        "\n",
        "    classes = dict()\n",
        "    samples = list()\n",
        "\n",
        "    # Load labels\n",
        "    with open(metadata, \"r\") as f:\n",
        "        for line in f:\n",
        "            line = line.split()\n",
        "            samples.append(line)\n",
        "\n",
        "            classes[line[-1]] = classes.get(line[-1], 0) + 1\n",
        "\n",
        "    # Get maximum class samples\n",
        "    max_class = max(classes.items(), key=lambda x: x[1])\n",
        "    class_multipliers = {x: max_class[1] * multiplier // y for x, y in classes.items()}\n",
        "    class_remainders = {x: (max_class[1] * multiplier) % y for x, y in classes.items()}\n",
        "\n",
        "    # Generate output directory structure\n",
        "    for label in classes:\n",
        "        os.makedirs(os.path.join(augmented_dir, label, f\"{label}_single_1\", \"lwir\"))\n",
        "        os.makedirs(os.path.join(augmented_dir, label, f\"{label}_single_1\", \"rgb\"))\n",
        "\n",
        "    # Augment and copy\n",
        "    augmented_samples = []\n",
        "    for rgb_path, lwir_path, label in tqdm(samples, position=0):\n",
        "        rgb = cv2.imread(rgb_path)\n",
        "        lwir = cv2.imread(lwir_path)\n",
        "\n",
        "        name = (rgb_path.split(\"/\")[-1]).split(\".\")[0][4:]\n",
        "        out_path = os.path.join(augmented_dir, label, f\"{label}_single_1\")\n",
        "\n",
        "        # Copy original\n",
        "        augmented_samples.append(save(out_path, name, rgb, lwir, label, extension=\"\"))\n",
        "\n",
        "        # Flipped\n",
        "        rgb_t = datagen.apply_transform(rgb, {\"flip_horizontal\": True})\n",
        "        lwir_t = datagen.apply_transform(lwir, {\"flip_horizontal\": True})\n",
        "\n",
        "        augmented_samples.append(save(out_path, name, rgb_t, lwir_t, label, extension=0))\n",
        "\n",
        "        # Random transformations\n",
        "        remainder = 1 if class_remainders[label] > 0 else 0\n",
        "        class_remainders[label] -= 1\n",
        "        for i in range(2, class_multipliers[label] + remainder):\n",
        "            trans = datagen.get_random_transform(rgb.shape)\n",
        "            rgb_t = datagen.apply_transform(rgb, trans)\n",
        "            lwir_t = datagen.apply_transform(lwir, trans)\n",
        "\n",
        "            augmented_samples.append(save(out_path, name, rgb_t, lwir_t, label, extension=i))\n",
        "\n",
        "\n",
        "    with open(\"augmented.txt\", \"w\") as f:\n",
        "        for line in augmented_samples:\n",
        "            f.write(line + \"\\n\")"
      ],
      "execution_count": 0,
      "outputs": []
    },
    {
      "cell_type": "code",
      "metadata": {
        "id": "4-RtmJKMp79s",
        "colab_type": "code",
        "outputId": "91bdf0d0-ebee-4338-a18e-6dbcc4fe2721",
        "colab": {
          "base_uri": "https://localhost:8080/",
          "height": 561
        }
      },
      "source": [
        "generate_metadata(\"train\", root=\"images_160x120_downsampled\")\n",
        "generate_metadata(\"test\", root=\"images_160x120_downsampled\")"
      ],
      "execution_count": 0,
      "outputs": [
        {
          "output_type": "stream",
          "text": [
            "Dataset composition:\n",
            " - pony: \t96\n",
            " - ugly-duck: \t0\n",
            " - alpaca: \t45\n",
            " - chicken: \t86\n",
            " - peacock: \t91\n",
            " - evil-chicken: \t0\n",
            " - rabbit: \t0\n",
            " - pig: \t0\n",
            " - ferret: \t0\n",
            " - human: \t0\n",
            " - cat: \t149\n",
            " - goose: \t0\n",
            " - pretty-chicken: \t0\n",
            " - sheep: \t0\n",
            "467 items total.\n",
            "Dataset composition:\n",
            " - pony: \t16\n",
            " - ugly-duck: \t0\n",
            " - alpaca: \t40\n",
            " - chicken: \t52\n",
            " - peacock: \t66\n",
            " - evil-chicken: \t0\n",
            " - rabbit: \t0\n",
            " - pig: \t0\n",
            " - ferret: \t0\n",
            " - human: \t0\n",
            " - cat: \t56\n",
            " - goose: \t0\n",
            " - pretty-chicken: \t0\n",
            " - sheep: \t0\n",
            "230 items total.\n"
          ],
          "name": "stdout"
        }
      ]
    },
    {
      "cell_type": "code",
      "metadata": {
        "id": "WfuGnmfoqC7i",
        "colab_type": "code",
        "outputId": "84a038a9-b153-4115-fc48-2165f1c5b27d",
        "colab": {
          "base_uri": "https://localhost:8080/",
          "height": 187
        }
      },
      "source": [
        "augment_dataset(\"labels_train.txt\", \"train_images\", multiplier=6)\n",
        "print(\"\\nTraining dataset\")\n",
        "generate_metadata(\"train_augmented\", root=\"train_images\", channel_prefix=False)"
      ],
      "execution_count": 0,
      "outputs": [
        {
          "output_type": "stream",
          "text": [
            "100%|██████████| 467/467 [00:38<00:00, 11.99it/s]\n"
          ],
          "name": "stderr"
        },
        {
          "output_type": "stream",
          "text": [
            "\n",
            "Training dataset\n",
            "Dataset composition:\n",
            " - pony: \t894\n",
            " - alpaca: \t894\n",
            " - chicken: \t894\n",
            " - peacock: \t894\n",
            " - cat: \t894\n",
            "4470 items total.\n"
          ],
          "name": "stdout"
        }
      ]
    },
    {
      "cell_type": "code",
      "metadata": {
        "id": "_UIh3bWFqGqe",
        "colab_type": "code",
        "outputId": "ff533f8b-ee5e-45a9-a079-3d883318b021",
        "colab": {
          "base_uri": "https://localhost:8080/",
          "height": 187
        }
      },
      "source": [
        "augment_dataset(\"labels_test.txt\", \"test_images\", multiplier=2)\n",
        "print(\"\\nTesting dataset\")\n",
        "generate_metadata(\"test_augmented\", root=\"test_images\", channel_prefix=False)"
      ],
      "execution_count": 0,
      "outputs": [
        {
          "output_type": "stream",
          "text": [
            "100%|██████████| 230/230 [00:03<00:00, 69.26it/s] "
          ],
          "name": "stderr"
        },
        {
          "output_type": "stream",
          "text": [
            "\n",
            "Testing dataset\n",
            "Dataset composition:\n",
            " - pony: \t132\n",
            " - alpaca: \t132\n",
            " - chicken: \t132\n",
            " - peacock: \t132\n",
            " - cat: \t132\n",
            "660 items total.\n"
          ],
          "name": "stdout"
        },
        {
          "output_type": "stream",
          "text": [
            "\n"
          ],
          "name": "stderr"
        }
      ]
    },
    {
      "cell_type": "markdown",
      "metadata": {
        "id": "hG-RqAvxB_py",
        "colab_type": "text"
      },
      "source": [
        "## Dataset"
      ]
    },
    {
      "cell_type": "code",
      "metadata": {
        "id": "7xf2kRpD8buO",
        "colab_type": "code",
        "colab": {}
      },
      "source": [
        "transformation = np.array([\n",
        "    [1.202290, -0.026808, -50.528589],\n",
        "    [0.017762, 1.203090, -73.950204],\n",
        "])\n",
        "\n",
        "class Dataset(K.utils.Sequence):\n",
        "\n",
        "    def __init__(self, metadata, rgb_only=False, res=(480, 640), register=True, batch_size=16, split=False, train=True):\n",
        "\n",
        "        self.rgb_only = rgb_only\n",
        "        self.res = res\n",
        "        self.register = register\n",
        "        self.batch_size = batch_size\n",
        "\n",
        "        self.classes = defaultdict(count().__next__)\n",
        "        self.samples = []\n",
        "\n",
        "        samples = []\n",
        "        labels = []\n",
        "        with open(metadata, \"r\") as f:\n",
        "            for line in f:\n",
        "                line = line.split()\n",
        "                class_label = self.classes[line[-1]]\n",
        "                samples.append(tuple(line[:2] + [class_label]))\n",
        "                labels.append(class_label)\n",
        "\n",
        "        if split:\n",
        "            train_data, test_data = train_test_split(samples, stratify=labels, test_size=0.2, random_state=42)\n",
        "            self.samples = train_data if train else test_data\n",
        "        else:\n",
        "            self.samples = samples\n",
        "\n",
        "        self.class_dict = {key: val for val, key in self.classes.items()}\n",
        "        self.class_labels = [val for key, val in sorted(self.class_dict.items())]\n",
        "\n",
        "    def __len__(self):\n",
        "        return len(self.samples) // self.batch_size\n",
        "    \n",
        "\n",
        "    def __iter__(self):\n",
        "        return self\n",
        "\n",
        "\n",
        "    def load(self, path, register=False):\n",
        "        img = cv2.imread(path) / 255\n",
        "        if register:\n",
        "            img = cv2.resize(img, (480, 640))\n",
        "            img = cv2.warpAffine(img, transformation, (480, 640))\n",
        "        img = cv2.resize(img, self.res)\n",
        "        return img\n",
        "\n",
        "\n",
        "    def __getitem__(self, idx):\n",
        "        if idx < self.__len__():\n",
        "            X = []\n",
        "            y = []\n",
        "            for i in range(self.batch_size):\n",
        "                rgb_path, lwir_path, label = self.samples[idx * self.batch_size + i]\n",
        "\n",
        "                one_hot = np.zeros(self.num_classes())\n",
        "                one_hot[label] = 1\n",
        "                y.append(one_hot)\n",
        "\n",
        "                rgb = self.load(rgb_path, register=self.register)\n",
        "\n",
        "                if self.rgb_only:\n",
        "                    X.append(rgb)\n",
        "                else:\n",
        "                    lwir = self.load(lwir_path, register=False)\n",
        "                    lwir = np.mean(lwir, -1)[..., None]\n",
        "                    stacked = np.dstack([rgb, lwir])\n",
        "                    X.append(stacked)\n",
        "\n",
        "            return np.array(X), np.array(y), [None]\n",
        "        else:\n",
        "            raise StopIteration\n",
        "\n",
        "    def get_labels(self):\n",
        "        return np.array([sample[-1] for sample in self.samples])\n",
        "\n",
        "    def num_classes(self):\n",
        "        return len(self.classes)\n",
        "\n",
        "    def shape(self):\n",
        "        return self.res[::-1] + tuple([(3 if self.rgb_only else 4)])\n",
        "\n",
        "\n",
        "train_data = Dataset(f\"labels_train_augmented.txt\", rgb_only=False, split=False, res=(120, 160))\n",
        "test_data = Dataset(f\"labels_test_augmented.txt\", rgb_only=False, split=False, res=(120, 160))\n",
        "\n",
        "# train_data = Dataset(f\"labels_train_augmented.txt\", rgb_only=False, split=False, res=(120, 160))\n",
        "# test_data = Dataset(f\"labels_train_augmented.txt\", rgb_only=False, split=False, res=(120, 160))"
      ],
      "execution_count": 0,
      "outputs": []
    },
    {
      "cell_type": "code",
      "metadata": {
        "id": "nGNHoK1bEL8b",
        "colab_type": "code",
        "outputId": "144df5d5-4a84-48d8-a0d6-41ec4183643c",
        "colab": {
          "base_uri": "https://localhost:8080/",
          "height": 51
        }
      },
      "source": [
        "X, y, _ = train_data[0]\n",
        "print(X.shape)\n",
        "\n",
        "X, y, _ = test_data[0]\n",
        "print(X.shape)\n",
        "# fig, (ax1, ax2) = plt.subplots(1, 2, figsize=(15, 10))\n",
        "# ax1.imshow(X[i, ..., 0], cmap=\"gray\")\n",
        "# ax2.imshow(y_train[i, ..., 0], cmap=\"gray\")"
      ],
      "execution_count": 0,
      "outputs": [
        {
          "output_type": "stream",
          "text": [
            "(16, 160, 120, 4)\n",
            "(16, 160, 120, 4)\n"
          ],
          "name": "stdout"
        }
      ]
    },
    {
      "cell_type": "markdown",
      "metadata": {
        "id": "Ttf3A6x1IbjC",
        "colab_type": "text"
      },
      "source": [
        "## Keras model"
      ]
    },
    {
      "cell_type": "markdown",
      "metadata": {
        "id": "T3MXKvXQaaxr",
        "colab_type": "text"
      },
      "source": [
        "## StuffNet"
      ]
    },
    {
      "cell_type": "code",
      "metadata": {
        "id": "UsZd6YdIH_QX",
        "colab_type": "code",
        "outputId": "f89c8687-972d-4e6e-b47a-09c64820e935",
        "colab": {
          "base_uri": "https://localhost:8080/",
          "height": 1000
        }
      },
      "source": [
        "def classifier(x, rgb_only=False):\n",
        "\n",
        "    ##### Split VIS and LWIR data\n",
        "    \n",
        "    rgb = x[..., 0:3]\n",
        "    lwir = x[..., 3, None]\n",
        "\n",
        "    ##### VIS Path\n",
        "\n",
        "    rgb = K.layers.Conv2D(filters=16, kernel_size=3, strides=1, padding=\"same\")(rgb)\n",
        "    rgb = K.layers.Conv2D(filters=16, kernel_size=11, strides=2, padding=\"valid\")(rgb)\n",
        "    rgb = K.layers.LeakyReLU()(rgb)\n",
        "    rgb = K.layers.MaxPool2D(pool_size=11, strides=2)(rgb)\n",
        "    rgb = K.layers.Dropout(0.4)(rgb)\n",
        "\n",
        "    rgb = K.layers.Conv2D(filters=32, kernel_size=3, strides=1, padding=\"same\")(rgb)\n",
        "    rgb = K.layers.Conv2D(filters=32, kernel_size=7, strides=2, padding=\"valid\")(rgb)\n",
        "    rgb = K.layers.LeakyReLU()(rgb)\n",
        "    rgb = K.layers.MaxPool2D(pool_size=5, strides=2)(rgb)\n",
        "    rgb = K.layers.Dropout(0.4)(rgb)\n",
        "\n",
        "    rgb = K.layers.Flatten()(rgb)\n",
        "    rgb = K.layers.Dense(64, activation=\"relu\")(rgb)\n",
        "    rgb = K.layers.Dropout(0.4)(rgb)\n",
        "    \n",
        "    if rgb_only:\n",
        "        rgb = K.layers.Dense(train_data.num_classes(), activation=\"softmax\")(rgb)\n",
        "        return rgb\n",
        "\n",
        "    ##### LWIR Path\n",
        "\n",
        "    lwir = K.layers.Conv2D(filters=16, kernel_size=3, strides=1, padding=\"same\")(lwir)\n",
        "    lwir = K.layers.Conv2D(filters=16, kernel_size=11, strides=2, padding=\"valid\")(lwir)\n",
        "    lwir = K.layers.LeakyReLU()(lwir)\n",
        "    lwir = K.layers.MaxPool2D(pool_size=11, strides=2)(lwir)\n",
        "    lwir = K.layers.Dropout(0.4)(lwir)\n",
        "\n",
        "    lwir = K.layers.Conv2D(filters=32, kernel_size=3, strides=1, padding=\"same\")(lwir)\n",
        "    lwir = K.layers.Conv2D(filters=32, kernel_size=7, strides=2, padding=\"valid\")(lwir)\n",
        "    lwir = K.layers.LeakyReLU()(lwir)\n",
        "    lwir = K.layers.MaxPool2D(pool_size=5, strides=2)(lwir)\n",
        "    lwir = K.layers.Dropout(0.4)(lwir)\n",
        "\n",
        "    lwir = K.layers.Flatten()(lwir)\n",
        "    lwir = K.layers.Dense(64, activation=\"relu\")(lwir)\n",
        "    lwir = K.layers.Dropout(0.4)(lwir)\n",
        "\n",
        "    ##### Joint output\n",
        "\n",
        "    x = K.layers.Concatenate()([rgb, lwir])\n",
        "    tf.print(x.shape)\n",
        "    x = K.layers.Dense(train_data.num_classes(), activation=\"softmax\")(x)\n",
        "    return x\n",
        "\n",
        "\n",
        "\n",
        "input_tensor = K.layers.Input(train_data.shape())\n",
        "output_tensor = classifier(input_tensor)\n",
        "\n",
        "model = K.Model(input_tensor, output_tensor)\n",
        "model.compile(optimizer='sgd',\n",
        "              loss='mean_squared_error',\n",
        "              metrics=['accuracy'])\n",
        "model.summary()\n",
        "weights = model.get_weights()"
      ],
      "execution_count": 0,
      "outputs": [
        {
          "output_type": "stream",
          "text": [
            "TensorShape([None, 128])\n",
            "Model: \"model_16\"\n",
            "__________________________________________________________________________________________________\n",
            "Layer (type)                    Output Shape         Param #     Connected to                     \n",
            "==================================================================================================\n",
            "input_19 (InputLayer)           [(None, 160, 120, 4) 0                                            \n",
            "__________________________________________________________________________________________________\n",
            "tf_op_layer_strided_slice_34 (T [(None, 160, 120, 3) 0           input_19[0][0]                   \n",
            "__________________________________________________________________________________________________\n",
            "tf_op_layer_strided_slice_35 (T [(None, 160, 120, 1) 0           input_19[0][0]                   \n",
            "__________________________________________________________________________________________________\n",
            "conv2d_90 (Conv2D)              (None, 160, 120, 16) 448         tf_op_layer_strided_slice_34[0][0\n",
            "__________________________________________________________________________________________________\n",
            "conv2d_94 (Conv2D)              (None, 160, 120, 16) 160         tf_op_layer_strided_slice_35[0][0\n",
            "__________________________________________________________________________________________________\n",
            "conv2d_91 (Conv2D)              (None, 75, 55, 16)   30992       conv2d_90[0][0]                  \n",
            "__________________________________________________________________________________________________\n",
            "conv2d_95 (Conv2D)              (None, 75, 55, 16)   30992       conv2d_94[0][0]                  \n",
            "__________________________________________________________________________________________________\n",
            "leaky_re_lu_21 (LeakyReLU)      (None, 75, 55, 16)   0           conv2d_91[0][0]                  \n",
            "__________________________________________________________________________________________________\n",
            "leaky_re_lu_23 (LeakyReLU)      (None, 75, 55, 16)   0           conv2d_95[0][0]                  \n",
            "__________________________________________________________________________________________________\n",
            "max_pooling2d_51 (MaxPooling2D) (None, 33, 23, 16)   0           leaky_re_lu_21[0][0]             \n",
            "__________________________________________________________________________________________________\n",
            "max_pooling2d_53 (MaxPooling2D) (None, 33, 23, 16)   0           leaky_re_lu_23[0][0]             \n",
            "__________________________________________________________________________________________________\n",
            "dropout_31 (Dropout)            (None, 33, 23, 16)   0           max_pooling2d_51[0][0]           \n",
            "__________________________________________________________________________________________________\n",
            "dropout_34 (Dropout)            (None, 33, 23, 16)   0           max_pooling2d_53[0][0]           \n",
            "__________________________________________________________________________________________________\n",
            "conv2d_92 (Conv2D)              (None, 33, 23, 32)   4640        dropout_31[0][0]                 \n",
            "__________________________________________________________________________________________________\n",
            "conv2d_96 (Conv2D)              (None, 33, 23, 32)   4640        dropout_34[0][0]                 \n",
            "__________________________________________________________________________________________________\n",
            "conv2d_93 (Conv2D)              (None, 14, 9, 32)    50208       conv2d_92[0][0]                  \n",
            "__________________________________________________________________________________________________\n",
            "conv2d_97 (Conv2D)              (None, 14, 9, 32)    50208       conv2d_96[0][0]                  \n",
            "__________________________________________________________________________________________________\n",
            "leaky_re_lu_22 (LeakyReLU)      (None, 14, 9, 32)    0           conv2d_93[0][0]                  \n",
            "__________________________________________________________________________________________________\n",
            "leaky_re_lu_24 (LeakyReLU)      (None, 14, 9, 32)    0           conv2d_97[0][0]                  \n",
            "__________________________________________________________________________________________________\n",
            "max_pooling2d_52 (MaxPooling2D) (None, 5, 3, 32)     0           leaky_re_lu_22[0][0]             \n",
            "__________________________________________________________________________________________________\n",
            "max_pooling2d_54 (MaxPooling2D) (None, 5, 3, 32)     0           leaky_re_lu_24[0][0]             \n",
            "__________________________________________________________________________________________________\n",
            "dropout_32 (Dropout)            (None, 5, 3, 32)     0           max_pooling2d_52[0][0]           \n",
            "__________________________________________________________________________________________________\n",
            "dropout_35 (Dropout)            (None, 5, 3, 32)     0           max_pooling2d_54[0][0]           \n",
            "__________________________________________________________________________________________________\n",
            "flatten_20 (Flatten)            (None, 480)          0           dropout_32[0][0]                 \n",
            "__________________________________________________________________________________________________\n",
            "flatten_21 (Flatten)            (None, 480)          0           dropout_35[0][0]                 \n",
            "__________________________________________________________________________________________________\n",
            "dense_45 (Dense)                (None, 64)           30784       flatten_20[0][0]                 \n",
            "__________________________________________________________________________________________________\n",
            "dense_46 (Dense)                (None, 64)           30784       flatten_21[0][0]                 \n",
            "__________________________________________________________________________________________________\n",
            "dropout_33 (Dropout)            (None, 64)           0           dense_45[0][0]                   \n",
            "__________________________________________________________________________________________________\n",
            "dropout_36 (Dropout)            (None, 64)           0           dense_46[0][0]                   \n",
            "__________________________________________________________________________________________________\n",
            "concatenate_5 (Concatenate)     (None, 128)          0           dropout_33[0][0]                 \n",
            "                                                                 dropout_36[0][0]                 \n",
            "__________________________________________________________________________________________________\n",
            "dense_47 (Dense)                (None, 5)            645         concatenate_5[0][0]              \n",
            "==================================================================================================\n",
            "Total params: 234,501\n",
            "Trainable params: 234,501\n",
            "Non-trainable params: 0\n",
            "__________________________________________________________________________________________________\n"
          ],
          "name": "stdout"
        }
      ]
    },
    {
      "cell_type": "markdown",
      "metadata": {
        "id": "UagG6tRifKzl",
        "colab_type": "text"
      },
      "source": [
        ""
      ]
    },
    {
      "cell_type": "markdown",
      "metadata": {
        "id": "ZblccFDJNMP3",
        "colab_type": "text"
      },
      "source": [
        "## AlexNet"
      ]
    },
    {
      "cell_type": "code",
      "metadata": {
        "id": "E1DNxrriNLSV",
        "colab_type": "code",
        "outputId": "1991f0be-d1a9-40b8-8318-4a43874c736b",
        "colab": {
          "base_uri": "https://localhost:8080/",
          "height": 1000
        }
      },
      "source": [
        "def classifier(x, rgb_only=False):\n",
        "\n",
        "    ##### Split VIS and LWIR data\n",
        "    \n",
        "    rgb = x[..., 0:3]\n",
        "    lwir = x[..., 3, None]\n",
        "\n",
        "    ##### VIS Path\n",
        "\n",
        "    rgb = K.layers.Conv2D(filters=96, kernel_size=11, strides=2, padding=\"same\", activation=\"relu\")(rgb)\n",
        "    rgb = K.layers.MaxPool2D(pool_size=3, strides=2)(rgb)\n",
        "\n",
        "    rgb = K.layers.Conv2D(filters=256, kernel_size=5, strides=2, padding=\"same\", activation=\"relu\")(rgb)\n",
        "    rgb = K.layers.MaxPool2D(pool_size=3, strides=2)(rgb)\n",
        "\n",
        "    rgb = K.layers.Conv2D(filters=384, kernel_size=3, strides=1, padding=\"same\", activation=\"relu\")(rgb)\n",
        "    rgb = K.layers.Conv2D(filters=384, kernel_size=3, strides=1, padding=\"same\", activation=\"relu\")(rgb)\n",
        "    rgb = K.layers.Conv2D(filters=256, kernel_size=3, strides=1, padding=\"same\", activation=\"relu\")(rgb)\n",
        "    rgb = K.layers.MaxPool2D(pool_size=3, strides=2)(rgb)\n",
        "\n",
        "    rgb = K.layers.Flatten()(rgb)\n",
        "    rgb = K.layers.Dense(1024, activation=\"relu\")(rgb)\n",
        "    rgb = K.layers.Dense(1024, activation=\"relu\")(rgb)\n",
        "    \n",
        "    if rgb_only:\n",
        "        rgb = K.layers.Dense(train_data.num_classes(), activation=\"softmax\")(rgb)\n",
        "        return rgb\n",
        "\n",
        "    ##### LWIR Path\n",
        "\n",
        "    lwir = K.layers.Conv2D(filters=96, kernel_size=11, strides=2, padding=\"same\", activation=\"relu\")(lwir)\n",
        "    lwir = K.layers.MaxPool2D(pool_size=3, strides=2)(lwir)\n",
        "\n",
        "    lwir = K.layers.Conv2D(filters=256, kernel_size=5, strides=2, padding=\"same\", activation=\"relu\")(lwir)\n",
        "    lwir = K.layers.MaxPool2D(pool_size=3, strides=2)(lwir)\n",
        "\n",
        "    lwir = K.layers.Conv2D(filters=384, kernel_size=3, strides=1, padding=\"same\", activation=\"relu\")(lwir)\n",
        "    lwir = K.layers.Conv2D(filters=384, kernel_size=3, strides=1, padding=\"same\", activation=\"relu\")(lwir)\n",
        "    lwir = K.layers.Conv2D(filters=256, kernel_size=3, strides=1, padding=\"same\", activation=\"relu\")(lwir)\n",
        "    lwir = K.layers.MaxPool2D(pool_size=3, strides=2)(lwir)\n",
        "\n",
        "    lwir = K.layers.Flatten()(lwir)\n",
        "    lwir = K.layers.Dense(1024, activation=\"relu\")(lwir)\n",
        "    lwir = K.layers.Dense(1024, activation=\"relu\")(lwir)\n",
        "\n",
        "    ##### Joint output\n",
        "\n",
        "    x = K.layers.Concatenate()([rgb, lwir])\n",
        "    tf.print(x.shape)\n",
        "    x = K.layers.Dense(train_data.num_classes(), activation=\"softmax\")(x)\n",
        "    return x\n",
        "\n",
        "\n",
        "\n",
        "input_tensor = K.layers.Input(train_data.shape())\n",
        "output_tensor = classifier(input_tensor, rgb_only=False)\n",
        "\n",
        "model = K.Model(input_tensor, output_tensor)\n",
        "model.compile(optimizer='sgd',\n",
        "              loss='mean_squared_error',\n",
        "              metrics=['accuracy'])\n",
        "model.summary()\n",
        "weights = model.get_weights()"
      ],
      "execution_count": 0,
      "outputs": [
        {
          "output_type": "stream",
          "text": [
            "TensorShape([None, 2048])\n",
            "Model: \"model_14\"\n",
            "__________________________________________________________________________________________________\n",
            "Layer (type)                    Output Shape         Param #     Connected to                     \n",
            "==================================================================================================\n",
            "input_17 (InputLayer)           [(None, 160, 120, 4) 0                                            \n",
            "__________________________________________________________________________________________________\n",
            "tf_op_layer_strided_slice_30 (T [(None, 160, 120, 3) 0           input_17[0][0]                   \n",
            "__________________________________________________________________________________________________\n",
            "tf_op_layer_strided_slice_31 (T [(None, 160, 120, 1) 0           input_17[0][0]                   \n",
            "__________________________________________________________________________________________________\n",
            "conv2d_72 (Conv2D)              (None, 80, 60, 96)   34944       tf_op_layer_strided_slice_30[0][0\n",
            "__________________________________________________________________________________________________\n",
            "conv2d_77 (Conv2D)              (None, 80, 60, 96)   11712       tf_op_layer_strided_slice_31[0][0\n",
            "__________________________________________________________________________________________________\n",
            "max_pooling2d_41 (MaxPooling2D) (None, 39, 29, 96)   0           conv2d_72[0][0]                  \n",
            "__________________________________________________________________________________________________\n",
            "max_pooling2d_44 (MaxPooling2D) (None, 39, 29, 96)   0           conv2d_77[0][0]                  \n",
            "__________________________________________________________________________________________________\n",
            "conv2d_73 (Conv2D)              (None, 20, 15, 256)  614656      max_pooling2d_41[0][0]           \n",
            "__________________________________________________________________________________________________\n",
            "conv2d_78 (Conv2D)              (None, 20, 15, 256)  614656      max_pooling2d_44[0][0]           \n",
            "__________________________________________________________________________________________________\n",
            "max_pooling2d_42 (MaxPooling2D) (None, 9, 7, 256)    0           conv2d_73[0][0]                  \n",
            "__________________________________________________________________________________________________\n",
            "max_pooling2d_45 (MaxPooling2D) (None, 9, 7, 256)    0           conv2d_78[0][0]                  \n",
            "__________________________________________________________________________________________________\n",
            "conv2d_74 (Conv2D)              (None, 9, 7, 384)    885120      max_pooling2d_42[0][0]           \n",
            "__________________________________________________________________________________________________\n",
            "conv2d_79 (Conv2D)              (None, 9, 7, 384)    885120      max_pooling2d_45[0][0]           \n",
            "__________________________________________________________________________________________________\n",
            "conv2d_75 (Conv2D)              (None, 9, 7, 384)    1327488     conv2d_74[0][0]                  \n",
            "__________________________________________________________________________________________________\n",
            "conv2d_80 (Conv2D)              (None, 9, 7, 384)    1327488     conv2d_79[0][0]                  \n",
            "__________________________________________________________________________________________________\n",
            "conv2d_76 (Conv2D)              (None, 9, 7, 256)    884992      conv2d_75[0][0]                  \n",
            "__________________________________________________________________________________________________\n",
            "conv2d_81 (Conv2D)              (None, 9, 7, 256)    884992      conv2d_80[0][0]                  \n",
            "__________________________________________________________________________________________________\n",
            "max_pooling2d_43 (MaxPooling2D) (None, 4, 3, 256)    0           conv2d_76[0][0]                  \n",
            "__________________________________________________________________________________________________\n",
            "max_pooling2d_46 (MaxPooling2D) (None, 4, 3, 256)    0           conv2d_81[0][0]                  \n",
            "__________________________________________________________________________________________________\n",
            "flatten_16 (Flatten)            (None, 3072)         0           max_pooling2d_43[0][0]           \n",
            "__________________________________________________________________________________________________\n",
            "flatten_17 (Flatten)            (None, 3072)         0           max_pooling2d_46[0][0]           \n",
            "__________________________________________________________________________________________________\n",
            "dense_37 (Dense)                (None, 1024)         3146752     flatten_16[0][0]                 \n",
            "__________________________________________________________________________________________________\n",
            "dense_39 (Dense)                (None, 1024)         3146752     flatten_17[0][0]                 \n",
            "__________________________________________________________________________________________________\n",
            "dense_38 (Dense)                (None, 1024)         1049600     dense_37[0][0]                   \n",
            "__________________________________________________________________________________________________\n",
            "dense_40 (Dense)                (None, 1024)         1049600     dense_39[0][0]                   \n",
            "__________________________________________________________________________________________________\n",
            "concatenate_3 (Concatenate)     (None, 2048)         0           dense_38[0][0]                   \n",
            "                                                                 dense_40[0][0]                   \n",
            "__________________________________________________________________________________________________\n",
            "dense_41 (Dense)                (None, 5)            10245       concatenate_3[0][0]              \n",
            "==================================================================================================\n",
            "Total params: 15,874,117\n",
            "Trainable params: 15,874,117\n",
            "Non-trainable params: 0\n",
            "__________________________________________________________________________________________________\n"
          ],
          "name": "stdout"
        }
      ]
    },
    {
      "cell_type": "markdown",
      "metadata": {
        "id": "8Nz5vF02an3t",
        "colab_type": "text"
      },
      "source": [
        "## Train"
      ]
    },
    {
      "cell_type": "code",
      "metadata": {
        "id": "wzSZTl2uQyCF",
        "colab_type": "code",
        "colab": {}
      },
      "source": [
        "# %reload_ext tensorboard\n",
        "# %tensorboard --logdir logs/fit"
      ],
      "execution_count": 0,
      "outputs": []
    },
    {
      "cell_type": "code",
      "metadata": {
        "id": "IJvpuiD_LILG",
        "colab_type": "code",
        "outputId": "99d0667c-8e80-46e6-8138-30226dd1024a",
        "colab": {
          "base_uri": "https://localhost:8080/",
          "height": 1000
        }
      },
      "source": [
        "%%time\n",
        "log_dir=\"logs/fit/\" + datetime.now().strftime(\"%Y%m%d-%H%M%S\")\n",
        "tensorboard_callback = tf.keras.callbacks.TensorBoard(log_dir=log_dir, histogram_freq=0, write_graph=True, write_images=True)\n",
        "\n",
        "# model.fit(train_data, epochs=10, callbacks=[tensorboard_callback], validation_data=test_data)\n",
        "\n",
        "tf.random.set_seed(42)\n",
        "np.random.seed(42)\n",
        "\n",
        "model.set_weights(weights)\n",
        "\n",
        "model.fit(train_data, epochs=30, validation_data=test_data)"
      ],
      "execution_count": 0,
      "outputs": [
        {
          "output_type": "stream",
          "text": [
            "Train for 279 steps, validate for 41 steps\n",
            "Epoch 1/30\n",
            "279/279 [==============================] - 34s 123ms/step - loss: 0.1625 - accuracy: 0.2366 - val_loss: 0.1568 - val_accuracy: 0.3262\n",
            "Epoch 2/30\n",
            "279/279 [==============================] - 33s 119ms/step - loss: 0.1550 - accuracy: 0.2991 - val_loss: 0.1535 - val_accuracy: 0.4482\n",
            "Epoch 3/30\n",
            "279/279 [==============================] - 33s 119ms/step - loss: 0.1477 - accuracy: 0.3833 - val_loss: 0.1487 - val_accuracy: 0.4299\n",
            "Epoch 4/30\n",
            "279/279 [==============================] - 33s 119ms/step - loss: 0.1334 - accuracy: 0.4570 - val_loss: 0.1284 - val_accuracy: 0.4482\n",
            "Epoch 5/30\n",
            "279/279 [==============================] - 33s 119ms/step - loss: 0.1188 - accuracy: 0.5166 - val_loss: 0.1189 - val_accuracy: 0.5259\n",
            "Epoch 6/30\n",
            "279/279 [==============================] - 33s 120ms/step - loss: 0.1101 - accuracy: 0.5614 - val_loss: 0.1157 - val_accuracy: 0.5183\n",
            "Epoch 7/30\n",
            "279/279 [==============================] - 33s 119ms/step - loss: 0.1008 - accuracy: 0.6091 - val_loss: 0.1129 - val_accuracy: 0.5213\n",
            "Epoch 8/30\n",
            "279/279 [==============================] - 33s 119ms/step - loss: 0.0934 - accuracy: 0.6474 - val_loss: 0.1152 - val_accuracy: 0.4619\n",
            "Epoch 9/30\n",
            "279/279 [==============================] - 33s 119ms/step - loss: 0.0863 - accuracy: 0.6698 - val_loss: 0.1164 - val_accuracy: 0.4527\n",
            "Epoch 10/30\n",
            "279/279 [==============================] - 33s 120ms/step - loss: 0.0812 - accuracy: 0.6996 - val_loss: 0.1153 - val_accuracy: 0.4954\n",
            "Epoch 11/30\n",
            "279/279 [==============================] - 33s 119ms/step - loss: 0.0747 - accuracy: 0.7301 - val_loss: 0.1187 - val_accuracy: 0.4863\n",
            "Epoch 12/30\n",
            "279/279 [==============================] - 33s 119ms/step - loss: 0.0708 - accuracy: 0.7435 - val_loss: 0.1222 - val_accuracy: 0.4162\n",
            "Epoch 13/30\n",
            "279/279 [==============================] - 33s 119ms/step - loss: 0.0654 - accuracy: 0.7724 - val_loss: 0.1241 - val_accuracy: 0.3811\n",
            "Epoch 14/30\n",
            "279/279 [==============================] - 33s 119ms/step - loss: 0.0626 - accuracy: 0.7805 - val_loss: 0.1243 - val_accuracy: 0.4451\n",
            "Epoch 15/30\n",
            "279/279 [==============================] - 33s 119ms/step - loss: 0.0601 - accuracy: 0.7852 - val_loss: 0.1343 - val_accuracy: 0.3780\n",
            "Epoch 16/30\n",
            "279/279 [==============================] - 33s 119ms/step - loss: 0.0553 - accuracy: 0.8089 - val_loss: 0.1532 - val_accuracy: 0.3796\n",
            "Epoch 17/30\n",
            "279/279 [==============================] - 33s 119ms/step - loss: 0.0551 - accuracy: 0.8103 - val_loss: 0.1339 - val_accuracy: 0.3887\n",
            "Epoch 18/30\n",
            "279/279 [==============================] - 33s 119ms/step - loss: 0.0513 - accuracy: 0.8244 - val_loss: 0.1451 - val_accuracy: 0.3902\n",
            "Epoch 19/30\n",
            "279/279 [==============================] - 33s 120ms/step - loss: 0.0475 - accuracy: 0.8380 - val_loss: 0.1516 - val_accuracy: 0.3933\n",
            "Epoch 20/30\n",
            "279/279 [==============================] - 33s 119ms/step - loss: 0.0455 - accuracy: 0.8443 - val_loss: 0.1567 - val_accuracy: 0.3918\n",
            "Epoch 21/30\n",
            "279/279 [==============================] - 33s 119ms/step - loss: 0.0422 - accuracy: 0.8629 - val_loss: 0.1757 - val_accuracy: 0.3857\n",
            "Epoch 22/30\n",
            "279/279 [==============================] - 33s 119ms/step - loss: 0.0391 - accuracy: 0.8707 - val_loss: 0.1546 - val_accuracy: 0.4040\n",
            "Epoch 23/30\n",
            "279/279 [==============================] - 33s 119ms/step - loss: 0.0399 - accuracy: 0.8642 - val_loss: 0.1547 - val_accuracy: 0.4009\n",
            "Epoch 24/30\n",
            "279/279 [==============================] - 33s 119ms/step - loss: 0.0361 - accuracy: 0.8828 - val_loss: 0.1710 - val_accuracy: 0.4009\n",
            "Epoch 25/30\n",
            "279/279 [==============================] - 33s 119ms/step - loss: 0.0336 - accuracy: 0.8907 - val_loss: 0.1605 - val_accuracy: 0.4055\n",
            "Epoch 26/30\n",
            "279/279 [==============================] - 33s 119ms/step - loss: 0.0323 - accuracy: 0.8927 - val_loss: 0.1689 - val_accuracy: 0.3994\n",
            "Epoch 27/30\n",
            "279/279 [==============================] - 33s 119ms/step - loss: 0.0314 - accuracy: 0.8983 - val_loss: 0.1836 - val_accuracy: 0.4009\n",
            "Epoch 28/30\n",
            "279/279 [==============================] - 33s 119ms/step - loss: 0.0289 - accuracy: 0.9077 - val_loss: 0.1558 - val_accuracy: 0.4482\n",
            "Epoch 29/30\n",
            "279/279 [==============================] - 33s 120ms/step - loss: 0.0268 - accuracy: 0.9144 - val_loss: 0.1569 - val_accuracy: 0.4390\n",
            "Epoch 30/30\n",
            "279/279 [==============================] - 33s 119ms/step - loss: 0.0264 - accuracy: 0.9171 - val_loss: 0.1643 - val_accuracy: 0.4360\n",
            "CPU times: user 33min 15s, sys: 1min 7s, total: 34min 22s\n",
            "Wall time: 16min 38s\n"
          ],
          "name": "stdout"
        }
      ]
    },
    {
      "cell_type": "code",
      "metadata": {
        "id": "XDHCenJwFkBq",
        "colab_type": "code",
        "colab": {}
      },
      "source": [
        "model.save_weights('weights.h5')"
      ],
      "execution_count": 0,
      "outputs": []
    },
    {
      "cell_type": "code",
      "metadata": {
        "id": "1sGTVhOCUTK9",
        "colab_type": "code",
        "colab": {}
      },
      "source": [
        "model.load_weights(\"weights.h5\")"
      ],
      "execution_count": 0,
      "outputs": []
    },
    {
      "cell_type": "code",
      "metadata": {
        "id": "YvfMp2vSRU_b",
        "colab_type": "code",
        "outputId": "dd7ecf4c-c3b3-40c8-ff82-a86306c3d8ca",
        "colab": {
          "base_uri": "https://localhost:8080/",
          "height": 221
        }
      },
      "source": [
        "y_pred = np.argmax(model.predict(test_data), axis=1)\n",
        "y_test = test_data.get_labels()[:y_pred.shape[0]]\n",
        "print(classification_report(y_test, y_pred, target_names=test_data.class_labels))"
      ],
      "execution_count": 0,
      "outputs": [
        {
          "output_type": "stream",
          "text": [
            "              precision    recall  f1-score   support\n",
            "\n",
            "        pony       0.38      0.46      0.42       132\n",
            "      alpaca       1.00      0.34      0.51       132\n",
            "     chicken       0.10      0.02      0.03       132\n",
            "     peacock       0.21      0.49      0.29       132\n",
            "         cat       0.98      0.88      0.93       128\n",
            "\n",
            "    accuracy                           0.44       656\n",
            "   macro avg       0.53      0.44      0.43       656\n",
            "weighted avg       0.53      0.44      0.43       656\n",
            "\n"
          ],
          "name": "stdout"
        }
      ]
    },
    {
      "cell_type": "code",
      "metadata": {
        "id": "X6qaDhVNoetA",
        "colab_type": "code",
        "outputId": "35a85423-0048-4b2f-fa9c-1f19ff2cefca",
        "colab": {
          "base_uri": "https://localhost:8080/",
          "height": 34
        }
      },
      "source": [
        "# test_data.get_labels().shape\n",
        "# np.argmax(y_pred, axis=1).shape"
      ],
      "execution_count": 0,
      "outputs": [
        {
          "output_type": "execute_result",
          "data": {
            "text/plain": [
              "(1124,)"
            ]
          },
          "metadata": {
            "tags": []
          },
          "execution_count": 24
        }
      ]
    },
    {
      "cell_type": "code",
      "metadata": {
        "id": "aGL7fddZkwK6",
        "colab_type": "code",
        "outputId": "69427303-1146-42d2-922e-7ab14e66075a",
        "colab": {
          "base_uri": "https://localhost:8080/",
          "height": 51
        }
      },
      "source": [
        "print(\"Pred:\", np.bincount(y_pred))\n",
        "print(\"True:\", np.bincount(y_test))"
      ],
      "execution_count": 0,
      "outputs": [
        {
          "output_type": "stream",
          "text": [
            "Pred: [118  65  94 235 144]\n",
            "True: [132 132 132 132 128]\n"
          ],
          "name": "stdout"
        }
      ]
    },
    {
      "cell_type": "code",
      "metadata": {
        "id": "8UJldAYBTG7Z",
        "colab_type": "code",
        "outputId": "62ea7cee-b076-4792-d3d3-8b15fa2bab1c",
        "colab": {
          "base_uri": "https://localhost:8080/",
          "height": 466
        }
      },
      "source": [
        "# y_pred = model.predict_classes(X_test)\n",
        "\n",
        "y_pred_named = [test_data.class_labels[x] for x in y_pred]\n",
        "y_test_named = [test_data.class_labels[x] for x in y_test]\n",
        "confusion = confusion_matrix(y_test_named, y_pred_named, labels=test_data.class_labels)\n",
        "\n",
        "f, ax = plt.subplots(figsize=(5, 5), dpi=100)\n",
        "ax = sns.heatmap(confusion, annot=True, xticklabels=test_data.class_labels, yticklabels=test_data.class_labels, square=True, cbar=False, fmt=\"d\")\n",
        "ax.set(xlabel='Predicted class', ylabel='Actual class')\n",
        "plt.show()"
      ],
      "execution_count": 0,
      "outputs": [
        {
          "output_type": "display_data",
          "data": {
            "image/png": "[encoded data removed]",
            "text/plain": [
              "<Figure size 500x500 with 1 Axes>"
            ]
          },
          "metadata": {
            "tags": []
          }
        }
      ]
    },
    {
      "cell_type": "code",
      "metadata": {
        "id": "iWsQxrrpLVbM",
        "colab_type": "code",
        "outputId": "6b815c9f-5114-432a-c5d7-208f19d4946c",
        "colab": {
          "base_uri": "https://localhost:8080/",
          "height": 351
        }
      },
      "source": [
        "n = 5\n",
        "\n",
        "ids = np.random.randint(0, len(test_data)-1, size=n)\n",
        "preds = model.predict(test_data[ids])\n",
        "\n",
        "fig, axes = plt.subplots(1, n, figsize=(15, 10))\n",
        "\n",
        "for id_, ax, pred in zip(ids, axes, preds):\n",
        "    ax.imshow(X_test[id_][..., 1:])\n",
        "    ax.axis('off')\n",
        "    ax.set_title(data.class_labels[pred])\n",
        "\n",
        "plt.tight_layout()"
      ],
      "execution_count": 0,
      "outputs": [
        {
          "output_type": "error",
          "ename": "ValueError",
          "evalue": "ignored",
          "traceback": [
            "\u001b[0;31m---------------------------------------------------------------------------\u001b[0m",
            "\u001b[0;31mValueError\u001b[0m                                Traceback (most recent call last)",
            "\u001b[0;32m<ipython-input-28-312401deb60f>\u001b[0m in \u001b[0;36m<module>\u001b[0;34m()\u001b[0m\n\u001b[1;32m      2\u001b[0m \u001b[0;34m\u001b[0m\u001b[0m\n\u001b[1;32m      3\u001b[0m \u001b[0mids\u001b[0m \u001b[0;34m=\u001b[0m \u001b[0mnp\u001b[0m\u001b[0;34m.\u001b[0m\u001b[0mrandom\u001b[0m\u001b[0;34m.\u001b[0m\u001b[0mrandint\u001b[0m\u001b[0;34m(\u001b[0m\u001b[0;36m0\u001b[0m\u001b[0;34m,\u001b[0m \u001b[0mlen\u001b[0m\u001b[0;34m(\u001b[0m\u001b[0mtest_data\u001b[0m\u001b[0;34m)\u001b[0m\u001b[0;34m-\u001b[0m\u001b[0;36m1\u001b[0m\u001b[0;34m,\u001b[0m \u001b[0msize\u001b[0m\u001b[0;34m=\u001b[0m\u001b[0mn\u001b[0m\u001b[0;34m)\u001b[0m\u001b[0;34m\u001b[0m\u001b[0;34m\u001b[0m\u001b[0m\n\u001b[0;32m----> 4\u001b[0;31m \u001b[0mpreds\u001b[0m \u001b[0;34m=\u001b[0m \u001b[0mmodel\u001b[0m\u001b[0;34m.\u001b[0m\u001b[0mpredict\u001b[0m\u001b[0;34m(\u001b[0m\u001b[0mtest_data\u001b[0m\u001b[0;34m[\u001b[0m\u001b[0mids\u001b[0m\u001b[0;34m]\u001b[0m\u001b[0;34m)\u001b[0m\u001b[0;34m\u001b[0m\u001b[0;34m\u001b[0m\u001b[0m\n\u001b[0m\u001b[1;32m      5\u001b[0m \u001b[0;34m\u001b[0m\u001b[0m\n\u001b[1;32m      6\u001b[0m \u001b[0mfig\u001b[0m\u001b[0;34m,\u001b[0m \u001b[0maxes\u001b[0m \u001b[0;34m=\u001b[0m \u001b[0mplt\u001b[0m\u001b[0;34m.\u001b[0m\u001b[0msubplots\u001b[0m\u001b[0;34m(\u001b[0m\u001b[0;36m1\u001b[0m\u001b[0;34m,\u001b[0m \u001b[0mn\u001b[0m\u001b[0;34m,\u001b[0m \u001b[0mfigsize\u001b[0m\u001b[0;34m=\u001b[0m\u001b[0;34m(\u001b[0m\u001b[0;36m15\u001b[0m\u001b[0;34m,\u001b[0m \u001b[0;36m10\u001b[0m\u001b[0;34m)\u001b[0m\u001b[0;34m)\u001b[0m\u001b[0;34m\u001b[0m\u001b[0;34m\u001b[0m\u001b[0m\n",
            "\u001b[0;32m<ipython-input-9-1223d3fef240>\u001b[0m in \u001b[0;36m__getitem__\u001b[0;34m(self, idx)\u001b[0m\n\u001b[1;32m     52\u001b[0m \u001b[0;34m\u001b[0m\u001b[0m\n\u001b[1;32m     53\u001b[0m     \u001b[0;32mdef\u001b[0m \u001b[0m__getitem__\u001b[0m\u001b[0;34m(\u001b[0m\u001b[0mself\u001b[0m\u001b[0;34m,\u001b[0m \u001b[0midx\u001b[0m\u001b[0;34m)\u001b[0m\u001b[0;34m:\u001b[0m\u001b[0;34m\u001b[0m\u001b[0;34m\u001b[0m\u001b[0m\n\u001b[0;32m---> 54\u001b[0;31m         \u001b[0;32mif\u001b[0m \u001b[0midx\u001b[0m \u001b[0;34m<\u001b[0m \u001b[0mself\u001b[0m\u001b[0;34m.\u001b[0m\u001b[0m__len__\u001b[0m\u001b[0;34m(\u001b[0m\u001b[0;34m)\u001b[0m\u001b[0;34m:\u001b[0m\u001b[0;34m\u001b[0m\u001b[0;34m\u001b[0m\u001b[0m\n\u001b[0m\u001b[1;32m     55\u001b[0m             \u001b[0mX\u001b[0m \u001b[0;34m=\u001b[0m \u001b[0;34m[\u001b[0m\u001b[0;34m]\u001b[0m\u001b[0;34m\u001b[0m\u001b[0;34m\u001b[0m\u001b[0m\n\u001b[1;32m     56\u001b[0m             \u001b[0my\u001b[0m \u001b[0;34m=\u001b[0m \u001b[0;34m[\u001b[0m\u001b[0;34m]\u001b[0m\u001b[0;34m\u001b[0m\u001b[0;34m\u001b[0m\u001b[0m\n",
            "\u001b[0;31mValueError\u001b[0m: The truth value of an array with more than one element is ambiguous. Use a.any() or a.all()"
          ]
        }
      ]
    },
    {
      "cell_type": "code",
      "metadata": {
        "id": "B2nTLaXkQbgB",
        "colab_type": "code",
        "outputId": "804a3eca-fcc4-4679-e85e-840629eb366d",
        "colab": {
          "base_uri": "https://localhost:8080/",
          "height": 51
        }
      },
      "source": [
        ""
      ],
      "execution_count": 0,
      "outputs": [
        {
          "output_type": "execute_result",
          "data": {
            "text/plain": [
              "defaultdict(<method-wrapper '__next__' of itertools.count object at 0x7f3ea2c8f6c8>,\n",
              "            {'alpaca': 2, 'chicken': 4, 'peacock': 3, 'pig': 0, 'pony': 1})"
            ]
          },
          "metadata": {
            "tags": []
          },
          "execution_count": 46
        }
      ]
    },
    {
      "cell_type": "code",
      "metadata": {
        "id": "0apBEsi0Su1a",
        "colab_type": "code",
        "colab": {}
      },
      "source": [
        ""
      ],
      "execution_count": 0,
      "outputs": []
    }
  ]
}